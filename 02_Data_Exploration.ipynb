{
 "cells": [
  {
   "cell_type": "markdown",
   "metadata": {},
   "source": [
    "### Importing Libraries:"
   ]
  },
  {
   "cell_type": "code",
   "execution_count": 1,
   "metadata": {},
   "outputs": [],
   "source": [
    "import pandas as pd \n",
    "import matplotlib.pyplot as plt\n",
    "import seaborn as sns\n",
    "import numpy as np\n",
    "import nltk\n",
    "import re\n",
    "from wordcloud import WordCloud\n",
    "from nltk.corpus import stopwords"
   ]
  },
  {
   "cell_type": "markdown",
   "metadata": {},
   "source": [
    "### Importing dataset :"
   ]
  },
  {
   "cell_type": "code",
   "execution_count": 2,
   "metadata": {},
   "outputs": [],
   "source": [
    "train_news = pd.read_csv('data/train.csv.zip', index_col = False)\n",
    "test_news = pd.read_csv('data/test.csv.zip', index_col = None)"
   ]
  },
  {
   "cell_type": "markdown",
   "metadata": {},
   "source": [
    "### Resulting dataframe"
   ]
  },
  {
   "cell_type": "code",
   "execution_count": 3,
   "metadata": {},
   "outputs": [
    {
     "data": {
      "text/html": [
       "<div>\n",
       "<style scoped>\n",
       "    .dataframe tbody tr th:only-of-type {\n",
       "        vertical-align: middle;\n",
       "    }\n",
       "\n",
       "    .dataframe tbody tr th {\n",
       "        vertical-align: top;\n",
       "    }\n",
       "\n",
       "    .dataframe thead th {\n",
       "        text-align: right;\n",
       "    }\n",
       "</style>\n",
       "<table border=\"1\" class=\"dataframe\">\n",
       "  <thead>\n",
       "    <tr style=\"text-align: right;\">\n",
       "      <th></th>\n",
       "      <th>title</th>\n",
       "      <th>author</th>\n",
       "      <th>text</th>\n",
       "      <th>label</th>\n",
       "    </tr>\n",
       "  </thead>\n",
       "  <tbody>\n",
       "    <tr>\n",
       "      <th>0</th>\n",
       "      <td>House Dem Aide: We Didn’t Even See Comey’s Let...</td>\n",
       "      <td>Darrell Lucus</td>\n",
       "      <td>House Dem Aide: We Didn’t Even See Comey’s Let...</td>\n",
       "      <td>1</td>\n",
       "    </tr>\n",
       "    <tr>\n",
       "      <th>1</th>\n",
       "      <td>FLYNN: Hillary Clinton, Big Woman on Campus - ...</td>\n",
       "      <td>Daniel J. Flynn</td>\n",
       "      <td>Ever get the feeling your life circles the rou...</td>\n",
       "      <td>0</td>\n",
       "    </tr>\n",
       "    <tr>\n",
       "      <th>2</th>\n",
       "      <td>Why the Truth Might Get You Fired</td>\n",
       "      <td>Consortiumnews.com</td>\n",
       "      <td>Why the Truth Might Get You Fired October 29, ...</td>\n",
       "      <td>1</td>\n",
       "    </tr>\n",
       "    <tr>\n",
       "      <th>3</th>\n",
       "      <td>15 Civilians Killed In Single US Airstrike Hav...</td>\n",
       "      <td>Jessica Purkiss</td>\n",
       "      <td>Videos 15 Civilians Killed In Single US Airstr...</td>\n",
       "      <td>1</td>\n",
       "    </tr>\n",
       "    <tr>\n",
       "      <th>4</th>\n",
       "      <td>Iranian woman jailed for fictional unpublished...</td>\n",
       "      <td>Howard Portnoy</td>\n",
       "      <td>Print \\nAn Iranian woman has been sentenced to...</td>\n",
       "      <td>1</td>\n",
       "    </tr>\n",
       "    <tr>\n",
       "      <th>...</th>\n",
       "      <td>...</td>\n",
       "      <td>...</td>\n",
       "      <td>...</td>\n",
       "      <td>...</td>\n",
       "    </tr>\n",
       "    <tr>\n",
       "      <th>20795</th>\n",
       "      <td>Rapper T.I.: Trump a ’Poster Child For White S...</td>\n",
       "      <td>Jerome Hudson</td>\n",
       "      <td>Rapper T. I. unloaded on black celebrities who...</td>\n",
       "      <td>0</td>\n",
       "    </tr>\n",
       "    <tr>\n",
       "      <th>20796</th>\n",
       "      <td>N.F.L. Playoffs: Schedule, Matchups and Odds -...</td>\n",
       "      <td>Benjamin Hoffman</td>\n",
       "      <td>When the Green Bay Packers lost to the Washing...</td>\n",
       "      <td>0</td>\n",
       "    </tr>\n",
       "    <tr>\n",
       "      <th>20797</th>\n",
       "      <td>Macy’s Is Said to Receive Takeover Approach by...</td>\n",
       "      <td>Michael J. de la Merced and Rachel Abrams</td>\n",
       "      <td>The Macy’s of today grew from the union of sev...</td>\n",
       "      <td>0</td>\n",
       "    </tr>\n",
       "    <tr>\n",
       "      <th>20798</th>\n",
       "      <td>NATO, Russia To Hold Parallel Exercises In Bal...</td>\n",
       "      <td>Alex Ansary</td>\n",
       "      <td>NATO, Russia To Hold Parallel Exercises In Bal...</td>\n",
       "      <td>1</td>\n",
       "    </tr>\n",
       "    <tr>\n",
       "      <th>20799</th>\n",
       "      <td>What Keeps the F-35 Alive</td>\n",
       "      <td>David Swanson</td>\n",
       "      <td>David Swanson is an author, activist, journa...</td>\n",
       "      <td>1</td>\n",
       "    </tr>\n",
       "  </tbody>\n",
       "</table>\n",
       "<p>20800 rows × 4 columns</p>\n",
       "</div>"
      ],
      "text/plain": [
       "                                                   title  \\\n",
       "0      House Dem Aide: We Didn’t Even See Comey’s Let...   \n",
       "1      FLYNN: Hillary Clinton, Big Woman on Campus - ...   \n",
       "2                      Why the Truth Might Get You Fired   \n",
       "3      15 Civilians Killed In Single US Airstrike Hav...   \n",
       "4      Iranian woman jailed for fictional unpublished...   \n",
       "...                                                  ...   \n",
       "20795  Rapper T.I.: Trump a ’Poster Child For White S...   \n",
       "20796  N.F.L. Playoffs: Schedule, Matchups and Odds -...   \n",
       "20797  Macy’s Is Said to Receive Takeover Approach by...   \n",
       "20798  NATO, Russia To Hold Parallel Exercises In Bal...   \n",
       "20799                          What Keeps the F-35 Alive   \n",
       "\n",
       "                                          author  \\\n",
       "0                                  Darrell Lucus   \n",
       "1                                Daniel J. Flynn   \n",
       "2                             Consortiumnews.com   \n",
       "3                                Jessica Purkiss   \n",
       "4                                 Howard Portnoy   \n",
       "...                                          ...   \n",
       "20795                              Jerome Hudson   \n",
       "20796                           Benjamin Hoffman   \n",
       "20797  Michael J. de la Merced and Rachel Abrams   \n",
       "20798                                Alex Ansary   \n",
       "20799                              David Swanson   \n",
       "\n",
       "                                                    text  label  \n",
       "0      House Dem Aide: We Didn’t Even See Comey’s Let...      1  \n",
       "1      Ever get the feeling your life circles the rou...      0  \n",
       "2      Why the Truth Might Get You Fired October 29, ...      1  \n",
       "3      Videos 15 Civilians Killed In Single US Airstr...      1  \n",
       "4      Print \\nAn Iranian woman has been sentenced to...      1  \n",
       "...                                                  ...    ...  \n",
       "20795  Rapper T. I. unloaded on black celebrities who...      0  \n",
       "20796  When the Green Bay Packers lost to the Washing...      0  \n",
       "20797  The Macy’s of today grew from the union of sev...      0  \n",
       "20798  NATO, Russia To Hold Parallel Exercises In Bal...      1  \n",
       "20799    David Swanson is an author, activist, journa...      1  \n",
       "\n",
       "[20800 rows x 4 columns]"
      ]
     },
     "execution_count": 3,
     "metadata": {},
     "output_type": "execute_result"
    }
   ],
   "source": [
    "train_news.drop('id', axis = 1)"
   ]
  },
  {
   "cell_type": "markdown",
   "metadata": {},
   "source": [
    "### Dataset Exploration"
   ]
  },
  {
   "cell_type": "code",
   "execution_count": 4,
   "metadata": {},
   "outputs": [
    {
     "name": "stdout",
     "output_type": "stream",
     "text": [
      "<class 'pandas.core.frame.DataFrame'>\n",
      "RangeIndex: 20800 entries, 0 to 20799\n",
      "Data columns (total 5 columns):\n",
      " #   Column  Non-Null Count  Dtype \n",
      "---  ------  --------------  ----- \n",
      " 0   id      20800 non-null  int64 \n",
      " 1   title   20242 non-null  object\n",
      " 2   author  18843 non-null  object\n",
      " 3   text    20761 non-null  object\n",
      " 4   label   20800 non-null  int64 \n",
      "dtypes: int64(2), object(3)\n",
      "memory usage: 812.6+ KB\n"
     ]
    }
   ],
   "source": [
    "train_news.info()"
   ]
  },
  {
   "cell_type": "code",
   "execution_count": 5,
   "metadata": {},
   "outputs": [
    {
     "data": {
      "text/plain": [
       "id           0\n",
       "title      558\n",
       "author    1957\n",
       "text        39\n",
       "label        0\n",
       "dtype: int64"
      ]
     },
     "execution_count": 5,
     "metadata": {},
     "output_type": "execute_result"
    }
   ],
   "source": [
    "train_news.isnull().sum()"
   ]
  },
  {
   "cell_type": "code",
   "execution_count": 6,
   "metadata": {},
   "outputs": [
    {
     "data": {
      "text/plain": [
       "id         int64\n",
       "title     object\n",
       "author    object\n",
       "text      object\n",
       "label      int64\n",
       "dtype: object"
      ]
     },
     "execution_count": 6,
     "metadata": {},
     "output_type": "execute_result"
    }
   ],
   "source": [
    "train_news.dtypes"
   ]
  },
  {
   "cell_type": "markdown",
   "metadata": {},
   "source": [
    "#### Is the dataset balanced?"
   ]
  },
  {
   "cell_type": "code",
   "execution_count": 7,
   "metadata": {},
   "outputs": [
    {
     "data": {
      "text/plain": [
       "1    10413\n",
       "0    10387\n",
       "Name: label, dtype: int64"
      ]
     },
     "execution_count": 7,
     "metadata": {},
     "output_type": "execute_result"
    }
   ],
   "source": [
    "train_news.label.value_counts()"
   ]
  },
  {
   "cell_type": "code",
   "execution_count": 8,
   "metadata": {},
   "outputs": [
    {
     "data": {
      "text/plain": [
       "<matplotlib.axes._subplots.AxesSubplot at 0x135c18a60>"
      ]
     },
     "execution_count": 8,
     "metadata": {},
     "output_type": "execute_result"
    },
    {
     "data": {
      "image/png": "[encoded data removed]",
      "text/plain": [
       "<Figure size 432x288 with 1 Axes>"
      ]
     },
     "metadata": {
      "needs_background": "light"
     },
     "output_type": "display_data"
    }
   ],
   "source": [
    "sns.countplot(train_news['label'])"
   ]
  },
  {
   "cell_type": "code",
   "execution_count": 9,
   "metadata": {},
   "outputs": [],
   "source": [
    "train_news['duplicate'] = train_news.duplicated(subset=['text'])"
   ]
  },
  {
   "cell_type": "code",
   "execution_count": 10,
   "metadata": {},
   "outputs": [
    {
     "data": {
      "text/plain": [
       "duplicate  label\n",
       "False      0        10387\n",
       "           1        10000\n",
       "True       1          413\n",
       "Name: label, dtype: int64"
      ]
     },
     "execution_count": 10,
     "metadata": {},
     "output_type": "execute_result"
    }
   ],
   "source": [
    "train_news.groupby(['duplicate', 'label']).label.count()"
   ]
  },
  {
   "cell_type": "code",
   "execution_count": 11,
   "metadata": {},
   "outputs": [
    {
     "data": {
      "text/plain": [
       "'The dataset is balanced and there are almost no duplicates, also, the data types are correct. \\nThere are several null values that we must take a look into'"
      ]
     },
     "execution_count": 11,
     "metadata": {},
     "output_type": "execute_result"
    }
   ],
   "source": [
    "\"\"\"The dataset is balanced and there are almost no duplicates, also, the data types are correct. \n",
    "There are several null values that we must take a look into\"\"\""
   ]
  },
  {
   "cell_type": "markdown",
   "metadata": {},
   "source": [
    "### Dropping duplicates "
   ]
  },
  {
   "cell_type": "code",
   "execution_count": 44,
   "metadata": {},
   "outputs": [
    {
     "data": {
      "text/html": [
       "<div>\n",
       "<style scoped>\n",
       "    .dataframe tbody tr th:only-of-type {\n",
       "        vertical-align: middle;\n",
       "    }\n",
       "\n",
       "    .dataframe tbody tr th {\n",
       "        vertical-align: top;\n",
       "    }\n",
       "\n",
       "    .dataframe thead th {\n",
       "        text-align: right;\n",
       "    }\n",
       "</style>\n",
       "<table border=\"1\" class=\"dataframe\">\n",
       "  <thead>\n",
       "    <tr style=\"text-align: right;\">\n",
       "      <th></th>\n",
       "      <th>id</th>\n",
       "      <th>title</th>\n",
       "      <th>author</th>\n",
       "      <th>text</th>\n",
       "      <th>label</th>\n",
       "      <th>duplicate</th>\n",
       "    </tr>\n",
       "  </thead>\n",
       "  <tbody>\n",
       "    <tr>\n",
       "      <th>169</th>\n",
       "      <td>169</td>\n",
       "      <td>Mohamad Khweis: Another “Virginia Man” (Palest...</td>\n",
       "      <td>James Fulford</td>\n",
       "      <td>Mohamad Khweis: Another “Virginia Man” (Palest...</td>\n",
       "      <td>1</td>\n",
       "      <td>True</td>\n",
       "    </tr>\n",
       "    <tr>\n",
       "      <th>295</th>\n",
       "      <td>295</td>\n",
       "      <td>A Connecticut Reader Reports Record Voter Regi...</td>\n",
       "      <td>VDARE.com Reader</td>\n",
       "      <td>A Connecticut Reader Reports Record Voter Regi...</td>\n",
       "      <td>1</td>\n",
       "      <td>True</td>\n",
       "    </tr>\n",
       "    <tr>\n",
       "      <th>470</th>\n",
       "      <td>470</td>\n",
       "      <td>BULLETIN: There ARE Righteous Jews For Trump!;...</td>\n",
       "      <td>admin</td>\n",
       "      <td>BULLETIN: There ARE Righteous Jews For Trump!;...</td>\n",
       "      <td>1</td>\n",
       "      <td>True</td>\n",
       "    </tr>\n",
       "    <tr>\n",
       "      <th>480</th>\n",
       "      <td>480</td>\n",
       "      <td>Watch: Muslim ‘Palestinians’ Declare “We follo...</td>\n",
       "      <td>admin</td>\n",
       "      <td>Watch: Muslim ‘Palestinians’ Declare “We follo...</td>\n",
       "      <td>1</td>\n",
       "      <td>True</td>\n",
       "    </tr>\n",
       "    <tr>\n",
       "      <th>592</th>\n",
       "      <td>592</td>\n",
       "      <td>Is your promising internet career over now Vin...</td>\n",
       "      <td>newsbiscuit editorial team</td>\n",
       "      <td>Is your promising internet career over now Vin...</td>\n",
       "      <td>1</td>\n",
       "      <td>True</td>\n",
       "    </tr>\n",
       "    <tr>\n",
       "      <th>...</th>\n",
       "      <td>...</td>\n",
       "      <td>...</td>\n",
       "      <td>...</td>\n",
       "      <td>...</td>\n",
       "      <td>...</td>\n",
       "      <td>...</td>\n",
       "    </tr>\n",
       "    <tr>\n",
       "      <th>20728</th>\n",
       "      <td>20728</td>\n",
       "      <td>Trump warns of World War III if Clinton is ele...</td>\n",
       "      <td>Anonymous</td>\n",
       "      <td>Trump warns of World War III if Clinton is ele...</td>\n",
       "      <td>1</td>\n",
       "      <td>True</td>\n",
       "    </tr>\n",
       "    <tr>\n",
       "      <th>20749</th>\n",
       "      <td>20749</td>\n",
       "      <td>Realities Faced by Black Canadians are a Natio...</td>\n",
       "      <td>Anonymous</td>\n",
       "      <td>Realities Faced by Black Canadians are a Natio...</td>\n",
       "      <td>1</td>\n",
       "      <td>True</td>\n",
       "    </tr>\n",
       "    <tr>\n",
       "      <th>20750</th>\n",
       "      <td>20750</td>\n",
       "      <td>Why Did Four Googles Kill This White?</td>\n",
       "      <td>Andrew Anglin</td>\n",
       "      <td>Why Did Four Googles Kill This White?Migrant C...</td>\n",
       "      <td>1</td>\n",
       "      <td>True</td>\n",
       "    </tr>\n",
       "    <tr>\n",
       "      <th>20754</th>\n",
       "      <td>20754</td>\n",
       "      <td>No More American Thanksgivings</td>\n",
       "      <td>Glen Ford</td>\n",
       "      <td>No More American ThanksgivingsThanksgiving by ...</td>\n",
       "      <td>1</td>\n",
       "      <td>True</td>\n",
       "    </tr>\n",
       "    <tr>\n",
       "      <th>20769</th>\n",
       "      <td>20769</td>\n",
       "      <td>WORLD WAR 3 ▲ Mr.President #004 ▲ xFrozenLPx</td>\n",
       "      <td>Pakalert</td>\n",
       "      <td>WORLD WAR 3 ▲ Mr.President #004 ▲ xFrozenLPxso...</td>\n",
       "      <td>1</td>\n",
       "      <td>True</td>\n",
       "    </tr>\n",
       "  </tbody>\n",
       "</table>\n",
       "<p>344 rows × 6 columns</p>\n",
       "</div>"
      ],
      "text/plain": [
       "          id                                              title  \\\n",
       "169      169  Mohamad Khweis: Another “Virginia Man” (Palest...   \n",
       "295      295  A Connecticut Reader Reports Record Voter Regi...   \n",
       "470      470  BULLETIN: There ARE Righteous Jews For Trump!;...   \n",
       "480      480  Watch: Muslim ‘Palestinians’ Declare “We follo...   \n",
       "592      592  Is your promising internet career over now Vin...   \n",
       "...      ...                                                ...   \n",
       "20728  20728  Trump warns of World War III if Clinton is ele...   \n",
       "20749  20749  Realities Faced by Black Canadians are a Natio...   \n",
       "20750  20750              Why Did Four Googles Kill This White?   \n",
       "20754  20754                     No More American Thanksgivings   \n",
       "20769  20769       WORLD WAR 3 ▲ Mr.President #004 ▲ xFrozenLPx   \n",
       "\n",
       "                           author  \\\n",
       "169                 James Fulford   \n",
       "295              VDARE.com Reader   \n",
       "470                         admin   \n",
       "480                         admin   \n",
       "592    newsbiscuit editorial team   \n",
       "...                           ...   \n",
       "20728                   Anonymous   \n",
       "20749                   Anonymous   \n",
       "20750               Andrew Anglin   \n",
       "20754                   Glen Ford   \n",
       "20769                    Pakalert   \n",
       "\n",
       "                                                    text  label  duplicate  \n",
       "169    Mohamad Khweis: Another “Virginia Man” (Palest...      1       True  \n",
       "295    A Connecticut Reader Reports Record Voter Regi...      1       True  \n",
       "470    BULLETIN: There ARE Righteous Jews For Trump!;...      1       True  \n",
       "480    Watch: Muslim ‘Palestinians’ Declare “We follo...      1       True  \n",
       "592    Is your promising internet career over now Vin...      1       True  \n",
       "...                                                  ...    ...        ...  \n",
       "20728  Trump warns of World War III if Clinton is ele...      1       True  \n",
       "20749  Realities Faced by Black Canadians are a Natio...      1       True  \n",
       "20750  Why Did Four Googles Kill This White?Migrant C...      1       True  \n",
       "20754  No More American ThanksgivingsThanksgiving by ...      1       True  \n",
       "20769  WORLD WAR 3 ▲ Mr.President #004 ▲ xFrozenLPxso...      1       True  \n",
       "\n",
       "[344 rows x 6 columns]"
      ]
     },
     "execution_count": 44,
     "metadata": {},
     "output_type": "execute_result"
    }
   ],
   "source": [
    "train_news.loc[train_news['duplicate'] == True]"
   ]
  },
  {
   "cell_type": "code",
   "execution_count": 48,
   "metadata": {},
   "outputs": [],
   "source": [
    "train_news = train_news.drop((train_news.loc[train_news['duplicate'] == True].index))"
   ]
  },
  {
   "cell_type": "markdown",
   "metadata": {},
   "source": [
    "#### Treating Null Values"
   ]
  },
  {
   "cell_type": "code",
   "execution_count": 12,
   "metadata": {},
   "outputs": [
    {
     "data": {
      "text/plain": [
       "id              0\n",
       "title         558\n",
       "author       1957\n",
       "text           39\n",
       "label           0\n",
       "duplicate       0\n",
       "dtype: int64"
      ]
     },
     "execution_count": 12,
     "metadata": {},
     "output_type": "execute_result"
    }
   ],
   "source": [
    "train_news.isnull().sum()"
   ]
  },
  {
   "cell_type": "code",
   "execution_count": 13,
   "metadata": {},
   "outputs": [
    {
     "data": {
      "text/html": [
       "<div>\n",
       "<style scoped>\n",
       "    .dataframe tbody tr th:only-of-type {\n",
       "        vertical-align: middle;\n",
       "    }\n",
       "\n",
       "    .dataframe tbody tr th {\n",
       "        vertical-align: top;\n",
       "    }\n",
       "\n",
       "    .dataframe thead th {\n",
       "        text-align: right;\n",
       "    }\n",
       "</style>\n",
       "<table border=\"1\" class=\"dataframe\">\n",
       "  <thead>\n",
       "    <tr style=\"text-align: right;\">\n",
       "      <th></th>\n",
       "      <th>id</th>\n",
       "      <th>title</th>\n",
       "      <th>author</th>\n",
       "      <th>text</th>\n",
       "      <th>label</th>\n",
       "      <th>duplicate</th>\n",
       "    </tr>\n",
       "  </thead>\n",
       "  <tbody>\n",
       "    <tr>\n",
       "      <th>142</th>\n",
       "      <td>142</td>\n",
       "      <td>Gorafi Magazine : Entretien exclusif avec Bara...</td>\n",
       "      <td>NaN</td>\n",
       "      <td>NaN</td>\n",
       "      <td>1</td>\n",
       "      <td>False</td>\n",
       "    </tr>\n",
       "    <tr>\n",
       "      <th>573</th>\n",
       "      <td>573</td>\n",
       "      <td>Le top des recherches Google passe en top des ...</td>\n",
       "      <td>NaN</td>\n",
       "      <td>NaN</td>\n",
       "      <td>1</td>\n",
       "      <td>True</td>\n",
       "    </tr>\n",
       "    <tr>\n",
       "      <th>1200</th>\n",
       "      <td>1200</td>\n",
       "      <td>La Corée du Nord annonce avoir envoyé un missi...</td>\n",
       "      <td>NaN</td>\n",
       "      <td>NaN</td>\n",
       "      <td>1</td>\n",
       "      <td>True</td>\n",
       "    </tr>\n",
       "    <tr>\n",
       "      <th>1911</th>\n",
       "      <td>1911</td>\n",
       "      <td>Grand-Prix du Brésil – Romain Grosjean obtient...</td>\n",
       "      <td>NaN</td>\n",
       "      <td>NaN</td>\n",
       "      <td>1</td>\n",
       "      <td>True</td>\n",
       "    </tr>\n",
       "    <tr>\n",
       "      <th>2148</th>\n",
       "      <td>2148</td>\n",
       "      <td>Gorafi Magazine: Barack Obama « Je vous ai déj...</td>\n",
       "      <td>NaN</td>\n",
       "      <td>NaN</td>\n",
       "      <td>1</td>\n",
       "      <td>True</td>\n",
       "    </tr>\n",
       "    <tr>\n",
       "      <th>2169</th>\n",
       "      <td>2169</td>\n",
       "      <td>#NDDL: Pour fêter l’autorisation des travaux, ...</td>\n",
       "      <td>NaN</td>\n",
       "      <td>NaN</td>\n",
       "      <td>1</td>\n",
       "      <td>True</td>\n",
       "    </tr>\n",
       "    <tr>\n",
       "      <th>2793</th>\n",
       "      <td>2793</td>\n",
       "      <td>«Pourquoi je suis candidat à la présidentielle...</td>\n",
       "      <td>NaN</td>\n",
       "      <td>NaN</td>\n",
       "      <td>1</td>\n",
       "      <td>True</td>\n",
       "    </tr>\n",
       "    <tr>\n",
       "      <th>3329</th>\n",
       "      <td>3329</td>\n",
       "      <td>GuinessBook : 100 millions d’Américains batten...</td>\n",
       "      <td>NaN</td>\n",
       "      <td>NaN</td>\n",
       "      <td>1</td>\n",
       "      <td>True</td>\n",
       "    </tr>\n",
       "    <tr>\n",
       "      <th>3729</th>\n",
       "      <td>3729</td>\n",
       "      <td>Les Américains ne sont plus qu’à quelques heur...</td>\n",
       "      <td>NaN</td>\n",
       "      <td>NaN</td>\n",
       "      <td>1</td>\n",
       "      <td>True</td>\n",
       "    </tr>\n",
       "    <tr>\n",
       "      <th>4288</th>\n",
       "      <td>4288</td>\n",
       "      <td>Hillary Clinton en 5 dates &gt;&gt; Le Gorafi</td>\n",
       "      <td>NaN</td>\n",
       "      <td>NaN</td>\n",
       "      <td>1</td>\n",
       "      <td>True</td>\n",
       "    </tr>\n",
       "    <tr>\n",
       "      <th>4358</th>\n",
       "      <td>4358</td>\n",
       "      <td>Ne supportant plus l’ambiance de la campagne é...</td>\n",
       "      <td>NaN</td>\n",
       "      <td>NaN</td>\n",
       "      <td>1</td>\n",
       "      <td>True</td>\n",
       "    </tr>\n",
       "    <tr>\n",
       "      <th>5717</th>\n",
       "      <td>5717</td>\n",
       "      <td>SPA : Enfermé depuis trois jours dans une cage...</td>\n",
       "      <td>NaN</td>\n",
       "      <td>NaN</td>\n",
       "      <td>1</td>\n",
       "      <td>True</td>\n",
       "    </tr>\n",
       "    <tr>\n",
       "      <th>6215</th>\n",
       "      <td>6215</td>\n",
       "      <td>New-York – Le lâcher de confettis prévu à Time...</td>\n",
       "      <td>NaN</td>\n",
       "      <td>NaN</td>\n",
       "      <td>1</td>\n",
       "      <td>True</td>\n",
       "    </tr>\n",
       "    <tr>\n",
       "      <th>6680</th>\n",
       "      <td>6680</td>\n",
       "      <td>Débat Primaire de la Droite : les Français pas...</td>\n",
       "      <td>NaN</td>\n",
       "      <td>NaN</td>\n",
       "      <td>1</td>\n",
       "      <td>True</td>\n",
       "    </tr>\n",
       "    <tr>\n",
       "      <th>8649</th>\n",
       "      <td>8649</td>\n",
       "      <td>Donald Trump s’excuse pour toutes les minorité...</td>\n",
       "      <td>NaN</td>\n",
       "      <td>NaN</td>\n",
       "      <td>1</td>\n",
       "      <td>True</td>\n",
       "    </tr>\n",
       "    <tr>\n",
       "      <th>8908</th>\n",
       "      <td>8908</td>\n",
       "      <td>“Notre batal a coulé” par l’homme qui fait des...</td>\n",
       "      <td>NaN</td>\n",
       "      <td>NaN</td>\n",
       "      <td>1</td>\n",
       "      <td>True</td>\n",
       "    </tr>\n",
       "    <tr>\n",
       "      <th>8922</th>\n",
       "      <td>8922</td>\n",
       "      <td>La Trump Tower cambriolée – les voleurs seraie...</td>\n",
       "      <td>NaN</td>\n",
       "      <td>NaN</td>\n",
       "      <td>1</td>\n",
       "      <td>True</td>\n",
       "    </tr>\n",
       "    <tr>\n",
       "      <th>9350</th>\n",
       "      <td>9350</td>\n",
       "      <td>La Russie a profité de l’élection américaine p...</td>\n",
       "      <td>NaN</td>\n",
       "      <td>NaN</td>\n",
       "      <td>1</td>\n",
       "      <td>True</td>\n",
       "    </tr>\n",
       "    <tr>\n",
       "      <th>9446</th>\n",
       "      <td>9446</td>\n",
       "      <td>Trop essoufflé après avoir cherché ses affaire...</td>\n",
       "      <td>NaN</td>\n",
       "      <td>NaN</td>\n",
       "      <td>1</td>\n",
       "      <td>True</td>\n",
       "    </tr>\n",
       "    <tr>\n",
       "      <th>9454</th>\n",
       "      <td>9454</td>\n",
       "      <td>Il saoule tout le monde avec son analyse polit...</td>\n",
       "      <td>NaN</td>\n",
       "      <td>NaN</td>\n",
       "      <td>1</td>\n",
       "      <td>True</td>\n",
       "    </tr>\n",
       "    <tr>\n",
       "      <th>9524</th>\n",
       "      <td>9524</td>\n",
       "      <td>Elections US : les premières estimations donne...</td>\n",
       "      <td>NaN</td>\n",
       "      <td>NaN</td>\n",
       "      <td>1</td>\n",
       "      <td>True</td>\n",
       "    </tr>\n",
       "    <tr>\n",
       "      <th>10466</th>\n",
       "      <td>10466</td>\n",
       "      <td>Sur Twitter, Donald Trump se félicite d’avoir ...</td>\n",
       "      <td>NaN</td>\n",
       "      <td>NaN</td>\n",
       "      <td>1</td>\n",
       "      <td>True</td>\n",
       "    </tr>\n",
       "    <tr>\n",
       "      <th>10867</th>\n",
       "      <td>10867</td>\n",
       "      <td>Live Soirée présidentielle US 2016 &gt;&gt; Le Gorafi</td>\n",
       "      <td>NaN</td>\n",
       "      <td>NaN</td>\n",
       "      <td>1</td>\n",
       "      <td>True</td>\n",
       "    </tr>\n",
       "    <tr>\n",
       "      <th>11450</th>\n",
       "      <td>11450</td>\n",
       "      <td>Vladimir Poutine est élu 45e Président des Eta...</td>\n",
       "      <td>NaN</td>\n",
       "      <td>NaN</td>\n",
       "      <td>1</td>\n",
       "      <td>True</td>\n",
       "    </tr>\n",
       "    <tr>\n",
       "      <th>11486</th>\n",
       "      <td>11486</td>\n",
       "      <td>Pour booster les ventes, Dassault offre un por...</td>\n",
       "      <td>NaN</td>\n",
       "      <td>NaN</td>\n",
       "      <td>1</td>\n",
       "      <td>True</td>\n",
       "    </tr>\n",
       "    <tr>\n",
       "      <th>12056</th>\n",
       "      <td>12056</td>\n",
       "      <td>Après le succès de « Mariés au premier regard ...</td>\n",
       "      <td>NaN</td>\n",
       "      <td>NaN</td>\n",
       "      <td>1</td>\n",
       "      <td>True</td>\n",
       "    </tr>\n",
       "    <tr>\n",
       "      <th>12460</th>\n",
       "      <td>12460</td>\n",
       "      <td>La voyante lisait l’avenir dans les cartes ble...</td>\n",
       "      <td>NaN</td>\n",
       "      <td>NaN</td>\n",
       "      <td>1</td>\n",
       "      <td>True</td>\n",
       "    </tr>\n",
       "    <tr>\n",
       "      <th>12835</th>\n",
       "      <td>12835</td>\n",
       "      <td>[Vidéo] Découvrez le Gorafi de l’Année 2017 &gt;&gt;...</td>\n",
       "      <td>NaN</td>\n",
       "      <td>NaN</td>\n",
       "      <td>1</td>\n",
       "      <td>True</td>\n",
       "    </tr>\n",
       "    <tr>\n",
       "      <th>13020</th>\n",
       "      <td>13020</td>\n",
       "      <td>Horoscope du 21 novembre 2016 &gt;&gt; Le Gorafi</td>\n",
       "      <td>NaN</td>\n",
       "      <td>NaN</td>\n",
       "      <td>1</td>\n",
       "      <td>True</td>\n",
       "    </tr>\n",
       "    <tr>\n",
       "      <th>13107</th>\n",
       "      <td>13107</td>\n",
       "      <td>Les gardes-frontières se mettent en alerte pou...</td>\n",
       "      <td>NaN</td>\n",
       "      <td>NaN</td>\n",
       "      <td>1</td>\n",
       "      <td>True</td>\n",
       "    </tr>\n",
       "    <tr>\n",
       "      <th>13915</th>\n",
       "      <td>13915</td>\n",
       "      <td>Elle met en fuite un braqueur en lui jetant de...</td>\n",
       "      <td>NaN</td>\n",
       "      <td>NaN</td>\n",
       "      <td>1</td>\n",
       "      <td>True</td>\n",
       "    </tr>\n",
       "    <tr>\n",
       "      <th>14499</th>\n",
       "      <td>14499</td>\n",
       "      <td>Primaire – François Fillon se désiste au profi...</td>\n",
       "      <td>NaN</td>\n",
       "      <td>NaN</td>\n",
       "      <td>1</td>\n",
       "      <td>True</td>\n",
       "    </tr>\n",
       "    <tr>\n",
       "      <th>14933</th>\n",
       "      <td>14933</td>\n",
       "      <td>La sortie du dernier livre inédit du Gorafi éc...</td>\n",
       "      <td>NaN</td>\n",
       "      <td>NaN</td>\n",
       "      <td>1</td>\n",
       "      <td>True</td>\n",
       "    </tr>\n",
       "    <tr>\n",
       "      <th>16126</th>\n",
       "      <td>16126</td>\n",
       "      <td>Vendée Globe – Un skipper fait demi-tour après...</td>\n",
       "      <td>NaN</td>\n",
       "      <td>NaN</td>\n",
       "      <td>1</td>\n",
       "      <td>True</td>\n",
       "    </tr>\n",
       "    <tr>\n",
       "      <th>18479</th>\n",
       "      <td>18479</td>\n",
       "      <td>Il se fait cryogéniser dans l’espoir de voir u...</td>\n",
       "      <td>NaN</td>\n",
       "      <td>NaN</td>\n",
       "      <td>1</td>\n",
       "      <td>True</td>\n",
       "    </tr>\n",
       "    <tr>\n",
       "      <th>18757</th>\n",
       "      <td>18757</td>\n",
       "      <td>Donald Trump en 5 dates &gt;&gt; Le Gorafi</td>\n",
       "      <td>NaN</td>\n",
       "      <td>NaN</td>\n",
       "      <td>1</td>\n",
       "      <td>True</td>\n",
       "    </tr>\n",
       "    <tr>\n",
       "      <th>19157</th>\n",
       "      <td>19157</td>\n",
       "      <td>110% des Américains assurent qu’ils continuero...</td>\n",
       "      <td>NaN</td>\n",
       "      <td>NaN</td>\n",
       "      <td>1</td>\n",
       "      <td>True</td>\n",
       "    </tr>\n",
       "    <tr>\n",
       "      <th>19227</th>\n",
       "      <td>19227</td>\n",
       "      <td>Des millions d’Américains recherchent massivem...</td>\n",
       "      <td>NaN</td>\n",
       "      <td>NaN</td>\n",
       "      <td>1</td>\n",
       "      <td>True</td>\n",
       "    </tr>\n",
       "    <tr>\n",
       "      <th>19388</th>\n",
       "      <td>19388</td>\n",
       "      <td>Heureux et souriant, il a la chance de toujour...</td>\n",
       "      <td>NaN</td>\n",
       "      <td>NaN</td>\n",
       "      <td>1</td>\n",
       "      <td>True</td>\n",
       "    </tr>\n",
       "  </tbody>\n",
       "</table>\n",
       "</div>"
      ],
      "text/plain": [
       "          id                                              title author text  \\\n",
       "142      142  Gorafi Magazine : Entretien exclusif avec Bara...    NaN  NaN   \n",
       "573      573  Le top des recherches Google passe en top des ...    NaN  NaN   \n",
       "1200    1200  La Corée du Nord annonce avoir envoyé un missi...    NaN  NaN   \n",
       "1911    1911  Grand-Prix du Brésil – Romain Grosjean obtient...    NaN  NaN   \n",
       "2148    2148  Gorafi Magazine: Barack Obama « Je vous ai déj...    NaN  NaN   \n",
       "2169    2169  #NDDL: Pour fêter l’autorisation des travaux, ...    NaN  NaN   \n",
       "2793    2793  «Pourquoi je suis candidat à la présidentielle...    NaN  NaN   \n",
       "3329    3329  GuinessBook : 100 millions d’Américains batten...    NaN  NaN   \n",
       "3729    3729  Les Américains ne sont plus qu’à quelques heur...    NaN  NaN   \n",
       "4288    4288            Hillary Clinton en 5 dates >> Le Gorafi    NaN  NaN   \n",
       "4358    4358  Ne supportant plus l’ambiance de la campagne é...    NaN  NaN   \n",
       "5717    5717  SPA : Enfermé depuis trois jours dans une cage...    NaN  NaN   \n",
       "6215    6215  New-York – Le lâcher de confettis prévu à Time...    NaN  NaN   \n",
       "6680    6680  Débat Primaire de la Droite : les Français pas...    NaN  NaN   \n",
       "8649    8649  Donald Trump s’excuse pour toutes les minorité...    NaN  NaN   \n",
       "8908    8908  “Notre batal a coulé” par l’homme qui fait des...    NaN  NaN   \n",
       "8922    8922  La Trump Tower cambriolée – les voleurs seraie...    NaN  NaN   \n",
       "9350    9350  La Russie a profité de l’élection américaine p...    NaN  NaN   \n",
       "9446    9446  Trop essoufflé après avoir cherché ses affaire...    NaN  NaN   \n",
       "9454    9454  Il saoule tout le monde avec son analyse polit...    NaN  NaN   \n",
       "9524    9524  Elections US : les premières estimations donne...    NaN  NaN   \n",
       "10466  10466  Sur Twitter, Donald Trump se félicite d’avoir ...    NaN  NaN   \n",
       "10867  10867    Live Soirée présidentielle US 2016 >> Le Gorafi    NaN  NaN   \n",
       "11450  11450  Vladimir Poutine est élu 45e Président des Eta...    NaN  NaN   \n",
       "11486  11486  Pour booster les ventes, Dassault offre un por...    NaN  NaN   \n",
       "12056  12056  Après le succès de « Mariés au premier regard ...    NaN  NaN   \n",
       "12460  12460  La voyante lisait l’avenir dans les cartes ble...    NaN  NaN   \n",
       "12835  12835  [Vidéo] Découvrez le Gorafi de l’Année 2017 >>...    NaN  NaN   \n",
       "13020  13020         Horoscope du 21 novembre 2016 >> Le Gorafi    NaN  NaN   \n",
       "13107  13107  Les gardes-frontières se mettent en alerte pou...    NaN  NaN   \n",
       "13915  13915  Elle met en fuite un braqueur en lui jetant de...    NaN  NaN   \n",
       "14499  14499  Primaire – François Fillon se désiste au profi...    NaN  NaN   \n",
       "14933  14933  La sortie du dernier livre inédit du Gorafi éc...    NaN  NaN   \n",
       "16126  16126  Vendée Globe – Un skipper fait demi-tour après...    NaN  NaN   \n",
       "18479  18479  Il se fait cryogéniser dans l’espoir de voir u...    NaN  NaN   \n",
       "18757  18757               Donald Trump en 5 dates >> Le Gorafi    NaN  NaN   \n",
       "19157  19157  110% des Américains assurent qu’ils continuero...    NaN  NaN   \n",
       "19227  19227  Des millions d’Américains recherchent massivem...    NaN  NaN   \n",
       "19388  19388  Heureux et souriant, il a la chance de toujour...    NaN  NaN   \n",
       "\n",
       "       label  duplicate  \n",
       "142        1      False  \n",
       "573        1       True  \n",
       "1200       1       True  \n",
       "1911       1       True  \n",
       "2148       1       True  \n",
       "2169       1       True  \n",
       "2793       1       True  \n",
       "3329       1       True  \n",
       "3729       1       True  \n",
       "4288       1       True  \n",
       "4358       1       True  \n",
       "5717       1       True  \n",
       "6215       1       True  \n",
       "6680       1       True  \n",
       "8649       1       True  \n",
       "8908       1       True  \n",
       "8922       1       True  \n",
       "9350       1       True  \n",
       "9446       1       True  \n",
       "9454       1       True  \n",
       "9524       1       True  \n",
       "10466      1       True  \n",
       "10867      1       True  \n",
       "11450      1       True  \n",
       "11486      1       True  \n",
       "12056      1       True  \n",
       "12460      1       True  \n",
       "12835      1       True  \n",
       "13020      1       True  \n",
       "13107      1       True  \n",
       "13915      1       True  \n",
       "14499      1       True  \n",
       "14933      1       True  \n",
       "16126      1       True  \n",
       "18479      1       True  \n",
       "18757      1       True  \n",
       "19157      1       True  \n",
       "19227      1       True  \n",
       "19388      1       True  "
      ]
     },
     "execution_count": 13,
     "metadata": {},
     "output_type": "execute_result"
    }
   ],
   "source": [
    "train_news.loc[train_news['text'].isnull()]"
   ]
  },
  {
   "cell_type": "markdown",
   "metadata": {},
   "source": [
    "All this news have no text or author + they are in french, which would make our algorithm to work innacurately since most of our news are in english. We will then drop this rows. "
   ]
  },
  {
   "cell_type": "code",
   "execution_count": 14,
   "metadata": {},
   "outputs": [],
   "source": [
    "train_news = train_news.drop((train_news.loc[train_news['text'].isnull()].index).copy())"
   ]
  },
  {
   "cell_type": "code",
   "execution_count": 15,
   "metadata": {},
   "outputs": [
    {
     "data": {
      "text/html": [
       "<div>\n",
       "<style scoped>\n",
       "    .dataframe tbody tr th:only-of-type {\n",
       "        vertical-align: middle;\n",
       "    }\n",
       "\n",
       "    .dataframe tbody tr th {\n",
       "        vertical-align: top;\n",
       "    }\n",
       "\n",
       "    .dataframe thead th {\n",
       "        text-align: right;\n",
       "    }\n",
       "</style>\n",
       "<table border=\"1\" class=\"dataframe\">\n",
       "  <thead>\n",
       "    <tr style=\"text-align: right;\">\n",
       "      <th></th>\n",
       "      <th>id</th>\n",
       "      <th>title</th>\n",
       "      <th>author</th>\n",
       "      <th>text</th>\n",
       "      <th>label</th>\n",
       "      <th>duplicate</th>\n",
       "    </tr>\n",
       "  </thead>\n",
       "  <tbody>\n",
       "    <tr>\n",
       "      <th>6</th>\n",
       "      <td>6</td>\n",
       "      <td>Life: Life Of Luxury: Elton John’s 6 Favorite ...</td>\n",
       "      <td>NaN</td>\n",
       "      <td>Ever wonder how Britain’s most iconic pop pian...</td>\n",
       "      <td>1</td>\n",
       "      <td>False</td>\n",
       "    </tr>\n",
       "    <tr>\n",
       "      <th>8</th>\n",
       "      <td>8</td>\n",
       "      <td>Excerpts From a Draft Script for Donald Trump’...</td>\n",
       "      <td>NaN</td>\n",
       "      <td>Donald J. Trump is scheduled to make a highly ...</td>\n",
       "      <td>0</td>\n",
       "      <td>False</td>\n",
       "    </tr>\n",
       "    <tr>\n",
       "      <th>20</th>\n",
       "      <td>20</td>\n",
       "      <td>News: Hope For The GOP: A Nude Paul Ryan Has J...</td>\n",
       "      <td>NaN</td>\n",
       "      <td>Email \\nSince Donald Trump entered the electio...</td>\n",
       "      <td>1</td>\n",
       "      <td>False</td>\n",
       "    </tr>\n",
       "    <tr>\n",
       "      <th>23</th>\n",
       "      <td>23</td>\n",
       "      <td>Massachusetts Cop’s Wife Busted for Pinning Fa...</td>\n",
       "      <td>NaN</td>\n",
       "      <td>Massachusetts Cop’s Wife Busted for Pinning Fa...</td>\n",
       "      <td>1</td>\n",
       "      <td>False</td>\n",
       "    </tr>\n",
       "    <tr>\n",
       "      <th>31</th>\n",
       "      <td>31</td>\n",
       "      <td>Israel is Becoming Pivotal to China’s Mid-East...</td>\n",
       "      <td>NaN</td>\n",
       "      <td>Country: Israel While China is silently playin...</td>\n",
       "      <td>1</td>\n",
       "      <td>False</td>\n",
       "    </tr>\n",
       "    <tr>\n",
       "      <th>...</th>\n",
       "      <td>...</td>\n",
       "      <td>...</td>\n",
       "      <td>...</td>\n",
       "      <td>...</td>\n",
       "      <td>...</td>\n",
       "      <td>...</td>\n",
       "    </tr>\n",
       "    <tr>\n",
       "      <th>20718</th>\n",
       "      <td>20718</td>\n",
       "      <td>This Is The Best Picture In Human History | Da...</td>\n",
       "      <td>NaN</td>\n",
       "      <td>This Is The Best Picture In Human History By: ...</td>\n",
       "      <td>1</td>\n",
       "      <td>False</td>\n",
       "    </tr>\n",
       "    <tr>\n",
       "      <th>20728</th>\n",
       "      <td>20728</td>\n",
       "      <td>Trump warns of World War III if Clinton is ele...</td>\n",
       "      <td>NaN</td>\n",
       "      <td>Email Donald Trump warned in an interview Tues...</td>\n",
       "      <td>1</td>\n",
       "      <td>True</td>\n",
       "    </tr>\n",
       "    <tr>\n",
       "      <th>20745</th>\n",
       "      <td>20745</td>\n",
       "      <td>Thomas Frank Explores Whether Hillary Clinton ...</td>\n",
       "      <td>NaN</td>\n",
       "      <td>Thomas Frank Explores Whether Hillary Clinton ...</td>\n",
       "      <td>1</td>\n",
       "      <td>False</td>\n",
       "    </tr>\n",
       "    <tr>\n",
       "      <th>20768</th>\n",
       "      <td>20768</td>\n",
       "      <td>Osama bin Laden’s older brother rents out luxu...</td>\n",
       "      <td>NaN</td>\n",
       "      <td>Osama bin Laden’s older brother rents out luxu...</td>\n",
       "      <td>1</td>\n",
       "      <td>False</td>\n",
       "    </tr>\n",
       "    <tr>\n",
       "      <th>20786</th>\n",
       "      <td>20786</td>\n",
       "      <td>Government Forces Advancing at Damascus-Aleppo...</td>\n",
       "      <td>NaN</td>\n",
       "      <td>#FROMTHEFRONT #MAPS 22.11.2016 - 1,361 views 5...</td>\n",
       "      <td>1</td>\n",
       "      <td>False</td>\n",
       "    </tr>\n",
       "  </tbody>\n",
       "</table>\n",
       "<p>1918 rows × 6 columns</p>\n",
       "</div>"
      ],
      "text/plain": [
       "          id                                              title author  \\\n",
       "6          6  Life: Life Of Luxury: Elton John’s 6 Favorite ...    NaN   \n",
       "8          8  Excerpts From a Draft Script for Donald Trump’...    NaN   \n",
       "20        20  News: Hope For The GOP: A Nude Paul Ryan Has J...    NaN   \n",
       "23        23  Massachusetts Cop’s Wife Busted for Pinning Fa...    NaN   \n",
       "31        31  Israel is Becoming Pivotal to China’s Mid-East...    NaN   \n",
       "...      ...                                                ...    ...   \n",
       "20718  20718  This Is The Best Picture In Human History | Da...    NaN   \n",
       "20728  20728  Trump warns of World War III if Clinton is ele...    NaN   \n",
       "20745  20745  Thomas Frank Explores Whether Hillary Clinton ...    NaN   \n",
       "20768  20768  Osama bin Laden’s older brother rents out luxu...    NaN   \n",
       "20786  20786  Government Forces Advancing at Damascus-Aleppo...    NaN   \n",
       "\n",
       "                                                    text  label  duplicate  \n",
       "6      Ever wonder how Britain’s most iconic pop pian...      1      False  \n",
       "8      Donald J. Trump is scheduled to make a highly ...      0      False  \n",
       "20     Email \\nSince Donald Trump entered the electio...      1      False  \n",
       "23     Massachusetts Cop’s Wife Busted for Pinning Fa...      1      False  \n",
       "31     Country: Israel While China is silently playin...      1      False  \n",
       "...                                                  ...    ...        ...  \n",
       "20718  This Is The Best Picture In Human History By: ...      1      False  \n",
       "20728  Email Donald Trump warned in an interview Tues...      1       True  \n",
       "20745  Thomas Frank Explores Whether Hillary Clinton ...      1      False  \n",
       "20768  Osama bin Laden’s older brother rents out luxu...      1      False  \n",
       "20786  #FROMTHEFRONT #MAPS 22.11.2016 - 1,361 views 5...      1      False  \n",
       "\n",
       "[1918 rows x 6 columns]"
      ]
     },
     "execution_count": 15,
     "metadata": {},
     "output_type": "execute_result"
    }
   ],
   "source": [
    "train_news.loc[train_news['author'].isnull()]"
   ]
  },
  {
   "cell_type": "code",
   "execution_count": 16,
   "metadata": {},
   "outputs": [
    {
     "data": {
      "text/plain": [
       "'The author column is not on our other dataset, so it should be too important, however we are going to \\nsee if the Fake News are the ones without author'"
      ]
     },
     "execution_count": 16,
     "metadata": {},
     "output_type": "execute_result"
    }
   ],
   "source": [
    "\"\"\"The author column is not on our other dataset, so it should be too important, however we are going to \n",
    "see if the Fake News are the ones without author\"\"\""
   ]
  },
  {
   "cell_type": "code",
   "execution_count": 17,
   "metadata": {},
   "outputs": [
    {
     "data": {
      "text/plain": [
       "1    1892\n",
       "0      26\n",
       "Name: label, dtype: int64"
      ]
     },
     "execution_count": 17,
     "metadata": {},
     "output_type": "execute_result"
    }
   ],
   "source": [
    "train_news.loc[train_news['author'].isnull()]['label'].value_counts()"
   ]
  },
  {
   "cell_type": "code",
   "execution_count": 18,
   "metadata": {},
   "outputs": [
    {
     "data": {
      "text/plain": [
       "<matplotlib.axes._subplots.AxesSubplot at 0x1350211f0>"
      ]
     },
     "execution_count": 18,
     "metadata": {},
     "output_type": "execute_result"
    },
    {
     "data": {
      "image/png": "[encoded data removed]",
      "text/plain": [
       "<Figure size 432x288 with 1 Axes>"
      ]
     },
     "metadata": {
      "needs_background": "light"
     },
     "output_type": "display_data"
    }
   ],
   "source": [
    "sns.countplot(train_news.loc[train_news['author'].isnull()]['label'])"
   ]
  },
  {
   "cell_type": "code",
   "execution_count": 19,
   "metadata": {},
   "outputs": [
    {
     "data": {
      "text/plain": [
       "'Most of the news that have not an author are fake. So instead dropping this lines, we are going to replace them \\nwith the value Anonymous, since it could be a key column for our algorithm'"
      ]
     },
     "execution_count": 19,
     "metadata": {},
     "output_type": "execute_result"
    }
   ],
   "source": [
    "'''Most of the news that have not an author are fake. So instead dropping this lines, we are going to replace them \n",
    "with the value Anonymous, since it could be a key column for our algorithm'''"
   ]
  },
  {
   "cell_type": "code",
   "execution_count": 25,
   "metadata": {},
   "outputs": [],
   "source": [
    "train_news['author'] = train_news['author'].replace(np.nan, 'Anonymous').copy()"
   ]
  },
  {
   "cell_type": "code",
   "execution_count": 26,
   "metadata": {},
   "outputs": [
    {
     "data": {
      "text/plain": [
       "id             0\n",
       "title        558\n",
       "author         0\n",
       "text           0\n",
       "label          0\n",
       "duplicate      0\n",
       "dtype: int64"
      ]
     },
     "execution_count": 26,
     "metadata": {},
     "output_type": "execute_result"
    }
   ],
   "source": [
    "train_news.isnull().sum()"
   ]
  },
  {
   "cell_type": "markdown",
   "metadata": {},
   "source": [
    "Last, we have to treat the null values from the title. Let's check out how many rows also come from an Anonymous source. In that case, we will drop them because the information provided originally was too little. \n",
    "Otherwise, we won't drop them since the title and the text are going to be analized together."
   ]
  },
  {
   "cell_type": "code",
   "execution_count": 28,
   "metadata": {
    "scrolled": true
   },
   "outputs": [
    {
     "data": {
      "text/html": [
       "<div>\n",
       "<style scoped>\n",
       "    .dataframe tbody tr th:only-of-type {\n",
       "        vertical-align: middle;\n",
       "    }\n",
       "\n",
       "    .dataframe tbody tr th {\n",
       "        vertical-align: top;\n",
       "    }\n",
       "\n",
       "    .dataframe thead th {\n",
       "        text-align: right;\n",
       "    }\n",
       "</style>\n",
       "<table border=\"1\" class=\"dataframe\">\n",
       "  <thead>\n",
       "    <tr style=\"text-align: right;\">\n",
       "      <th></th>\n",
       "      <th>id</th>\n",
       "      <th>title</th>\n",
       "      <th>author</th>\n",
       "      <th>text</th>\n",
       "      <th>label</th>\n",
       "      <th>duplicate</th>\n",
       "    </tr>\n",
       "  </thead>\n",
       "  <tbody>\n",
       "    <tr>\n",
       "      <th>120</th>\n",
       "      <td>120</td>\n",
       "      <td>NaN</td>\n",
       "      <td>Anonymous</td>\n",
       "      <td>Same people all the time , i dont know how you...</td>\n",
       "      <td>1</td>\n",
       "      <td>False</td>\n",
       "    </tr>\n",
       "    <tr>\n",
       "      <th>140</th>\n",
       "      <td>140</td>\n",
       "      <td>NaN</td>\n",
       "      <td>Anonymous</td>\n",
       "      <td>There is a lot more than meets the eye to this...</td>\n",
       "      <td>1</td>\n",
       "      <td>False</td>\n",
       "    </tr>\n",
       "    <tr>\n",
       "      <th>562</th>\n",
       "      <td>562</td>\n",
       "      <td>NaN</td>\n",
       "      <td>Anonymous</td>\n",
       "      <td>Field is correct about the 8a companies and Tr...</td>\n",
       "      <td>1</td>\n",
       "      <td>False</td>\n",
       "    </tr>\n",
       "    <tr>\n",
       "      <th>1292</th>\n",
       "      <td>1292</td>\n",
       "      <td>NaN</td>\n",
       "      <td>Anonymous</td>\n",
       "      <td>Same people all the time , i dont know how you...</td>\n",
       "      <td>1</td>\n",
       "      <td>True</td>\n",
       "    </tr>\n",
       "    <tr>\n",
       "      <th>1322</th>\n",
       "      <td>1322</td>\n",
       "      <td>NaN</td>\n",
       "      <td>Anonymous</td>\n",
       "      <td>Georg Soros the good oil . http://mailstar.net...</td>\n",
       "      <td>1</td>\n",
       "      <td>False</td>\n",
       "    </tr>\n",
       "    <tr>\n",
       "      <th>...</th>\n",
       "      <td>...</td>\n",
       "      <td>...</td>\n",
       "      <td>...</td>\n",
       "      <td>...</td>\n",
       "      <td>...</td>\n",
       "      <td>...</td>\n",
       "    </tr>\n",
       "    <tr>\n",
       "      <th>17780</th>\n",
       "      <td>17780</td>\n",
       "      <td>NaN</td>\n",
       "      <td>Anonymous</td>\n",
       "      <td>The second video (bottom one ) proves what Tru...</td>\n",
       "      <td>1</td>\n",
       "      <td>True</td>\n",
       "    </tr>\n",
       "    <tr>\n",
       "      <th>18109</th>\n",
       "      <td>18109</td>\n",
       "      <td>NaN</td>\n",
       "      <td>Anonymous</td>\n",
       "      <td>yOU HAVE TO DRAW THE LINE SOMEWHERE AND CHILD ...</td>\n",
       "      <td>1</td>\n",
       "      <td>True</td>\n",
       "    </tr>\n",
       "    <tr>\n",
       "      <th>18720</th>\n",
       "      <td>18720</td>\n",
       "      <td>NaN</td>\n",
       "      <td>Anonymous</td>\n",
       "      <td>There is plenty of proof the machines are rigg...</td>\n",
       "      <td>1</td>\n",
       "      <td>True</td>\n",
       "    </tr>\n",
       "    <tr>\n",
       "      <th>18903</th>\n",
       "      <td>18903</td>\n",
       "      <td>NaN</td>\n",
       "      <td>Anonymous</td>\n",
       "      <td>There are lots of diiferent truths , when i he...</td>\n",
       "      <td>1</td>\n",
       "      <td>False</td>\n",
       "    </tr>\n",
       "    <tr>\n",
       "      <th>19171</th>\n",
       "      <td>19171</td>\n",
       "      <td>NaN</td>\n",
       "      <td>Anonymous</td>\n",
       "      <td>Same people all the time , i dont know how you...</td>\n",
       "      <td>1</td>\n",
       "      <td>True</td>\n",
       "    </tr>\n",
       "  </tbody>\n",
       "</table>\n",
       "<p>61 rows × 6 columns</p>\n",
       "</div>"
      ],
      "text/plain": [
       "          id title     author  \\\n",
       "120      120   NaN  Anonymous   \n",
       "140      140   NaN  Anonymous   \n",
       "562      562   NaN  Anonymous   \n",
       "1292    1292   NaN  Anonymous   \n",
       "1322    1322   NaN  Anonymous   \n",
       "...      ...   ...        ...   \n",
       "17780  17780   NaN  Anonymous   \n",
       "18109  18109   NaN  Anonymous   \n",
       "18720  18720   NaN  Anonymous   \n",
       "18903  18903   NaN  Anonymous   \n",
       "19171  19171   NaN  Anonymous   \n",
       "\n",
       "                                                    text  label  duplicate  \n",
       "120    Same people all the time , i dont know how you...      1      False  \n",
       "140    There is a lot more than meets the eye to this...      1      False  \n",
       "562    Field is correct about the 8a companies and Tr...      1      False  \n",
       "1292   Same people all the time , i dont know how you...      1       True  \n",
       "1322   Georg Soros the good oil . http://mailstar.net...      1      False  \n",
       "...                                                  ...    ...        ...  \n",
       "17780  The second video (bottom one ) proves what Tru...      1       True  \n",
       "18109  yOU HAVE TO DRAW THE LINE SOMEWHERE AND CHILD ...      1       True  \n",
       "18720  There is plenty of proof the machines are rigg...      1       True  \n",
       "18903  There are lots of diiferent truths , when i he...      1      False  \n",
       "19171  Same people all the time , i dont know how you...      1       True  \n",
       "\n",
       "[61 rows x 6 columns]"
      ]
     },
     "execution_count": 28,
     "metadata": {},
     "output_type": "execute_result"
    }
   ],
   "source": [
    "train_news.loc[(train_news['title'].isnull()) & (train_news['author'] == 'Anonymous')]"
   ]
  },
  {
   "cell_type": "code",
   "execution_count": 29,
   "metadata": {
    "scrolled": true
   },
   "outputs": [
    {
     "data": {
      "text/plain": [
       "<matplotlib.axes._subplots.AxesSubplot at 0x10dbb0e50>"
      ]
     },
     "execution_count": 29,
     "metadata": {},
     "output_type": "execute_result"
    },
    {
     "data": {
      "image/png": "[encoded data removed]",
      "text/plain": [
       "<Figure size 432x288 with 1 Axes>"
      ]
     },
     "metadata": {
      "needs_background": "light"
     },
     "output_type": "display_data"
    }
   ],
   "source": [
    "sns.countplot(train_news.loc[(train_news['title'].isnull()) & (train_news['author'] == 'Anonymous')]['label'])"
   ]
  },
  {
   "cell_type": "code",
   "execution_count": 39,
   "metadata": {},
   "outputs": [],
   "source": [
    "#dropping these rows\n",
    "\n",
    "train_news = train_news.drop((train_news.loc[(train_news['title'].isnull()) & (train_news['author'] == 'Anonymous')].index))"
   ]
  },
  {
   "cell_type": "code",
   "execution_count": 40,
   "metadata": {},
   "outputs": [
    {
     "data": {
      "text/plain": [
       "id             0\n",
       "title        497\n",
       "author         0\n",
       "text           0\n",
       "label          0\n",
       "duplicate      0\n",
       "dtype: int64"
      ]
     },
     "execution_count": 40,
     "metadata": {},
     "output_type": "execute_result"
    }
   ],
   "source": [
    "train_news.isnull().sum()"
   ]
  },
  {
   "cell_type": "raw",
   "metadata": {},
   "source": [
    "Merging title and text together"
   ]
  },
  {
   "cell_type": "code",
   "execution_count": 42,
   "metadata": {},
   "outputs": [],
   "source": [
    "train_news['text'] = train_news['title'] + train_news['text']"
   ]
  },
  {
   "cell_type": "markdown",
   "metadata": {},
   "source": [
    "### Resulting dataset"
   ]
  },
  {
   "cell_type": "code",
   "execution_count": 51,
   "metadata": {},
   "outputs": [],
   "source": [
    "train_news = train_news.drop(['id', 'title','duplicate'], axis=1)"
   ]
  },
  {
   "cell_type": "code",
   "execution_count": 52,
   "metadata": {},
   "outputs": [
    {
     "data": {
      "text/html": [
       "<div>\n",
       "<style scoped>\n",
       "    .dataframe tbody tr th:only-of-type {\n",
       "        vertical-align: middle;\n",
       "    }\n",
       "\n",
       "    .dataframe tbody tr th {\n",
       "        vertical-align: top;\n",
       "    }\n",
       "\n",
       "    .dataframe thead th {\n",
       "        text-align: right;\n",
       "    }\n",
       "</style>\n",
       "<table border=\"1\" class=\"dataframe\">\n",
       "  <thead>\n",
       "    <tr style=\"text-align: right;\">\n",
       "      <th></th>\n",
       "      <th>author</th>\n",
       "      <th>text</th>\n",
       "      <th>label</th>\n",
       "    </tr>\n",
       "  </thead>\n",
       "  <tbody>\n",
       "    <tr>\n",
       "      <th>0</th>\n",
       "      <td>Darrell Lucus</td>\n",
       "      <td>House Dem Aide: We Didn’t Even See Comey’s Let...</td>\n",
       "      <td>1</td>\n",
       "    </tr>\n",
       "    <tr>\n",
       "      <th>1</th>\n",
       "      <td>Daniel J. Flynn</td>\n",
       "      <td>FLYNN: Hillary Clinton, Big Woman on Campus - ...</td>\n",
       "      <td>0</td>\n",
       "    </tr>\n",
       "    <tr>\n",
       "      <th>2</th>\n",
       "      <td>Consortiumnews.com</td>\n",
       "      <td>Why the Truth Might Get You FiredWhy the Truth...</td>\n",
       "      <td>1</td>\n",
       "    </tr>\n",
       "    <tr>\n",
       "      <th>3</th>\n",
       "      <td>Jessica Purkiss</td>\n",
       "      <td>15 Civilians Killed In Single US Airstrike Hav...</td>\n",
       "      <td>1</td>\n",
       "    </tr>\n",
       "    <tr>\n",
       "      <th>4</th>\n",
       "      <td>Howard Portnoy</td>\n",
       "      <td>Iranian woman jailed for fictional unpublished...</td>\n",
       "      <td>1</td>\n",
       "    </tr>\n",
       "  </tbody>\n",
       "</table>\n",
       "</div>"
      ],
      "text/plain": [
       "               author                                               text  \\\n",
       "0       Darrell Lucus  House Dem Aide: We Didn’t Even See Comey’s Let...   \n",
       "1     Daniel J. Flynn  FLYNN: Hillary Clinton, Big Woman on Campus - ...   \n",
       "2  Consortiumnews.com  Why the Truth Might Get You FiredWhy the Truth...   \n",
       "3     Jessica Purkiss  15 Civilians Killed In Single US Airstrike Hav...   \n",
       "4      Howard Portnoy  Iranian woman jailed for fictional unpublished...   \n",
       "\n",
       "   label  \n",
       "0      1  \n",
       "1      0  \n",
       "2      1  \n",
       "3      1  \n",
       "4      1  "
      ]
     },
     "execution_count": 52,
     "metadata": {},
     "output_type": "execute_result"
    }
   ],
   "source": [
    "train_news.head()"
   ]
  },
  {
   "cell_type": "code",
   "execution_count": null,
   "metadata": {},
   "outputs": [],
   "source": []
  }
 ],
 "metadata": {
  "kernelspec": {
   "display_name": "Python 3",
   "language": "python",
   "name": "python3"
  },
  "language_info": {
   "codemirror_mode": {
    "name": "ipython",
    "version": 3
   },
   "file_extension": ".py",
   "mimetype": "text/x-python",
   "name": "python",
   "nbconvert_exporter": "python",
   "pygments_lexer": "ipython3",
   "version": "3.8.2"
  }
 },
 "nbformat": 4,
 "nbformat_minor": 4
}
