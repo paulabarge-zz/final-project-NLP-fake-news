{
 "cells": [
  {
   "cell_type": "code",
   "execution_count": 145,
   "metadata": {},
   "outputs": [],
   "source": [
    "#impoting regular libraries\n",
    "\n",
    "import pandas as pd\n",
    "import numpy as np\n",
    "import re\n",
    "import matplotlib.pyplot as plt"
   ]
  },
  {
   "cell_type": "code",
   "execution_count": 54,
   "metadata": {},
   "outputs": [
    {
     "name": "stderr",
     "output_type": "stream",
     "text": [
      "/usr/local/Cellar/jupyterlab/2.1.2/libexec/lib/python3.8/site-packages/tqdm/std.py:699: FutureWarning: The Panel class is removed from pandas. Accessing it from the top-level namespace will also be removed in the next version\n",
      "  from pandas import Panel\n"
     ]
    }
   ],
   "source": [
    "import pickle\n",
    "\n",
    "#----------------------------------------\n",
    "\n",
    "from tqdm import tqdm\n",
    "\n",
    "tqdm.pandas()"
   ]
  },
  {
   "cell_type": "code",
   "execution_count": 130,
   "metadata": {},
   "outputs": [],
   "source": [
    "# Importing libraries and packages for the preprocessing\n",
    "\n",
    "#nltk\n",
    "from nltk.stem import WordNetLemmatizer #normalization library\n",
    "from nltk.tokenize import RegexpTokenizer # tokenizer library\n",
    "import nltk\n",
    "from nltk.corpus import stopwords\n",
    "\n",
    "#spacy\n",
    "import spacy #deep learning nlp preprocesser\n",
    "import string #punctuation library\n",
    "from spacy.lang.en.stop_words import STOP_WORDS #importing stop words library\n",
    "\n",
    "#tfidf\n",
    "from sklearn.feature_extraction.text import TfidfVectorizer #tfid matrix\n",
    "\n",
    "\n",
    "#sklearn\n",
    "from sklearn.model_selection import train_test_split \n",
    "from sklearn.pipeline import Pipeline\n",
    "import sklearn.metrics as metrics\n",
    "from sklearn.metrics import accuracy_score, classification_report, confusion_matrix, mean_squared_error\n",
    "from sklearn.svm import LinearSVC #model 1 \n",
    "from sklearn.naive_bayes import MultinomialNB #model2\n",
    "from sklearn.linear_model import LogisticRegression #model3\n",
    "from sklearn.ensemble import RandomForestClassifier #model4"
   ]
  },
  {
   "cell_type": "markdown",
   "metadata": {},
   "source": [
    "# Loading the dataset"
   ]
  },
  {
   "cell_type": "code",
   "execution_count": 25,
   "metadata": {},
   "outputs": [],
   "source": [
    "df1 = pd.read_csv('data/clean_news.csv', index_col = False )"
   ]
  },
  {
   "cell_type": "code",
   "execution_count": 26,
   "metadata": {},
   "outputs": [],
   "source": [
    "df2 = pd.read_csv('data/clean_news_notitle.csv', index_col = False )"
   ]
  },
  {
   "cell_type": "code",
   "execution_count": 27,
   "metadata": {},
   "outputs": [],
   "source": [
    "df1 = df1.drop(['Unnamed: 0'], axis=1).copy()\n",
    "df2 = df2.drop(['Unnamed: 0'], axis=1).copy()"
   ]
  },
  {
   "cell_type": "code",
   "execution_count": 28,
   "metadata": {},
   "outputs": [
    {
     "data": {
      "text/html": [
       "<div>\n",
       "<style scoped>\n",
       "    .dataframe tbody tr th:only-of-type {\n",
       "        vertical-align: middle;\n",
       "    }\n",
       "\n",
       "    .dataframe tbody tr th {\n",
       "        vertical-align: top;\n",
       "    }\n",
       "\n",
       "    .dataframe thead th {\n",
       "        text-align: right;\n",
       "    }\n",
       "</style>\n",
       "<table border=\"1\" class=\"dataframe\">\n",
       "  <thead>\n",
       "    <tr style=\"text-align: right;\">\n",
       "      <th></th>\n",
       "      <th>title</th>\n",
       "      <th>text</th>\n",
       "      <th>author</th>\n",
       "      <th>label</th>\n",
       "    </tr>\n",
       "  </thead>\n",
       "  <tbody>\n",
       "    <tr>\n",
       "      <th>0</th>\n",
       "      <td>House Dem Aide: We Didn’t Even See Comey’s Let...</td>\n",
       "      <td>House Dem Aide: We Didn’t Even See Comey’s Let...</td>\n",
       "      <td>0</td>\n",
       "      <td>1</td>\n",
       "    </tr>\n",
       "    <tr>\n",
       "      <th>1</th>\n",
       "      <td>FLYNN: Hillary Clinton, Big Woman on Campus - ...</td>\n",
       "      <td>Ever get the feeling your life circles the rou...</td>\n",
       "      <td>0</td>\n",
       "      <td>0</td>\n",
       "    </tr>\n",
       "    <tr>\n",
       "      <th>2</th>\n",
       "      <td>Why the Truth Might Get You Fired</td>\n",
       "      <td>Why the Truth Might Get You Fired October 29, ...</td>\n",
       "      <td>1</td>\n",
       "      <td>1</td>\n",
       "    </tr>\n",
       "    <tr>\n",
       "      <th>3</th>\n",
       "      <td>15 Civilians Killed In Single US Airstrike Hav...</td>\n",
       "      <td>Videos 15 Civilians Killed In Single US Airstr...</td>\n",
       "      <td>0</td>\n",
       "      <td>1</td>\n",
       "    </tr>\n",
       "    <tr>\n",
       "      <th>4</th>\n",
       "      <td>Iranian woman jailed for fictional unpublished...</td>\n",
       "      <td>Print \\nAn Iranian woman has been sentenced to...</td>\n",
       "      <td>0</td>\n",
       "      <td>1</td>\n",
       "    </tr>\n",
       "  </tbody>\n",
       "</table>\n",
       "</div>"
      ],
      "text/plain": [
       "                                               title  \\\n",
       "0  House Dem Aide: We Didn’t Even See Comey’s Let...   \n",
       "1  FLYNN: Hillary Clinton, Big Woman on Campus - ...   \n",
       "2                  Why the Truth Might Get You Fired   \n",
       "3  15 Civilians Killed In Single US Airstrike Hav...   \n",
       "4  Iranian woman jailed for fictional unpublished...   \n",
       "\n",
       "                                                text  author  label  \n",
       "0  House Dem Aide: We Didn’t Even See Comey’s Let...       0      1  \n",
       "1  Ever get the feeling your life circles the rou...       0      0  \n",
       "2  Why the Truth Might Get You Fired October 29, ...       1      1  \n",
       "3  Videos 15 Civilians Killed In Single US Airstr...       0      1  \n",
       "4  Print \\nAn Iranian woman has been sentenced to...       0      1  "
      ]
     },
     "execution_count": 28,
     "metadata": {},
     "output_type": "execute_result"
    }
   ],
   "source": [
    "df1.head()"
   ]
  },
  {
   "cell_type": "code",
   "execution_count": 29,
   "metadata": {},
   "outputs": [
    {
     "data": {
      "text/html": [
       "<div>\n",
       "<style scoped>\n",
       "    .dataframe tbody tr th:only-of-type {\n",
       "        vertical-align: middle;\n",
       "    }\n",
       "\n",
       "    .dataframe tbody tr th {\n",
       "        vertical-align: top;\n",
       "    }\n",
       "\n",
       "    .dataframe thead th {\n",
       "        text-align: right;\n",
       "    }\n",
       "</style>\n",
       "<table border=\"1\" class=\"dataframe\">\n",
       "  <thead>\n",
       "    <tr style=\"text-align: right;\">\n",
       "      <th></th>\n",
       "      <th>author</th>\n",
       "      <th>text</th>\n",
       "      <th>label</th>\n",
       "    </tr>\n",
       "  </thead>\n",
       "  <tbody>\n",
       "    <tr>\n",
       "      <th>0</th>\n",
       "      <td>0</td>\n",
       "      <td>House Dem Aide: We Didn’t Even See Comey’s Let...</td>\n",
       "      <td>1</td>\n",
       "    </tr>\n",
       "    <tr>\n",
       "      <th>1</th>\n",
       "      <td>0</td>\n",
       "      <td>Ever get the feeling your life circles the rou...</td>\n",
       "      <td>0</td>\n",
       "    </tr>\n",
       "    <tr>\n",
       "      <th>2</th>\n",
       "      <td>1</td>\n",
       "      <td>Why the Truth Might Get You Fired October 29, ...</td>\n",
       "      <td>1</td>\n",
       "    </tr>\n",
       "    <tr>\n",
       "      <th>3</th>\n",
       "      <td>0</td>\n",
       "      <td>Videos 15 Civilians Killed In Single US Airstr...</td>\n",
       "      <td>1</td>\n",
       "    </tr>\n",
       "    <tr>\n",
       "      <th>4</th>\n",
       "      <td>0</td>\n",
       "      <td>Print \\nAn Iranian woman has been sentenced to...</td>\n",
       "      <td>1</td>\n",
       "    </tr>\n",
       "  </tbody>\n",
       "</table>\n",
       "</div>"
      ],
      "text/plain": [
       "   author                                               text  label\n",
       "0       0  House Dem Aide: We Didn’t Even See Comey’s Let...      1\n",
       "1       0  Ever get the feeling your life circles the rou...      0\n",
       "2       1  Why the Truth Might Get You Fired October 29, ...      1\n",
       "3       0  Videos 15 Civilians Killed In Single US Airstr...      1\n",
       "4       0  Print \\nAn Iranian woman has been sentenced to...      1"
      ]
     },
     "execution_count": 29,
     "metadata": {},
     "output_type": "execute_result"
    }
   ],
   "source": [
    "df2.head()"
   ]
  },
  {
   "cell_type": "code",
   "execution_count": 30,
   "metadata": {},
   "outputs": [],
   "source": [
    "text_clean = pd.read_pickle('./data/cleaned_text.pkl')"
   ]
  },
  {
   "cell_type": "code",
   "execution_count": 31,
   "metadata": {},
   "outputs": [
    {
     "data": {
      "text/plain": [
       "0    [house, dem, aide, comey, letter, jason, chaff...\n",
       "1    [feeling, life, circle, roundabout, head, stra...\n",
       "2    [truth, fire, october, 29, 2016, tension, inte...\n",
       "3    [videos, 15, civilian, kill, single, airstrike...\n",
       "4    [print, iranian, woman, sentence, year, prison...\n",
       "Name: text, dtype: object"
      ]
     },
     "execution_count": 31,
     "metadata": {},
     "output_type": "execute_result"
    }
   ],
   "source": [
    "text_clean.head()"
   ]
  },
  {
   "cell_type": "code",
   "execution_count": 32,
   "metadata": {},
   "outputs": [],
   "source": [
    "title_clean = pd.read_pickle('./data/cleaned_title.pkl')"
   ]
  },
  {
   "cell_type": "code",
   "execution_count": 33,
   "metadata": {},
   "outputs": [
    {
     "data": {
      "text/plain": [
       "0    [house, dem, aide, comey, letter, jason, chaff...\n",
       "1    [flynn, hillary, clinton, big, woman, campus, ...\n",
       "2                           [truth, fire, truth, fire]\n",
       "3    [15, civilians, kill, single, airstrike, ident...\n",
       "4    [iranian, woman, jail, fictional, unpublished,...\n",
       "Name: title, dtype: object"
      ]
     },
     "execution_count": 33,
     "metadata": {},
     "output_type": "execute_result"
    }
   ],
   "source": [
    "title_clean.head()"
   ]
  },
  {
   "cell_type": "markdown",
   "metadata": {},
   "source": [
    "# Preprocessing our data\n",
    "Since our data is all text, we have to convert it to numbers so we can then try different classification models. \n",
    "\n",
    "To do so, we are going to tokenize, normalize, remove stop words and then convert it to a TF-IDF matrix. First, we divide our data in target and data."
   ]
  },
  {
   "cell_type": "markdown",
   "metadata": {},
   "source": [
    "# Preprocess our data using nltk\n",
    "\n",
    "Chopping a character sequence into pieces and throwing away commas, punctuation marks,etc."
   ]
  },
  {
   "cell_type": "code",
   "execution_count": 49,
   "metadata": {},
   "outputs": [],
   "source": [
    "from nltk.corpus import stopwords\n",
    "\n",
    "def preprocess_text(text):\n",
    "    # Tokenise words while ignoring punctuation\n",
    "    tokeniser = RegexpTokenizer(r'\\w+')\n",
    "    tokens = tokeniser.tokenize(text)\n",
    "    \n",
    "    # Lowercase and lemmatise \n",
    "    lemmatiser = WordNetLemmatizer()\n",
    "    lemmas = [lemmatiser.lemmatize(token.lower(), pos='v') for token in tokens]\n",
    "    \n",
    "    # Remove stopwords\n",
    "    stopwords = set(stopwords.words('english'))\n",
    "    keywords= [lemma for lemma in lemmas if lemma not in stopwords]\n",
    "    return keywords\n"
   ]
  },
  {
   "cell_type": "code",
   "execution_count": null,
   "metadata": {},
   "outputs": [],
   "source": [
    "df1['text'] = [preprocess_text(row)for row in df1['text']]    "
   ]
  },
  {
   "cell_type": "markdown",
   "metadata": {},
   "source": [
    "# Preprocessing data with Spacy"
   ]
  },
  {
   "cell_type": "markdown",
   "metadata": {},
   "source": [
    "We performed this text in the topic modeling stage so we are going to use those datasets already:"
   ]
  },
  {
   "cell_type": "code",
   "execution_count": 40,
   "metadata": {},
   "outputs": [],
   "source": [
    "#defining variables for punctuation and stop words \n",
    "punct = string.punctuation\n",
    "stopwords = list(STOP_WORDS)\n",
    "stopwords.append(['·','»','«','–','...','--'])\n",
    "    \n",
    "    #declaring the spacy model name we are going to be using and loading it\n",
    "spacy_model_name = 'en_core_web_sm'\n",
    "\n",
    "    #if not spacy.util.is_package(spacy_model_name):\n",
    "        #spacy.cli.download(spacy_model_name)\n",
    "nlp = spacy.load(spacy_model_name)\n",
    "    \n",
    "    \n",
    "#cleaning text function (try to import it instead!)\n",
    "def cleaning_news(article):\n",
    "    \n",
    "    doc = nlp(article)\n",
    "    \n",
    "    #turning the articles into tokens and lowering the case and lemmatizing them\n",
    "    tokens = []\n",
    "    for token in doc:\n",
    "        if token.lemma_ != \"-PRON-\":\n",
    "            temp = token.lemma_.lower().strip()\n",
    "        else:\n",
    "            temp = token.lower_\n",
    "        tokens.append(temp)\n",
    "    \n",
    "    #storing clean tokens which aren't stopwords in a list.\n",
    "    cleaned_tokens = []\n",
    "    for token in tokens:\n",
    "        if token not in stopwords and token not in punct:\n",
    "            cleaned_tokens.append(token)\n",
    "            \n",
    "    #double cleaning tokens to eliminate any trace of punctuation and signs:\n",
    "    pat = r'[^a-zA-z.,!?/:;\\\"\\'\\s]'\n",
    "    cleantokens = cleaned_tokens.copy()\n",
    "    for word in cleaned_tokens:\n",
    "        word = re.sub(pat, '', word)\n",
    "        cleantokens.append(word)\n",
    "        for word in cleantokens: \n",
    "            if word == '':\n",
    "                cleantokens.remove('')\n",
    "                \n",
    "\n",
    "    return cleantokens"
   ]
  },
  {
   "cell_type": "markdown",
   "metadata": {},
   "source": [
    "# Vectorizing our datasets"
   ]
  },
  {
   "cell_type": "markdown",
   "metadata": {},
   "source": [
    "# 1. Turning our articles into Vectors with the TF-IDF matrix"
   ]
  },
  {
   "cell_type": "markdown",
   "metadata": {},
   "source": [
    "#### - Treating nltk preprocessed columns"
   ]
  },
  {
   "cell_type": "code",
   "execution_count": 45,
   "metadata": {},
   "outputs": [],
   "source": [
    "tfidf = TfidfVectorizer(analyzer=preprocess_text) #vectorizer function nltk"
   ]
  },
  {
   "cell_type": "code",
   "execution_count": 50,
   "metadata": {},
   "outputs": [],
   "source": [
    "#applying the tfidf function to each of the text columns \n",
    "title_nltk = tfidf.fit_transform(df1['title'])\n",
    "text_nltk = tfidf.fit_transform(df1['text'])"
   ]
  },
  {
   "cell_type": "code",
   "execution_count": 51,
   "metadata": {},
   "outputs": [
    {
     "data": {
      "text/plain": [
       "((19348, 16131), (19348, 115909))"
      ]
     },
     "execution_count": 51,
     "metadata": {},
     "output_type": "execute_result"
    }
   ],
   "source": [
    "title_nltk.shape, text_nltk.shape"
   ]
  },
  {
   "cell_type": "code",
   "execution_count": 72,
   "metadata": {},
   "outputs": [],
   "source": [
    "title_spacy_nltk = pd.DataFrame.sparse.from_spmatrix(title_nltk)"
   ]
  },
  {
   "cell_type": "code",
   "execution_count": 73,
   "metadata": {},
   "outputs": [],
   "source": [
    "text_spacy_nltk = pd.DataFrame.sparse.from_spmatrix(text_nltk)"
   ]
  },
  {
   "cell_type": "code",
   "execution_count": 75,
   "metadata": {},
   "outputs": [
    {
     "data": {
      "text/html": [
       "<div>\n",
       "<style scoped>\n",
       "    .dataframe tbody tr th:only-of-type {\n",
       "        vertical-align: middle;\n",
       "    }\n",
       "\n",
       "    .dataframe tbody tr th {\n",
       "        vertical-align: top;\n",
       "    }\n",
       "\n",
       "    .dataframe thead th {\n",
       "        text-align: right;\n",
       "    }\n",
       "</style>\n",
       "<table border=\"1\" class=\"dataframe\">\n",
       "  <thead>\n",
       "    <tr style=\"text-align: right;\">\n",
       "      <th></th>\n",
       "      <th>0</th>\n",
       "      <th>1</th>\n",
       "      <th>2</th>\n",
       "      <th>3</th>\n",
       "      <th>4</th>\n",
       "      <th>5</th>\n",
       "      <th>6</th>\n",
       "      <th>7</th>\n",
       "      <th>8</th>\n",
       "      <th>9</th>\n",
       "      <th>...</th>\n",
       "      <th>115899</th>\n",
       "      <th>115900</th>\n",
       "      <th>115901</th>\n",
       "      <th>115902</th>\n",
       "      <th>115903</th>\n",
       "      <th>115904</th>\n",
       "      <th>115905</th>\n",
       "      <th>115906</th>\n",
       "      <th>115907</th>\n",
       "      <th>115908</th>\n",
       "    </tr>\n",
       "  </thead>\n",
       "  <tbody>\n",
       "    <tr>\n",
       "      <th>0</th>\n",
       "      <td>0.0</td>\n",
       "      <td>0.0</td>\n",
       "      <td>0.000000</td>\n",
       "      <td>0.0</td>\n",
       "      <td>0.0</td>\n",
       "      <td>0.0</td>\n",
       "      <td>0.0</td>\n",
       "      <td>0.0</td>\n",
       "      <td>0.0</td>\n",
       "      <td>0.0</td>\n",
       "      <td>...</td>\n",
       "      <td>0.0</td>\n",
       "      <td>0.0</td>\n",
       "      <td>0.0</td>\n",
       "      <td>0.0</td>\n",
       "      <td>0.0</td>\n",
       "      <td>0.0</td>\n",
       "      <td>0.0</td>\n",
       "      <td>0.0</td>\n",
       "      <td>0.0</td>\n",
       "      <td>0.0</td>\n",
       "    </tr>\n",
       "    <tr>\n",
       "      <th>1</th>\n",
       "      <td>0.0</td>\n",
       "      <td>0.0</td>\n",
       "      <td>0.000000</td>\n",
       "      <td>0.0</td>\n",
       "      <td>0.0</td>\n",
       "      <td>0.0</td>\n",
       "      <td>0.0</td>\n",
       "      <td>0.0</td>\n",
       "      <td>0.0</td>\n",
       "      <td>0.0</td>\n",
       "      <td>...</td>\n",
       "      <td>0.0</td>\n",
       "      <td>0.0</td>\n",
       "      <td>0.0</td>\n",
       "      <td>0.0</td>\n",
       "      <td>0.0</td>\n",
       "      <td>0.0</td>\n",
       "      <td>0.0</td>\n",
       "      <td>0.0</td>\n",
       "      <td>0.0</td>\n",
       "      <td>0.0</td>\n",
       "    </tr>\n",
       "    <tr>\n",
       "      <th>2</th>\n",
       "      <td>0.0</td>\n",
       "      <td>0.0</td>\n",
       "      <td>0.000000</td>\n",
       "      <td>0.0</td>\n",
       "      <td>0.0</td>\n",
       "      <td>0.0</td>\n",
       "      <td>0.0</td>\n",
       "      <td>0.0</td>\n",
       "      <td>0.0</td>\n",
       "      <td>0.0</td>\n",
       "      <td>...</td>\n",
       "      <td>0.0</td>\n",
       "      <td>0.0</td>\n",
       "      <td>0.0</td>\n",
       "      <td>0.0</td>\n",
       "      <td>0.0</td>\n",
       "      <td>0.0</td>\n",
       "      <td>0.0</td>\n",
       "      <td>0.0</td>\n",
       "      <td>0.0</td>\n",
       "      <td>0.0</td>\n",
       "    </tr>\n",
       "    <tr>\n",
       "      <th>3</th>\n",
       "      <td>0.0</td>\n",
       "      <td>0.0</td>\n",
       "      <td>0.000000</td>\n",
       "      <td>0.0</td>\n",
       "      <td>0.0</td>\n",
       "      <td>0.0</td>\n",
       "      <td>0.0</td>\n",
       "      <td>0.0</td>\n",
       "      <td>0.0</td>\n",
       "      <td>0.0</td>\n",
       "      <td>...</td>\n",
       "      <td>0.0</td>\n",
       "      <td>0.0</td>\n",
       "      <td>0.0</td>\n",
       "      <td>0.0</td>\n",
       "      <td>0.0</td>\n",
       "      <td>0.0</td>\n",
       "      <td>0.0</td>\n",
       "      <td>0.0</td>\n",
       "      <td>0.0</td>\n",
       "      <td>0.0</td>\n",
       "    </tr>\n",
       "    <tr>\n",
       "      <th>4</th>\n",
       "      <td>0.0</td>\n",
       "      <td>0.0</td>\n",
       "      <td>0.000000</td>\n",
       "      <td>0.0</td>\n",
       "      <td>0.0</td>\n",
       "      <td>0.0</td>\n",
       "      <td>0.0</td>\n",
       "      <td>0.0</td>\n",
       "      <td>0.0</td>\n",
       "      <td>0.0</td>\n",
       "      <td>...</td>\n",
       "      <td>0.0</td>\n",
       "      <td>0.0</td>\n",
       "      <td>0.0</td>\n",
       "      <td>0.0</td>\n",
       "      <td>0.0</td>\n",
       "      <td>0.0</td>\n",
       "      <td>0.0</td>\n",
       "      <td>0.0</td>\n",
       "      <td>0.0</td>\n",
       "      <td>0.0</td>\n",
       "    </tr>\n",
       "    <tr>\n",
       "      <th>...</th>\n",
       "      <td>...</td>\n",
       "      <td>...</td>\n",
       "      <td>...</td>\n",
       "      <td>...</td>\n",
       "      <td>...</td>\n",
       "      <td>...</td>\n",
       "      <td>...</td>\n",
       "      <td>...</td>\n",
       "      <td>...</td>\n",
       "      <td>...</td>\n",
       "      <td>...</td>\n",
       "      <td>...</td>\n",
       "      <td>...</td>\n",
       "      <td>...</td>\n",
       "      <td>...</td>\n",
       "      <td>...</td>\n",
       "      <td>...</td>\n",
       "      <td>...</td>\n",
       "      <td>...</td>\n",
       "      <td>...</td>\n",
       "      <td>...</td>\n",
       "    </tr>\n",
       "    <tr>\n",
       "      <th>19343</th>\n",
       "      <td>0.0</td>\n",
       "      <td>0.0</td>\n",
       "      <td>0.000000</td>\n",
       "      <td>0.0</td>\n",
       "      <td>0.0</td>\n",
       "      <td>0.0</td>\n",
       "      <td>0.0</td>\n",
       "      <td>0.0</td>\n",
       "      <td>0.0</td>\n",
       "      <td>0.0</td>\n",
       "      <td>...</td>\n",
       "      <td>0.0</td>\n",
       "      <td>0.0</td>\n",
       "      <td>0.0</td>\n",
       "      <td>0.0</td>\n",
       "      <td>0.0</td>\n",
       "      <td>0.0</td>\n",
       "      <td>0.0</td>\n",
       "      <td>0.0</td>\n",
       "      <td>0.0</td>\n",
       "      <td>0.0</td>\n",
       "    </tr>\n",
       "    <tr>\n",
       "      <th>19344</th>\n",
       "      <td>0.0</td>\n",
       "      <td>0.0</td>\n",
       "      <td>0.000000</td>\n",
       "      <td>0.0</td>\n",
       "      <td>0.0</td>\n",
       "      <td>0.0</td>\n",
       "      <td>0.0</td>\n",
       "      <td>0.0</td>\n",
       "      <td>0.0</td>\n",
       "      <td>0.0</td>\n",
       "      <td>...</td>\n",
       "      <td>0.0</td>\n",
       "      <td>0.0</td>\n",
       "      <td>0.0</td>\n",
       "      <td>0.0</td>\n",
       "      <td>0.0</td>\n",
       "      <td>0.0</td>\n",
       "      <td>0.0</td>\n",
       "      <td>0.0</td>\n",
       "      <td>0.0</td>\n",
       "      <td>0.0</td>\n",
       "    </tr>\n",
       "    <tr>\n",
       "      <th>19345</th>\n",
       "      <td>0.0</td>\n",
       "      <td>0.0</td>\n",
       "      <td>0.012537</td>\n",
       "      <td>0.0</td>\n",
       "      <td>0.0</td>\n",
       "      <td>0.0</td>\n",
       "      <td>0.0</td>\n",
       "      <td>0.0</td>\n",
       "      <td>0.0</td>\n",
       "      <td>0.0</td>\n",
       "      <td>...</td>\n",
       "      <td>0.0</td>\n",
       "      <td>0.0</td>\n",
       "      <td>0.0</td>\n",
       "      <td>0.0</td>\n",
       "      <td>0.0</td>\n",
       "      <td>0.0</td>\n",
       "      <td>0.0</td>\n",
       "      <td>0.0</td>\n",
       "      <td>0.0</td>\n",
       "      <td>0.0</td>\n",
       "    </tr>\n",
       "    <tr>\n",
       "      <th>19346</th>\n",
       "      <td>0.0</td>\n",
       "      <td>0.0</td>\n",
       "      <td>0.000000</td>\n",
       "      <td>0.0</td>\n",
       "      <td>0.0</td>\n",
       "      <td>0.0</td>\n",
       "      <td>0.0</td>\n",
       "      <td>0.0</td>\n",
       "      <td>0.0</td>\n",
       "      <td>0.0</td>\n",
       "      <td>...</td>\n",
       "      <td>0.0</td>\n",
       "      <td>0.0</td>\n",
       "      <td>0.0</td>\n",
       "      <td>0.0</td>\n",
       "      <td>0.0</td>\n",
       "      <td>0.0</td>\n",
       "      <td>0.0</td>\n",
       "      <td>0.0</td>\n",
       "      <td>0.0</td>\n",
       "      <td>0.0</td>\n",
       "    </tr>\n",
       "    <tr>\n",
       "      <th>19347</th>\n",
       "      <td>0.0</td>\n",
       "      <td>0.0</td>\n",
       "      <td>0.035590</td>\n",
       "      <td>0.0</td>\n",
       "      <td>0.0</td>\n",
       "      <td>0.0</td>\n",
       "      <td>0.0</td>\n",
       "      <td>0.0</td>\n",
       "      <td>0.0</td>\n",
       "      <td>0.0</td>\n",
       "      <td>...</td>\n",
       "      <td>0.0</td>\n",
       "      <td>0.0</td>\n",
       "      <td>0.0</td>\n",
       "      <td>0.0</td>\n",
       "      <td>0.0</td>\n",
       "      <td>0.0</td>\n",
       "      <td>0.0</td>\n",
       "      <td>0.0</td>\n",
       "      <td>0.0</td>\n",
       "      <td>0.0</td>\n",
       "    </tr>\n",
       "  </tbody>\n",
       "</table>\n",
       "<p>19348 rows × 115909 columns</p>\n",
       "</div>"
      ],
      "text/plain": [
       "       0       1         2       3       4       5       6       7       \\\n",
       "0         0.0     0.0  0.000000     0.0     0.0     0.0     0.0     0.0   \n",
       "1         0.0     0.0  0.000000     0.0     0.0     0.0     0.0     0.0   \n",
       "2         0.0     0.0  0.000000     0.0     0.0     0.0     0.0     0.0   \n",
       "3         0.0     0.0  0.000000     0.0     0.0     0.0     0.0     0.0   \n",
       "4         0.0     0.0  0.000000     0.0     0.0     0.0     0.0     0.0   \n",
       "...       ...     ...       ...     ...     ...     ...     ...     ...   \n",
       "19343     0.0     0.0  0.000000     0.0     0.0     0.0     0.0     0.0   \n",
       "19344     0.0     0.0  0.000000     0.0     0.0     0.0     0.0     0.0   \n",
       "19345     0.0     0.0  0.012537     0.0     0.0     0.0     0.0     0.0   \n",
       "19346     0.0     0.0  0.000000     0.0     0.0     0.0     0.0     0.0   \n",
       "19347     0.0     0.0  0.035590     0.0     0.0     0.0     0.0     0.0   \n",
       "\n",
       "       8       9       ...  115899  115900  115901  115902  115903  115904  \\\n",
       "0         0.0     0.0  ...     0.0     0.0     0.0     0.0     0.0     0.0   \n",
       "1         0.0     0.0  ...     0.0     0.0     0.0     0.0     0.0     0.0   \n",
       "2         0.0     0.0  ...     0.0     0.0     0.0     0.0     0.0     0.0   \n",
       "3         0.0     0.0  ...     0.0     0.0     0.0     0.0     0.0     0.0   \n",
       "4         0.0     0.0  ...     0.0     0.0     0.0     0.0     0.0     0.0   \n",
       "...       ...     ...  ...     ...     ...     ...     ...     ...     ...   \n",
       "19343     0.0     0.0  ...     0.0     0.0     0.0     0.0     0.0     0.0   \n",
       "19344     0.0     0.0  ...     0.0     0.0     0.0     0.0     0.0     0.0   \n",
       "19345     0.0     0.0  ...     0.0     0.0     0.0     0.0     0.0     0.0   \n",
       "19346     0.0     0.0  ...     0.0     0.0     0.0     0.0     0.0     0.0   \n",
       "19347     0.0     0.0  ...     0.0     0.0     0.0     0.0     0.0     0.0   \n",
       "\n",
       "       115905  115906  115907  115908  \n",
       "0         0.0     0.0     0.0     0.0  \n",
       "1         0.0     0.0     0.0     0.0  \n",
       "2         0.0     0.0     0.0     0.0  \n",
       "3         0.0     0.0     0.0     0.0  \n",
       "4         0.0     0.0     0.0     0.0  \n",
       "...       ...     ...     ...     ...  \n",
       "19343     0.0     0.0     0.0     0.0  \n",
       "19344     0.0     0.0     0.0     0.0  \n",
       "19345     0.0     0.0     0.0     0.0  \n",
       "19346     0.0     0.0     0.0     0.0  \n",
       "19347     0.0     0.0     0.0     0.0  \n",
       "\n",
       "[19348 rows x 115909 columns]"
      ]
     },
     "execution_count": 75,
     "metadata": {},
     "output_type": "execute_result"
    }
   ],
   "source": [
    "text_spacy_nltk"
   ]
  },
  {
   "cell_type": "markdown",
   "metadata": {},
   "source": [
    "#### - Treating spacy preprocessed columns"
   ]
  },
  {
   "cell_type": "code",
   "execution_count": 41,
   "metadata": {},
   "outputs": [],
   "source": [
    "tfidf = TfidfVectorizer(tokenizer = cleaning_news) #vectorizer function"
   ]
  },
  {
   "cell_type": "code",
   "execution_count": 43,
   "metadata": {},
   "outputs": [],
   "source": [
    "#applying the tfidf function to each of the text columns \n",
    "title_spacy = tfidf.fit_transform(df1['title'])\n",
    "text_spacy = tfidf.fit_transform(df1['text'])"
   ]
  },
  {
   "cell_type": "code",
   "execution_count": 52,
   "metadata": {},
   "outputs": [
    {
     "data": {
      "text/plain": [
       "((19348, 16815), (19348, 138529))"
      ]
     },
     "execution_count": 52,
     "metadata": {},
     "output_type": "execute_result"
    }
   ],
   "source": [
    "title_spacy.shape, text_spacy.shape"
   ]
  },
  {
   "cell_type": "code",
   "execution_count": 91,
   "metadata": {},
   "outputs": [],
   "source": [
    "pd_title_spacy = pd.DataFrame.sparse.from_spmatrix(title_spacy)"
   ]
  },
  {
   "cell_type": "code",
   "execution_count": 92,
   "metadata": {},
   "outputs": [
    {
     "data": {
      "text/html": [
       "<div>\n",
       "<style scoped>\n",
       "    .dataframe tbody tr th:only-of-type {\n",
       "        vertical-align: middle;\n",
       "    }\n",
       "\n",
       "    .dataframe tbody tr th {\n",
       "        vertical-align: top;\n",
       "    }\n",
       "\n",
       "    .dataframe thead th {\n",
       "        text-align: right;\n",
       "    }\n",
       "</style>\n",
       "<table border=\"1\" class=\"dataframe\">\n",
       "  <thead>\n",
       "    <tr style=\"text-align: right;\">\n",
       "      <th></th>\n",
       "      <th>0</th>\n",
       "      <th>1</th>\n",
       "      <th>2</th>\n",
       "      <th>3</th>\n",
       "      <th>4</th>\n",
       "      <th>5</th>\n",
       "      <th>6</th>\n",
       "      <th>7</th>\n",
       "      <th>8</th>\n",
       "      <th>9</th>\n",
       "      <th>...</th>\n",
       "      <th>16805</th>\n",
       "      <th>16806</th>\n",
       "      <th>16807</th>\n",
       "      <th>16808</th>\n",
       "      <th>16809</th>\n",
       "      <th>16810</th>\n",
       "      <th>16811</th>\n",
       "      <th>16812</th>\n",
       "      <th>16813</th>\n",
       "      <th>16814</th>\n",
       "    </tr>\n",
       "  </thead>\n",
       "  <tbody>\n",
       "    <tr>\n",
       "      <th>0</th>\n",
       "      <td>0.0</td>\n",
       "      <td>0.0</td>\n",
       "      <td>0.0</td>\n",
       "      <td>0.0</td>\n",
       "      <td>0.0</td>\n",
       "      <td>0.0</td>\n",
       "      <td>0.0</td>\n",
       "      <td>0.0</td>\n",
       "      <td>0.0</td>\n",
       "      <td>0.0</td>\n",
       "      <td>...</td>\n",
       "      <td>0.0</td>\n",
       "      <td>0.0</td>\n",
       "      <td>0.0</td>\n",
       "      <td>0.0</td>\n",
       "      <td>0.0</td>\n",
       "      <td>0.0</td>\n",
       "      <td>0.0</td>\n",
       "      <td>0.0</td>\n",
       "      <td>0.0</td>\n",
       "      <td>0.0</td>\n",
       "    </tr>\n",
       "    <tr>\n",
       "      <th>1</th>\n",
       "      <td>0.0</td>\n",
       "      <td>0.0</td>\n",
       "      <td>0.0</td>\n",
       "      <td>0.0</td>\n",
       "      <td>0.0</td>\n",
       "      <td>0.0</td>\n",
       "      <td>0.0</td>\n",
       "      <td>0.0</td>\n",
       "      <td>0.0</td>\n",
       "      <td>0.0</td>\n",
       "      <td>...</td>\n",
       "      <td>0.0</td>\n",
       "      <td>0.0</td>\n",
       "      <td>0.0</td>\n",
       "      <td>0.0</td>\n",
       "      <td>0.0</td>\n",
       "      <td>0.0</td>\n",
       "      <td>0.0</td>\n",
       "      <td>0.0</td>\n",
       "      <td>0.0</td>\n",
       "      <td>0.0</td>\n",
       "    </tr>\n",
       "    <tr>\n",
       "      <th>2</th>\n",
       "      <td>0.0</td>\n",
       "      <td>0.0</td>\n",
       "      <td>0.0</td>\n",
       "      <td>0.0</td>\n",
       "      <td>0.0</td>\n",
       "      <td>0.0</td>\n",
       "      <td>0.0</td>\n",
       "      <td>0.0</td>\n",
       "      <td>0.0</td>\n",
       "      <td>0.0</td>\n",
       "      <td>...</td>\n",
       "      <td>0.0</td>\n",
       "      <td>0.0</td>\n",
       "      <td>0.0</td>\n",
       "      <td>0.0</td>\n",
       "      <td>0.0</td>\n",
       "      <td>0.0</td>\n",
       "      <td>0.0</td>\n",
       "      <td>0.0</td>\n",
       "      <td>0.0</td>\n",
       "      <td>0.0</td>\n",
       "    </tr>\n",
       "    <tr>\n",
       "      <th>3</th>\n",
       "      <td>0.0</td>\n",
       "      <td>0.0</td>\n",
       "      <td>0.0</td>\n",
       "      <td>0.0</td>\n",
       "      <td>0.0</td>\n",
       "      <td>0.0</td>\n",
       "      <td>0.0</td>\n",
       "      <td>0.0</td>\n",
       "      <td>0.0</td>\n",
       "      <td>0.0</td>\n",
       "      <td>...</td>\n",
       "      <td>0.0</td>\n",
       "      <td>0.0</td>\n",
       "      <td>0.0</td>\n",
       "      <td>0.0</td>\n",
       "      <td>0.0</td>\n",
       "      <td>0.0</td>\n",
       "      <td>0.0</td>\n",
       "      <td>0.0</td>\n",
       "      <td>0.0</td>\n",
       "      <td>0.0</td>\n",
       "    </tr>\n",
       "    <tr>\n",
       "      <th>4</th>\n",
       "      <td>0.0</td>\n",
       "      <td>0.0</td>\n",
       "      <td>0.0</td>\n",
       "      <td>0.0</td>\n",
       "      <td>0.0</td>\n",
       "      <td>0.0</td>\n",
       "      <td>0.0</td>\n",
       "      <td>0.0</td>\n",
       "      <td>0.0</td>\n",
       "      <td>0.0</td>\n",
       "      <td>...</td>\n",
       "      <td>0.0</td>\n",
       "      <td>0.0</td>\n",
       "      <td>0.0</td>\n",
       "      <td>0.0</td>\n",
       "      <td>0.0</td>\n",
       "      <td>0.0</td>\n",
       "      <td>0.0</td>\n",
       "      <td>0.0</td>\n",
       "      <td>0.0</td>\n",
       "      <td>0.0</td>\n",
       "    </tr>\n",
       "    <tr>\n",
       "      <th>...</th>\n",
       "      <td>...</td>\n",
       "      <td>...</td>\n",
       "      <td>...</td>\n",
       "      <td>...</td>\n",
       "      <td>...</td>\n",
       "      <td>...</td>\n",
       "      <td>...</td>\n",
       "      <td>...</td>\n",
       "      <td>...</td>\n",
       "      <td>...</td>\n",
       "      <td>...</td>\n",
       "      <td>...</td>\n",
       "      <td>...</td>\n",
       "      <td>...</td>\n",
       "      <td>...</td>\n",
       "      <td>...</td>\n",
       "      <td>...</td>\n",
       "      <td>...</td>\n",
       "      <td>...</td>\n",
       "      <td>...</td>\n",
       "      <td>...</td>\n",
       "    </tr>\n",
       "    <tr>\n",
       "      <th>19343</th>\n",
       "      <td>0.0</td>\n",
       "      <td>0.0</td>\n",
       "      <td>0.0</td>\n",
       "      <td>0.0</td>\n",
       "      <td>0.0</td>\n",
       "      <td>0.0</td>\n",
       "      <td>0.0</td>\n",
       "      <td>0.0</td>\n",
       "      <td>0.0</td>\n",
       "      <td>0.0</td>\n",
       "      <td>...</td>\n",
       "      <td>0.0</td>\n",
       "      <td>0.0</td>\n",
       "      <td>0.0</td>\n",
       "      <td>0.0</td>\n",
       "      <td>0.0</td>\n",
       "      <td>0.0</td>\n",
       "      <td>0.0</td>\n",
       "      <td>0.0</td>\n",
       "      <td>0.0</td>\n",
       "      <td>0.0</td>\n",
       "    </tr>\n",
       "    <tr>\n",
       "      <th>19344</th>\n",
       "      <td>0.0</td>\n",
       "      <td>0.0</td>\n",
       "      <td>0.0</td>\n",
       "      <td>0.0</td>\n",
       "      <td>0.0</td>\n",
       "      <td>0.0</td>\n",
       "      <td>0.0</td>\n",
       "      <td>0.0</td>\n",
       "      <td>0.0</td>\n",
       "      <td>0.0</td>\n",
       "      <td>...</td>\n",
       "      <td>0.0</td>\n",
       "      <td>0.0</td>\n",
       "      <td>0.0</td>\n",
       "      <td>0.0</td>\n",
       "      <td>0.0</td>\n",
       "      <td>0.0</td>\n",
       "      <td>0.0</td>\n",
       "      <td>0.0</td>\n",
       "      <td>0.0</td>\n",
       "      <td>0.0</td>\n",
       "    </tr>\n",
       "    <tr>\n",
       "      <th>19345</th>\n",
       "      <td>0.0</td>\n",
       "      <td>0.0</td>\n",
       "      <td>0.0</td>\n",
       "      <td>0.0</td>\n",
       "      <td>0.0</td>\n",
       "      <td>0.0</td>\n",
       "      <td>0.0</td>\n",
       "      <td>0.0</td>\n",
       "      <td>0.0</td>\n",
       "      <td>0.0</td>\n",
       "      <td>...</td>\n",
       "      <td>0.0</td>\n",
       "      <td>0.0</td>\n",
       "      <td>0.0</td>\n",
       "      <td>0.0</td>\n",
       "      <td>0.0</td>\n",
       "      <td>0.0</td>\n",
       "      <td>0.0</td>\n",
       "      <td>0.0</td>\n",
       "      <td>0.0</td>\n",
       "      <td>0.0</td>\n",
       "    </tr>\n",
       "    <tr>\n",
       "      <th>19346</th>\n",
       "      <td>0.0</td>\n",
       "      <td>0.0</td>\n",
       "      <td>0.0</td>\n",
       "      <td>0.0</td>\n",
       "      <td>0.0</td>\n",
       "      <td>0.0</td>\n",
       "      <td>0.0</td>\n",
       "      <td>0.0</td>\n",
       "      <td>0.0</td>\n",
       "      <td>0.0</td>\n",
       "      <td>...</td>\n",
       "      <td>0.0</td>\n",
       "      <td>0.0</td>\n",
       "      <td>0.0</td>\n",
       "      <td>0.0</td>\n",
       "      <td>0.0</td>\n",
       "      <td>0.0</td>\n",
       "      <td>0.0</td>\n",
       "      <td>0.0</td>\n",
       "      <td>0.0</td>\n",
       "      <td>0.0</td>\n",
       "    </tr>\n",
       "    <tr>\n",
       "      <th>19347</th>\n",
       "      <td>0.0</td>\n",
       "      <td>0.0</td>\n",
       "      <td>0.0</td>\n",
       "      <td>0.0</td>\n",
       "      <td>0.0</td>\n",
       "      <td>0.0</td>\n",
       "      <td>0.0</td>\n",
       "      <td>0.0</td>\n",
       "      <td>0.0</td>\n",
       "      <td>0.0</td>\n",
       "      <td>...</td>\n",
       "      <td>0.0</td>\n",
       "      <td>0.0</td>\n",
       "      <td>0.0</td>\n",
       "      <td>0.0</td>\n",
       "      <td>0.0</td>\n",
       "      <td>0.0</td>\n",
       "      <td>0.0</td>\n",
       "      <td>0.0</td>\n",
       "      <td>0.0</td>\n",
       "      <td>0.0</td>\n",
       "    </tr>\n",
       "  </tbody>\n",
       "</table>\n",
       "<p>19348 rows × 16815 columns</p>\n",
       "</div>"
      ],
      "text/plain": [
       "       0      1      2      3      4      5      6      7      8      9      \\\n",
       "0        0.0    0.0    0.0    0.0    0.0    0.0    0.0    0.0    0.0    0.0   \n",
       "1        0.0    0.0    0.0    0.0    0.0    0.0    0.0    0.0    0.0    0.0   \n",
       "2        0.0    0.0    0.0    0.0    0.0    0.0    0.0    0.0    0.0    0.0   \n",
       "3        0.0    0.0    0.0    0.0    0.0    0.0    0.0    0.0    0.0    0.0   \n",
       "4        0.0    0.0    0.0    0.0    0.0    0.0    0.0    0.0    0.0    0.0   \n",
       "...      ...    ...    ...    ...    ...    ...    ...    ...    ...    ...   \n",
       "19343    0.0    0.0    0.0    0.0    0.0    0.0    0.0    0.0    0.0    0.0   \n",
       "19344    0.0    0.0    0.0    0.0    0.0    0.0    0.0    0.0    0.0    0.0   \n",
       "19345    0.0    0.0    0.0    0.0    0.0    0.0    0.0    0.0    0.0    0.0   \n",
       "19346    0.0    0.0    0.0    0.0    0.0    0.0    0.0    0.0    0.0    0.0   \n",
       "19347    0.0    0.0    0.0    0.0    0.0    0.0    0.0    0.0    0.0    0.0   \n",
       "\n",
       "       ...  16805  16806  16807  16808  16809  16810  16811  16812  16813  \\\n",
       "0      ...    0.0    0.0    0.0    0.0    0.0    0.0    0.0    0.0    0.0   \n",
       "1      ...    0.0    0.0    0.0    0.0    0.0    0.0    0.0    0.0    0.0   \n",
       "2      ...    0.0    0.0    0.0    0.0    0.0    0.0    0.0    0.0    0.0   \n",
       "3      ...    0.0    0.0    0.0    0.0    0.0    0.0    0.0    0.0    0.0   \n",
       "4      ...    0.0    0.0    0.0    0.0    0.0    0.0    0.0    0.0    0.0   \n",
       "...    ...    ...    ...    ...    ...    ...    ...    ...    ...    ...   \n",
       "19343  ...    0.0    0.0    0.0    0.0    0.0    0.0    0.0    0.0    0.0   \n",
       "19344  ...    0.0    0.0    0.0    0.0    0.0    0.0    0.0    0.0    0.0   \n",
       "19345  ...    0.0    0.0    0.0    0.0    0.0    0.0    0.0    0.0    0.0   \n",
       "19346  ...    0.0    0.0    0.0    0.0    0.0    0.0    0.0    0.0    0.0   \n",
       "19347  ...    0.0    0.0    0.0    0.0    0.0    0.0    0.0    0.0    0.0   \n",
       "\n",
       "       16814  \n",
       "0        0.0  \n",
       "1        0.0  \n",
       "2        0.0  \n",
       "3        0.0  \n",
       "4        0.0  \n",
       "...      ...  \n",
       "19343    0.0  \n",
       "19344    0.0  \n",
       "19345    0.0  \n",
       "19346    0.0  \n",
       "19347    0.0  \n",
       "\n",
       "[19348 rows x 16815 columns]"
      ]
     },
     "execution_count": 92,
     "metadata": {},
     "output_type": "execute_result"
    }
   ],
   "source": [
    "pd_title_spacy"
   ]
  },
  {
   "cell_type": "code",
   "execution_count": 86,
   "metadata": {},
   "outputs": [],
   "source": [
    "pd_text_spacy = pd.DataFrame.sparse.from_spmatrix(text_spacy)"
   ]
  },
  {
   "cell_type": "code",
   "execution_count": 89,
   "metadata": {},
   "outputs": [
    {
     "data": {
      "text/html": [
       "<div>\n",
       "<style scoped>\n",
       "    .dataframe tbody tr th:only-of-type {\n",
       "        vertical-align: middle;\n",
       "    }\n",
       "\n",
       "    .dataframe tbody tr th {\n",
       "        vertical-align: top;\n",
       "    }\n",
       "\n",
       "    .dataframe thead th {\n",
       "        text-align: right;\n",
       "    }\n",
       "</style>\n",
       "<table border=\"1\" class=\"dataframe\">\n",
       "  <thead>\n",
       "    <tr style=\"text-align: right;\">\n",
       "      <th></th>\n",
       "      <th>0</th>\n",
       "      <th>1</th>\n",
       "      <th>2</th>\n",
       "      <th>3</th>\n",
       "      <th>4</th>\n",
       "      <th>5</th>\n",
       "      <th>6</th>\n",
       "      <th>7</th>\n",
       "      <th>8</th>\n",
       "      <th>9</th>\n",
       "      <th>...</th>\n",
       "      <th>138519</th>\n",
       "      <th>138520</th>\n",
       "      <th>138521</th>\n",
       "      <th>138522</th>\n",
       "      <th>138523</th>\n",
       "      <th>138524</th>\n",
       "      <th>138525</th>\n",
       "      <th>138526</th>\n",
       "      <th>138527</th>\n",
       "      <th>138528</th>\n",
       "    </tr>\n",
       "  </thead>\n",
       "  <tbody>\n",
       "    <tr>\n",
       "      <th>0</th>\n",
       "      <td>0.0</td>\n",
       "      <td>0.0</td>\n",
       "      <td>0.0</td>\n",
       "      <td>0.0</td>\n",
       "      <td>0.0</td>\n",
       "      <td>0.0</td>\n",
       "      <td>0.0</td>\n",
       "      <td>0.0</td>\n",
       "      <td>0.0</td>\n",
       "      <td>0.0</td>\n",
       "      <td>...</td>\n",
       "      <td>0.0</td>\n",
       "      <td>0.0</td>\n",
       "      <td>0.0</td>\n",
       "      <td>0.0</td>\n",
       "      <td>0.0</td>\n",
       "      <td>0.0</td>\n",
       "      <td>0.0</td>\n",
       "      <td>0.0</td>\n",
       "      <td>0.0</td>\n",
       "      <td>0.0</td>\n",
       "    </tr>\n",
       "    <tr>\n",
       "      <th>1</th>\n",
       "      <td>0.0</td>\n",
       "      <td>0.0</td>\n",
       "      <td>0.0</td>\n",
       "      <td>0.0</td>\n",
       "      <td>0.0</td>\n",
       "      <td>0.0</td>\n",
       "      <td>0.0</td>\n",
       "      <td>0.0</td>\n",
       "      <td>0.0</td>\n",
       "      <td>0.0</td>\n",
       "      <td>...</td>\n",
       "      <td>0.0</td>\n",
       "      <td>0.0</td>\n",
       "      <td>0.0</td>\n",
       "      <td>0.0</td>\n",
       "      <td>0.0</td>\n",
       "      <td>0.0</td>\n",
       "      <td>0.0</td>\n",
       "      <td>0.0</td>\n",
       "      <td>0.0</td>\n",
       "      <td>0.0</td>\n",
       "    </tr>\n",
       "    <tr>\n",
       "      <th>2</th>\n",
       "      <td>0.0</td>\n",
       "      <td>0.0</td>\n",
       "      <td>0.0</td>\n",
       "      <td>0.0</td>\n",
       "      <td>0.0</td>\n",
       "      <td>0.0</td>\n",
       "      <td>0.0</td>\n",
       "      <td>0.0</td>\n",
       "      <td>0.0</td>\n",
       "      <td>0.0</td>\n",
       "      <td>...</td>\n",
       "      <td>0.0</td>\n",
       "      <td>0.0</td>\n",
       "      <td>0.0</td>\n",
       "      <td>0.0</td>\n",
       "      <td>0.0</td>\n",
       "      <td>0.0</td>\n",
       "      <td>0.0</td>\n",
       "      <td>0.0</td>\n",
       "      <td>0.0</td>\n",
       "      <td>0.0</td>\n",
       "    </tr>\n",
       "    <tr>\n",
       "      <th>3</th>\n",
       "      <td>0.0</td>\n",
       "      <td>0.0</td>\n",
       "      <td>0.0</td>\n",
       "      <td>0.0</td>\n",
       "      <td>0.0</td>\n",
       "      <td>0.0</td>\n",
       "      <td>0.0</td>\n",
       "      <td>0.0</td>\n",
       "      <td>0.0</td>\n",
       "      <td>0.0</td>\n",
       "      <td>...</td>\n",
       "      <td>0.0</td>\n",
       "      <td>0.0</td>\n",
       "      <td>0.0</td>\n",
       "      <td>0.0</td>\n",
       "      <td>0.0</td>\n",
       "      <td>0.0</td>\n",
       "      <td>0.0</td>\n",
       "      <td>0.0</td>\n",
       "      <td>0.0</td>\n",
       "      <td>0.0</td>\n",
       "    </tr>\n",
       "    <tr>\n",
       "      <th>4</th>\n",
       "      <td>0.0</td>\n",
       "      <td>0.0</td>\n",
       "      <td>0.0</td>\n",
       "      <td>0.0</td>\n",
       "      <td>0.0</td>\n",
       "      <td>0.0</td>\n",
       "      <td>0.0</td>\n",
       "      <td>0.0</td>\n",
       "      <td>0.0</td>\n",
       "      <td>0.0</td>\n",
       "      <td>...</td>\n",
       "      <td>0.0</td>\n",
       "      <td>0.0</td>\n",
       "      <td>0.0</td>\n",
       "      <td>0.0</td>\n",
       "      <td>0.0</td>\n",
       "      <td>0.0</td>\n",
       "      <td>0.0</td>\n",
       "      <td>0.0</td>\n",
       "      <td>0.0</td>\n",
       "      <td>0.0</td>\n",
       "    </tr>\n",
       "    <tr>\n",
       "      <th>...</th>\n",
       "      <td>...</td>\n",
       "      <td>...</td>\n",
       "      <td>...</td>\n",
       "      <td>...</td>\n",
       "      <td>...</td>\n",
       "      <td>...</td>\n",
       "      <td>...</td>\n",
       "      <td>...</td>\n",
       "      <td>...</td>\n",
       "      <td>...</td>\n",
       "      <td>...</td>\n",
       "      <td>...</td>\n",
       "      <td>...</td>\n",
       "      <td>...</td>\n",
       "      <td>...</td>\n",
       "      <td>...</td>\n",
       "      <td>...</td>\n",
       "      <td>...</td>\n",
       "      <td>...</td>\n",
       "      <td>...</td>\n",
       "      <td>...</td>\n",
       "    </tr>\n",
       "    <tr>\n",
       "      <th>19343</th>\n",
       "      <td>0.0</td>\n",
       "      <td>0.0</td>\n",
       "      <td>0.0</td>\n",
       "      <td>0.0</td>\n",
       "      <td>0.0</td>\n",
       "      <td>0.0</td>\n",
       "      <td>0.0</td>\n",
       "      <td>0.0</td>\n",
       "      <td>0.0</td>\n",
       "      <td>0.0</td>\n",
       "      <td>...</td>\n",
       "      <td>0.0</td>\n",
       "      <td>0.0</td>\n",
       "      <td>0.0</td>\n",
       "      <td>0.0</td>\n",
       "      <td>0.0</td>\n",
       "      <td>0.0</td>\n",
       "      <td>0.0</td>\n",
       "      <td>0.0</td>\n",
       "      <td>0.0</td>\n",
       "      <td>0.0</td>\n",
       "    </tr>\n",
       "    <tr>\n",
       "      <th>19344</th>\n",
       "      <td>0.0</td>\n",
       "      <td>0.0</td>\n",
       "      <td>0.0</td>\n",
       "      <td>0.0</td>\n",
       "      <td>0.0</td>\n",
       "      <td>0.0</td>\n",
       "      <td>0.0</td>\n",
       "      <td>0.0</td>\n",
       "      <td>0.0</td>\n",
       "      <td>0.0</td>\n",
       "      <td>...</td>\n",
       "      <td>0.0</td>\n",
       "      <td>0.0</td>\n",
       "      <td>0.0</td>\n",
       "      <td>0.0</td>\n",
       "      <td>0.0</td>\n",
       "      <td>0.0</td>\n",
       "      <td>0.0</td>\n",
       "      <td>0.0</td>\n",
       "      <td>0.0</td>\n",
       "      <td>0.0</td>\n",
       "    </tr>\n",
       "    <tr>\n",
       "      <th>19345</th>\n",
       "      <td>0.0</td>\n",
       "      <td>0.0</td>\n",
       "      <td>0.0</td>\n",
       "      <td>0.0</td>\n",
       "      <td>0.0</td>\n",
       "      <td>0.0</td>\n",
       "      <td>0.0</td>\n",
       "      <td>0.0</td>\n",
       "      <td>0.0</td>\n",
       "      <td>0.0</td>\n",
       "      <td>...</td>\n",
       "      <td>0.0</td>\n",
       "      <td>0.0</td>\n",
       "      <td>0.0</td>\n",
       "      <td>0.0</td>\n",
       "      <td>0.0</td>\n",
       "      <td>0.0</td>\n",
       "      <td>0.0</td>\n",
       "      <td>0.0</td>\n",
       "      <td>0.0</td>\n",
       "      <td>0.0</td>\n",
       "    </tr>\n",
       "    <tr>\n",
       "      <th>19346</th>\n",
       "      <td>0.0</td>\n",
       "      <td>0.0</td>\n",
       "      <td>0.0</td>\n",
       "      <td>0.0</td>\n",
       "      <td>0.0</td>\n",
       "      <td>0.0</td>\n",
       "      <td>0.0</td>\n",
       "      <td>0.0</td>\n",
       "      <td>0.0</td>\n",
       "      <td>0.0</td>\n",
       "      <td>...</td>\n",
       "      <td>0.0</td>\n",
       "      <td>0.0</td>\n",
       "      <td>0.0</td>\n",
       "      <td>0.0</td>\n",
       "      <td>0.0</td>\n",
       "      <td>0.0</td>\n",
       "      <td>0.0</td>\n",
       "      <td>0.0</td>\n",
       "      <td>0.0</td>\n",
       "      <td>0.0</td>\n",
       "    </tr>\n",
       "    <tr>\n",
       "      <th>19347</th>\n",
       "      <td>0.0</td>\n",
       "      <td>0.0</td>\n",
       "      <td>0.0</td>\n",
       "      <td>0.0</td>\n",
       "      <td>0.0</td>\n",
       "      <td>0.0</td>\n",
       "      <td>0.0</td>\n",
       "      <td>0.0</td>\n",
       "      <td>0.0</td>\n",
       "      <td>0.0</td>\n",
       "      <td>...</td>\n",
       "      <td>0.0</td>\n",
       "      <td>0.0</td>\n",
       "      <td>0.0</td>\n",
       "      <td>0.0</td>\n",
       "      <td>0.0</td>\n",
       "      <td>0.0</td>\n",
       "      <td>0.0</td>\n",
       "      <td>0.0</td>\n",
       "      <td>0.0</td>\n",
       "      <td>0.0</td>\n",
       "    </tr>\n",
       "  </tbody>\n",
       "</table>\n",
       "<p>19348 rows × 138529 columns</p>\n",
       "</div>"
      ],
      "text/plain": [
       "       0       1       2       3       4       5       6       7       8       \\\n",
       "0         0.0     0.0     0.0     0.0     0.0     0.0     0.0     0.0     0.0   \n",
       "1         0.0     0.0     0.0     0.0     0.0     0.0     0.0     0.0     0.0   \n",
       "2         0.0     0.0     0.0     0.0     0.0     0.0     0.0     0.0     0.0   \n",
       "3         0.0     0.0     0.0     0.0     0.0     0.0     0.0     0.0     0.0   \n",
       "4         0.0     0.0     0.0     0.0     0.0     0.0     0.0     0.0     0.0   \n",
       "...       ...     ...     ...     ...     ...     ...     ...     ...     ...   \n",
       "19343     0.0     0.0     0.0     0.0     0.0     0.0     0.0     0.0     0.0   \n",
       "19344     0.0     0.0     0.0     0.0     0.0     0.0     0.0     0.0     0.0   \n",
       "19345     0.0     0.0     0.0     0.0     0.0     0.0     0.0     0.0     0.0   \n",
       "19346     0.0     0.0     0.0     0.0     0.0     0.0     0.0     0.0     0.0   \n",
       "19347     0.0     0.0     0.0     0.0     0.0     0.0     0.0     0.0     0.0   \n",
       "\n",
       "       9       ...  138519  138520  138521  138522  138523  138524  138525  \\\n",
       "0         0.0  ...     0.0     0.0     0.0     0.0     0.0     0.0     0.0   \n",
       "1         0.0  ...     0.0     0.0     0.0     0.0     0.0     0.0     0.0   \n",
       "2         0.0  ...     0.0     0.0     0.0     0.0     0.0     0.0     0.0   \n",
       "3         0.0  ...     0.0     0.0     0.0     0.0     0.0     0.0     0.0   \n",
       "4         0.0  ...     0.0     0.0     0.0     0.0     0.0     0.0     0.0   \n",
       "...       ...  ...     ...     ...     ...     ...     ...     ...     ...   \n",
       "19343     0.0  ...     0.0     0.0     0.0     0.0     0.0     0.0     0.0   \n",
       "19344     0.0  ...     0.0     0.0     0.0     0.0     0.0     0.0     0.0   \n",
       "19345     0.0  ...     0.0     0.0     0.0     0.0     0.0     0.0     0.0   \n",
       "19346     0.0  ...     0.0     0.0     0.0     0.0     0.0     0.0     0.0   \n",
       "19347     0.0  ...     0.0     0.0     0.0     0.0     0.0     0.0     0.0   \n",
       "\n",
       "       138526  138527  138528  \n",
       "0         0.0     0.0     0.0  \n",
       "1         0.0     0.0     0.0  \n",
       "2         0.0     0.0     0.0  \n",
       "3         0.0     0.0     0.0  \n",
       "4         0.0     0.0     0.0  \n",
       "...       ...     ...     ...  \n",
       "19343     0.0     0.0     0.0  \n",
       "19344     0.0     0.0     0.0  \n",
       "19345     0.0     0.0     0.0  \n",
       "19346     0.0     0.0     0.0  \n",
       "19347     0.0     0.0     0.0  \n",
       "\n",
       "[19348 rows x 138529 columns]"
      ]
     },
     "execution_count": 89,
     "metadata": {},
     "output_type": "execute_result"
    }
   ],
   "source": [
    "pd_text_spacy"
   ]
  },
  {
   "cell_type": "code",
   "execution_count": 56,
   "metadata": {},
   "outputs": [],
   "source": [
    "pickle.dump(title_spacy, open(\"./data/title_spacy.pkl\", \"wb\"))\n",
    "pickle.dump(text_spacy, open(\"./data/text_spacy.pkl\", \"wb\"))\n",
    "\n",
    "pickle.dump(title_nltk, open(\"./data/title_nltk.pkl\", \"wb\"))\n",
    "pickle.dump(text_nltk, open(\"./data/text_nltk.pkl\", \"wb\"))\n"
   ]
  },
  {
   "cell_type": "code",
   "execution_count": 57,
   "metadata": {},
   "outputs": [],
   "source": [
    "title_spacy_pickle = pickle.load(open(\"./data/title_spacy.pkl\", \"rb\"))"
   ]
  },
  {
   "cell_type": "code",
   "execution_count": 58,
   "metadata": {},
   "outputs": [
    {
     "data": {
      "text/plain": [
       "<19348x16815 sparse matrix of type '<class 'numpy.float64'>'\n",
       "\twith 163336 stored elements in Compressed Sparse Row format>"
      ]
     },
     "execution_count": 58,
     "metadata": {},
     "output_type": "execute_result"
    }
   ],
   "source": [
    "title_spacy_pickle"
   ]
  },
  {
   "cell_type": "markdown",
   "metadata": {},
   "source": [
    "# 2. Word2Vec transformation"
   ]
  },
  {
   "cell_type": "markdown",
   "metadata": {},
   "source": [
    "##### Loading our data"
   ]
  },
  {
   "cell_type": "code",
   "execution_count": 84,
   "metadata": {},
   "outputs": [],
   "source": [
    "title_word2vec = title_clean\n",
    "text_word2vec = text_clean"
   ]
  },
  {
   "cell_type": "code",
   "execution_count": 85,
   "metadata": {},
   "outputs": [
    {
     "data": {
      "text/plain": [
       "pandas.core.series.Series"
      ]
     },
     "execution_count": 85,
     "metadata": {},
     "output_type": "execute_result"
    }
   ],
   "source": [
    "type(title_word2vec)"
   ]
  },
  {
   "cell_type": "markdown",
   "metadata": {},
   "source": [
    "##### Defining our model"
   ]
  },
  {
   "cell_type": "code",
   "execution_count": null,
   "metadata": {},
   "outputs": [],
   "source": [
    "import gensim.downloader as api\n",
    "from gensim.models import Word2Vec\n",
    "import numpy as np"
   ]
  },
  {
   "cell_type": "code",
   "execution_count": null,
   "metadata": {},
   "outputs": [],
   "source": [
    "model_title = Word2Vec(title_word2vec, min_count=1,size= 500,workers=5)"
   ]
  },
  {
   "cell_type": "code",
   "execution_count": null,
   "metadata": {},
   "outputs": [],
   "source": [
    "model_text = Word2Vec(text_word2vec, min_count=1,size= 500,workers=5)"
   ]
  },
  {
   "cell_type": "code",
   "execution_count": null,
   "metadata": {},
   "outputs": [],
   "source": [
    "# loading google news dataset \n",
    "\n",
    "corpus = api.load('word2vec-google-news-300')  # download the corpus and return it opened as an iterable"
   ]
  },
  {
   "cell_type": "code",
   "execution_count": null,
   "metadata": {},
   "outputs": [],
   "source": [
    "model_google = corpus\n",
    "model_google.vector_size"
   ]
  },
  {
   "cell_type": "code",
   "execution_count": null,
   "metadata": {},
   "outputs": [],
   "source": [
    "model_google.most_similar(\"trump\")"
   ]
  },
  {
   "cell_type": "code",
   "execution_count": null,
   "metadata": {},
   "outputs": [],
   "source": [
    "title_word2vec"
   ]
  },
  {
   "cell_type": "code",
   "execution_count": null,
   "metadata": {},
   "outputs": [],
   "source": [
    "#putting all the words in the title together to train with our preload model\n",
    "x = [row[n] for row in title_word2vec for n in range(len(row))]\n",
    "len(x)"
   ]
  },
  {
   "cell_type": "code",
   "execution_count": null,
   "metadata": {},
   "outputs": [],
   "source": [
    "# Filter the list of vectors to include only those that Word2Vec has a vector for\n",
    "vector_list = [model_google[word] for word in x if word in model_google.vocab]\n",
    "\n",
    "# Create a list of the words corresponding to these vectors\n",
    "words_filtered = [word for word in x if word in model_google.vocab]\n",
    "\n",
    "# Zip the words together with their vector representations\n",
    "word_vec_zip = zip(words_filtered, vector_list)\n",
    "\n",
    "# Cast to a dict so we can turn it into a DataFrame\n",
    "word_vec_dict = dict(word_vec_zip)\n",
    "df = pd.DataFrame.from_dict(word_vec_dict, orient='index')\n",
    "df"
   ]
  },
  {
   "cell_type": "code",
   "execution_count": null,
   "metadata": {
    "scrolled": true
   },
   "outputs": [],
   "source": [
    "model_title.wv.most_similar('trump')[:5]"
   ]
  },
  {
   "cell_type": "code",
   "execution_count": null,
   "metadata": {},
   "outputs": [],
   "source": [
    "model_text.wv.most_similar('trump')[:5]"
   ]
  },
  {
   "cell_type": "code",
   "execution_count": null,
   "metadata": {},
   "outputs": [],
   "source": [
    "pd_title_word2vec = pd.DataFrame(np.array(vector_title).T.tolist())"
   ]
  },
  {
   "cell_type": "code",
   "execution_count": null,
   "metadata": {},
   "outputs": [],
   "source": [
    "#def cosine_distance (model, word,target_list , num) :\n",
    "    '''cosine_dict ={}\n",
    "    word_list = []\n",
    "    a = model[word]\n",
    "    for item in target_list :\n",
    "        if item != word :\n",
    "            b = model [item]\n",
    "            cos_sim = np.dot(a, b)/(norm(a)*norm(b))\n",
    "            cosine_dict[item] = cos_sim\n",
    "    dist_sort=sorted(cosine_dict.items(), key=lambda dist: dist[1],reverse = True) ## in Descedning order \n",
    "    for item in dist_sort:\n",
    "        word_list.append((item[0], item[1]))\n",
    "    return word_list[0:num]'''\n",
    "\n",
    "# only get the unique Maker_Model\n",
    "#Maker_Model = list(df.Maker_Model.unique()) \n",
    "\n",
    "# Show the most similar by cosine distance \n",
    "#cosine_distance (model,'trump',title,5)\n",
    "\n"
   ]
  },
  {
   "cell_type": "markdown",
   "metadata": {},
   "source": [
    "# 3. FastText"
   ]
  },
  {
   "cell_type": "code",
   "execution_count": 60,
   "metadata": {},
   "outputs": [],
   "source": [
    "import fasttext.util"
   ]
  },
  {
   "cell_type": "code",
   "execution_count": 61,
   "metadata": {},
   "outputs": [
    {
     "data": {
      "text/plain": [
       "'cc.en.300.bin'"
      ]
     },
     "execution_count": 61,
     "metadata": {},
     "output_type": "execute_result"
    }
   ],
   "source": [
    "#downloading model \n",
    "fasttext.util.download_model('en', if_exists='ignore')"
   ]
  },
  {
   "cell_type": "code",
   "execution_count": 62,
   "metadata": {},
   "outputs": [
    {
     "name": "stderr",
     "output_type": "stream",
     "text": [
      "Warning : `load_model` does not return WordVectorModel or SupervisedModel any more, but a `FastText` object which is very similar.\n"
     ]
    }
   ],
   "source": [
    "model_ft = fasttext.load_model('cc.en.300.bin')"
   ]
  },
  {
   "cell_type": "code",
   "execution_count": 63,
   "metadata": {},
   "outputs": [],
   "source": [
    "title_ft = df1['title']\n",
    "text_ft = df1['text']"
   ]
  },
  {
   "cell_type": "code",
   "execution_count": 64,
   "metadata": {},
   "outputs": [],
   "source": [
    "title_ft = title_ft.apply(lambda x: x.replace('\\n',''))\n",
    "text_ft = text_ft.apply(lambda x: x.replace('\\n',''))"
   ]
  },
  {
   "cell_type": "code",
   "execution_count": 65,
   "metadata": {},
   "outputs": [],
   "source": [
    "title_ft = title_ft.apply(lambda x: model_ft.get_sentence_vector(x)).T\n",
    "text_ft = text_ft.apply(lambda x: model_ft.get_sentence_vector(x)).T"
   ]
  },
  {
   "cell_type": "code",
   "execution_count": 66,
   "metadata": {},
   "outputs": [],
   "source": [
    "pd_title_ft = pd.DataFrame(np.array(title_ft).T.tolist())\n",
    "pd_text_ft = pd.DataFrame(np.array(text_ft).T.tolist())"
   ]
  },
  {
   "cell_type": "code",
   "execution_count": 70,
   "metadata": {},
   "outputs": [
    {
     "data": {
      "text/html": [
       "<div>\n",
       "<style scoped>\n",
       "    .dataframe tbody tr th:only-of-type {\n",
       "        vertical-align: middle;\n",
       "    }\n",
       "\n",
       "    .dataframe tbody tr th {\n",
       "        vertical-align: top;\n",
       "    }\n",
       "\n",
       "    .dataframe thead th {\n",
       "        text-align: right;\n",
       "    }\n",
       "</style>\n",
       "<table border=\"1\" class=\"dataframe\">\n",
       "  <thead>\n",
       "    <tr style=\"text-align: right;\">\n",
       "      <th></th>\n",
       "      <th>0</th>\n",
       "      <th>1</th>\n",
       "      <th>2</th>\n",
       "      <th>3</th>\n",
       "      <th>4</th>\n",
       "      <th>5</th>\n",
       "      <th>6</th>\n",
       "      <th>7</th>\n",
       "      <th>8</th>\n",
       "      <th>9</th>\n",
       "      <th>...</th>\n",
       "      <th>290</th>\n",
       "      <th>291</th>\n",
       "      <th>292</th>\n",
       "      <th>293</th>\n",
       "      <th>294</th>\n",
       "      <th>295</th>\n",
       "      <th>296</th>\n",
       "      <th>297</th>\n",
       "      <th>298</th>\n",
       "      <th>299</th>\n",
       "    </tr>\n",
       "  </thead>\n",
       "  <tbody>\n",
       "    <tr>\n",
       "      <th>0</th>\n",
       "      <td>-0.012867</td>\n",
       "      <td>0.012430</td>\n",
       "      <td>0.008407</td>\n",
       "      <td>0.040035</td>\n",
       "      <td>-0.037501</td>\n",
       "      <td>-0.007560</td>\n",
       "      <td>0.005550</td>\n",
       "      <td>-0.010244</td>\n",
       "      <td>-0.007751</td>\n",
       "      <td>0.002132</td>\n",
       "      <td>...</td>\n",
       "      <td>0.024282</td>\n",
       "      <td>-0.005968</td>\n",
       "      <td>-0.054760</td>\n",
       "      <td>0.000304</td>\n",
       "      <td>-0.008345</td>\n",
       "      <td>0.001611</td>\n",
       "      <td>0.000055</td>\n",
       "      <td>0.076241</td>\n",
       "      <td>-0.001044</td>\n",
       "      <td>0.008919</td>\n",
       "    </tr>\n",
       "    <tr>\n",
       "      <th>1</th>\n",
       "      <td>-0.015467</td>\n",
       "      <td>0.005928</td>\n",
       "      <td>-0.002342</td>\n",
       "      <td>0.035837</td>\n",
       "      <td>-0.028701</td>\n",
       "      <td>-0.015839</td>\n",
       "      <td>0.003369</td>\n",
       "      <td>-0.005036</td>\n",
       "      <td>-0.006150</td>\n",
       "      <td>0.007371</td>\n",
       "      <td>...</td>\n",
       "      <td>0.019597</td>\n",
       "      <td>-0.005454</td>\n",
       "      <td>-0.051866</td>\n",
       "      <td>0.004816</td>\n",
       "      <td>-0.010408</td>\n",
       "      <td>-0.005244</td>\n",
       "      <td>0.002354</td>\n",
       "      <td>0.081248</td>\n",
       "      <td>0.007194</td>\n",
       "      <td>0.008962</td>\n",
       "    </tr>\n",
       "    <tr>\n",
       "      <th>2</th>\n",
       "      <td>-0.023951</td>\n",
       "      <td>0.002629</td>\n",
       "      <td>0.005680</td>\n",
       "      <td>0.037418</td>\n",
       "      <td>-0.039248</td>\n",
       "      <td>-0.014571</td>\n",
       "      <td>0.010038</td>\n",
       "      <td>-0.007462</td>\n",
       "      <td>-0.007391</td>\n",
       "      <td>-0.003181</td>\n",
       "      <td>...</td>\n",
       "      <td>0.025684</td>\n",
       "      <td>-0.005943</td>\n",
       "      <td>-0.050470</td>\n",
       "      <td>-0.002823</td>\n",
       "      <td>-0.006607</td>\n",
       "      <td>-0.001486</td>\n",
       "      <td>-0.000200</td>\n",
       "      <td>0.074815</td>\n",
       "      <td>0.004534</td>\n",
       "      <td>0.007072</td>\n",
       "    </tr>\n",
       "    <tr>\n",
       "      <th>3</th>\n",
       "      <td>-0.012166</td>\n",
       "      <td>0.003768</td>\n",
       "      <td>0.002058</td>\n",
       "      <td>0.031053</td>\n",
       "      <td>-0.024341</td>\n",
       "      <td>-0.003137</td>\n",
       "      <td>0.002987</td>\n",
       "      <td>-0.002819</td>\n",
       "      <td>-0.009796</td>\n",
       "      <td>-0.001152</td>\n",
       "      <td>...</td>\n",
       "      <td>-0.001622</td>\n",
       "      <td>0.002489</td>\n",
       "      <td>-0.045115</td>\n",
       "      <td>0.001569</td>\n",
       "      <td>-0.011371</td>\n",
       "      <td>-0.009202</td>\n",
       "      <td>-0.006907</td>\n",
       "      <td>0.076405</td>\n",
       "      <td>0.019867</td>\n",
       "      <td>0.005708</td>\n",
       "    </tr>\n",
       "    <tr>\n",
       "      <th>4</th>\n",
       "      <td>-0.003908</td>\n",
       "      <td>0.008755</td>\n",
       "      <td>-0.000954</td>\n",
       "      <td>0.036000</td>\n",
       "      <td>-0.010166</td>\n",
       "      <td>-0.001310</td>\n",
       "      <td>0.009808</td>\n",
       "      <td>0.000452</td>\n",
       "      <td>-0.013797</td>\n",
       "      <td>0.007584</td>\n",
       "      <td>...</td>\n",
       "      <td>0.007642</td>\n",
       "      <td>-0.000452</td>\n",
       "      <td>-0.040028</td>\n",
       "      <td>0.005083</td>\n",
       "      <td>-0.011074</td>\n",
       "      <td>0.003543</td>\n",
       "      <td>-0.011510</td>\n",
       "      <td>0.067126</td>\n",
       "      <td>0.002755</td>\n",
       "      <td>0.026403</td>\n",
       "    </tr>\n",
       "    <tr>\n",
       "      <th>...</th>\n",
       "      <td>...</td>\n",
       "      <td>...</td>\n",
       "      <td>...</td>\n",
       "      <td>...</td>\n",
       "      <td>...</td>\n",
       "      <td>...</td>\n",
       "      <td>...</td>\n",
       "      <td>...</td>\n",
       "      <td>...</td>\n",
       "      <td>...</td>\n",
       "      <td>...</td>\n",
       "      <td>...</td>\n",
       "      <td>...</td>\n",
       "      <td>...</td>\n",
       "      <td>...</td>\n",
       "      <td>...</td>\n",
       "      <td>...</td>\n",
       "      <td>...</td>\n",
       "      <td>...</td>\n",
       "      <td>...</td>\n",
       "      <td>...</td>\n",
       "    </tr>\n",
       "    <tr>\n",
       "      <th>19343</th>\n",
       "      <td>-0.007817</td>\n",
       "      <td>0.005252</td>\n",
       "      <td>0.004396</td>\n",
       "      <td>0.035095</td>\n",
       "      <td>-0.037482</td>\n",
       "      <td>-0.013774</td>\n",
       "      <td>0.008956</td>\n",
       "      <td>-0.002838</td>\n",
       "      <td>-0.009536</td>\n",
       "      <td>0.016297</td>\n",
       "      <td>...</td>\n",
       "      <td>0.020365</td>\n",
       "      <td>-0.011106</td>\n",
       "      <td>-0.044656</td>\n",
       "      <td>0.005573</td>\n",
       "      <td>-0.006550</td>\n",
       "      <td>-0.006104</td>\n",
       "      <td>-0.005544</td>\n",
       "      <td>0.081941</td>\n",
       "      <td>0.004719</td>\n",
       "      <td>0.015054</td>\n",
       "    </tr>\n",
       "    <tr>\n",
       "      <th>19344</th>\n",
       "      <td>-0.019365</td>\n",
       "      <td>0.010262</td>\n",
       "      <td>0.002824</td>\n",
       "      <td>0.030501</td>\n",
       "      <td>-0.032252</td>\n",
       "      <td>0.004116</td>\n",
       "      <td>0.004063</td>\n",
       "      <td>-0.010744</td>\n",
       "      <td>-0.009511</td>\n",
       "      <td>0.007537</td>\n",
       "      <td>...</td>\n",
       "      <td>0.015969</td>\n",
       "      <td>-0.001155</td>\n",
       "      <td>-0.039115</td>\n",
       "      <td>0.001557</td>\n",
       "      <td>-0.017697</td>\n",
       "      <td>-0.014797</td>\n",
       "      <td>-0.004252</td>\n",
       "      <td>0.081399</td>\n",
       "      <td>-0.005050</td>\n",
       "      <td>0.000275</td>\n",
       "    </tr>\n",
       "    <tr>\n",
       "      <th>19345</th>\n",
       "      <td>-0.015881</td>\n",
       "      <td>0.011792</td>\n",
       "      <td>0.001355</td>\n",
       "      <td>0.034180</td>\n",
       "      <td>-0.022974</td>\n",
       "      <td>0.005721</td>\n",
       "      <td>0.010278</td>\n",
       "      <td>-0.011370</td>\n",
       "      <td>-0.002720</td>\n",
       "      <td>0.000054</td>\n",
       "      <td>...</td>\n",
       "      <td>0.019278</td>\n",
       "      <td>-0.002135</td>\n",
       "      <td>-0.051750</td>\n",
       "      <td>0.001448</td>\n",
       "      <td>-0.008973</td>\n",
       "      <td>-0.005062</td>\n",
       "      <td>-0.000945</td>\n",
       "      <td>0.062204</td>\n",
       "      <td>-0.001408</td>\n",
       "      <td>0.007093</td>\n",
       "    </tr>\n",
       "    <tr>\n",
       "      <th>19346</th>\n",
       "      <td>-0.018644</td>\n",
       "      <td>-0.004273</td>\n",
       "      <td>0.009485</td>\n",
       "      <td>0.028203</td>\n",
       "      <td>-0.023072</td>\n",
       "      <td>-0.005037</td>\n",
       "      <td>0.022662</td>\n",
       "      <td>0.002362</td>\n",
       "      <td>-0.015727</td>\n",
       "      <td>-0.001312</td>\n",
       "      <td>...</td>\n",
       "      <td>-0.002077</td>\n",
       "      <td>-0.009480</td>\n",
       "      <td>-0.034852</td>\n",
       "      <td>-0.005164</td>\n",
       "      <td>-0.008382</td>\n",
       "      <td>-0.008720</td>\n",
       "      <td>0.001735</td>\n",
       "      <td>0.068388</td>\n",
       "      <td>0.009567</td>\n",
       "      <td>0.004055</td>\n",
       "    </tr>\n",
       "    <tr>\n",
       "      <th>19347</th>\n",
       "      <td>-0.017802</td>\n",
       "      <td>0.003340</td>\n",
       "      <td>0.004302</td>\n",
       "      <td>0.027868</td>\n",
       "      <td>-0.025863</td>\n",
       "      <td>-0.007625</td>\n",
       "      <td>0.007737</td>\n",
       "      <td>0.001244</td>\n",
       "      <td>-0.006267</td>\n",
       "      <td>-0.001816</td>\n",
       "      <td>...</td>\n",
       "      <td>0.022721</td>\n",
       "      <td>-0.000634</td>\n",
       "      <td>-0.044012</td>\n",
       "      <td>0.001359</td>\n",
       "      <td>-0.004717</td>\n",
       "      <td>-0.003773</td>\n",
       "      <td>-0.000709</td>\n",
       "      <td>0.064082</td>\n",
       "      <td>0.000707</td>\n",
       "      <td>0.004515</td>\n",
       "    </tr>\n",
       "  </tbody>\n",
       "</table>\n",
       "<p>19348 rows × 300 columns</p>\n",
       "</div>"
      ],
      "text/plain": [
       "            0         1         2         3         4         5         6    \\\n",
       "0     -0.012867  0.012430  0.008407  0.040035 -0.037501 -0.007560  0.005550   \n",
       "1     -0.015467  0.005928 -0.002342  0.035837 -0.028701 -0.015839  0.003369   \n",
       "2     -0.023951  0.002629  0.005680  0.037418 -0.039248 -0.014571  0.010038   \n",
       "3     -0.012166  0.003768  0.002058  0.031053 -0.024341 -0.003137  0.002987   \n",
       "4     -0.003908  0.008755 -0.000954  0.036000 -0.010166 -0.001310  0.009808   \n",
       "...         ...       ...       ...       ...       ...       ...       ...   \n",
       "19343 -0.007817  0.005252  0.004396  0.035095 -0.037482 -0.013774  0.008956   \n",
       "19344 -0.019365  0.010262  0.002824  0.030501 -0.032252  0.004116  0.004063   \n",
       "19345 -0.015881  0.011792  0.001355  0.034180 -0.022974  0.005721  0.010278   \n",
       "19346 -0.018644 -0.004273  0.009485  0.028203 -0.023072 -0.005037  0.022662   \n",
       "19347 -0.017802  0.003340  0.004302  0.027868 -0.025863 -0.007625  0.007737   \n",
       "\n",
       "            7         8         9    ...       290       291       292  \\\n",
       "0     -0.010244 -0.007751  0.002132  ...  0.024282 -0.005968 -0.054760   \n",
       "1     -0.005036 -0.006150  0.007371  ...  0.019597 -0.005454 -0.051866   \n",
       "2     -0.007462 -0.007391 -0.003181  ...  0.025684 -0.005943 -0.050470   \n",
       "3     -0.002819 -0.009796 -0.001152  ... -0.001622  0.002489 -0.045115   \n",
       "4      0.000452 -0.013797  0.007584  ...  0.007642 -0.000452 -0.040028   \n",
       "...         ...       ...       ...  ...       ...       ...       ...   \n",
       "19343 -0.002838 -0.009536  0.016297  ...  0.020365 -0.011106 -0.044656   \n",
       "19344 -0.010744 -0.009511  0.007537  ...  0.015969 -0.001155 -0.039115   \n",
       "19345 -0.011370 -0.002720  0.000054  ...  0.019278 -0.002135 -0.051750   \n",
       "19346  0.002362 -0.015727 -0.001312  ... -0.002077 -0.009480 -0.034852   \n",
       "19347  0.001244 -0.006267 -0.001816  ...  0.022721 -0.000634 -0.044012   \n",
       "\n",
       "            293       294       295       296       297       298       299  \n",
       "0      0.000304 -0.008345  0.001611  0.000055  0.076241 -0.001044  0.008919  \n",
       "1      0.004816 -0.010408 -0.005244  0.002354  0.081248  0.007194  0.008962  \n",
       "2     -0.002823 -0.006607 -0.001486 -0.000200  0.074815  0.004534  0.007072  \n",
       "3      0.001569 -0.011371 -0.009202 -0.006907  0.076405  0.019867  0.005708  \n",
       "4      0.005083 -0.011074  0.003543 -0.011510  0.067126  0.002755  0.026403  \n",
       "...         ...       ...       ...       ...       ...       ...       ...  \n",
       "19343  0.005573 -0.006550 -0.006104 -0.005544  0.081941  0.004719  0.015054  \n",
       "19344  0.001557 -0.017697 -0.014797 -0.004252  0.081399 -0.005050  0.000275  \n",
       "19345  0.001448 -0.008973 -0.005062 -0.000945  0.062204 -0.001408  0.007093  \n",
       "19346 -0.005164 -0.008382 -0.008720  0.001735  0.068388  0.009567  0.004055  \n",
       "19347  0.001359 -0.004717 -0.003773 -0.000709  0.064082  0.000707  0.004515  \n",
       "\n",
       "[19348 rows x 300 columns]"
      ]
     },
     "execution_count": 70,
     "metadata": {},
     "output_type": "execute_result"
    }
   ],
   "source": [
    "pd_text_ft"
   ]
  },
  {
   "cell_type": "code",
   "execution_count": 68,
   "metadata": {},
   "outputs": [
    {
     "data": {
      "text/plain": [
       "[(0.5944359302520752, 'drumpf'),\n",
       " (0.5641477704048157, '0bama'),\n",
       " (0.5490846037864685, 'Obummer'),\n",
       " (0.548833966255188, 'Obams'),\n",
       " (0.5474653840065002, 'Obuma'),\n",
       " (0.5468364953994751, 'Drumpf'),\n",
       " (0.5445432066917419, 'Obama'),\n",
       " (0.5386767983436584, 'tRump'),\n",
       " (0.5359978079795837, 'trumps'),\n",
       " (0.5337789058685303, 'obamas')]"
      ]
     },
     "execution_count": 68,
     "metadata": {},
     "output_type": "execute_result"
    }
   ],
   "source": [
    "model_ft.get_analogies('trump', 'washington', 'obama')"
   ]
  },
  {
   "cell_type": "code",
   "execution_count": 69,
   "metadata": {},
   "outputs": [],
   "source": [
    "pd_title_ft.to_csv('./data/pd_title_ft.csv')"
   ]
  },
  {
   "cell_type": "code",
   "execution_count": 71,
   "metadata": {},
   "outputs": [],
   "source": [
    "pd_text_ft.to_csv('./data/pd_text_ft.csv')"
   ]
  },
  {
   "cell_type": "markdown",
   "metadata": {},
   "source": [
    "# 4. Doc2Vec"
   ]
  },
  {
   "cell_type": "code",
   "execution_count": null,
   "metadata": {},
   "outputs": [],
   "source": [
    "from gensim.models.doc2vec import Doc2Vec, TaggedDocument\n",
    "\n",
    "#tokenize and tag the card text\n",
    "card_docs = [TaggedDocument(doc.split(' '), [i]) \n",
    "             for i, doc in enumerate(title_clean)]\n",
    "\n",
    "#display the tagged docs\n",
    "card_docs"
   ]
  },
  {
   "cell_type": "code",
   "execution_count": null,
   "metadata": {},
   "outputs": [],
   "source": []
  },
  {
   "cell_type": "markdown",
   "metadata": {},
   "source": [
    "### Resulting datasets for modeling "
   ]
  },
  {
   "cell_type": "code",
   "execution_count": 122,
   "metadata": {},
   "outputs": [],
   "source": [
    "#defining models\n",
    "svc = LinearSVC() \n",
    "lr = LogisticRegression()\n",
    "rf = RandomForestClassifier()\n",
    "nb = MultinomialNB()"
   ]
  },
  {
   "cell_type": "markdown",
   "metadata": {},
   "source": [
    "1. Processed with nltk and tfidf"
   ]
  },
  {
   "cell_type": "code",
   "execution_count": 102,
   "metadata": {},
   "outputs": [
    {
     "data": {
      "text/html": [
       "<div>\n",
       "<style scoped>\n",
       "    .dataframe tbody tr th:only-of-type {\n",
       "        vertical-align: middle;\n",
       "    }\n",
       "\n",
       "    .dataframe tbody tr th {\n",
       "        vertical-align: top;\n",
       "    }\n",
       "\n",
       "    .dataframe thead th {\n",
       "        text-align: right;\n",
       "    }\n",
       "</style>\n",
       "<table border=\"1\" class=\"dataframe\">\n",
       "  <thead>\n",
       "    <tr style=\"text-align: right;\">\n",
       "      <th></th>\n",
       "      <th>0</th>\n",
       "      <th>1</th>\n",
       "      <th>2</th>\n",
       "      <th>3</th>\n",
       "      <th>4</th>\n",
       "      <th>5</th>\n",
       "      <th>6</th>\n",
       "      <th>7</th>\n",
       "      <th>8</th>\n",
       "      <th>9</th>\n",
       "      <th>...</th>\n",
       "      <th>16121</th>\n",
       "      <th>16122</th>\n",
       "      <th>16123</th>\n",
       "      <th>16124</th>\n",
       "      <th>16125</th>\n",
       "      <th>16126</th>\n",
       "      <th>16127</th>\n",
       "      <th>16128</th>\n",
       "      <th>16129</th>\n",
       "      <th>16130</th>\n",
       "    </tr>\n",
       "  </thead>\n",
       "  <tbody>\n",
       "    <tr>\n",
       "      <th>0</th>\n",
       "      <td>0.0</td>\n",
       "      <td>0.0</td>\n",
       "      <td>0.0</td>\n",
       "      <td>0.0</td>\n",
       "      <td>0.0</td>\n",
       "      <td>0.0</td>\n",
       "      <td>0.0</td>\n",
       "      <td>0.0</td>\n",
       "      <td>0.0</td>\n",
       "      <td>0.0</td>\n",
       "      <td>...</td>\n",
       "      <td>0.0</td>\n",
       "      <td>0.0</td>\n",
       "      <td>0.0</td>\n",
       "      <td>0.0</td>\n",
       "      <td>0.0</td>\n",
       "      <td>0.0</td>\n",
       "      <td>0.0</td>\n",
       "      <td>0.0</td>\n",
       "      <td>0.0</td>\n",
       "      <td>0.0</td>\n",
       "    </tr>\n",
       "  </tbody>\n",
       "</table>\n",
       "<p>1 rows × 16131 columns</p>\n",
       "</div>"
      ],
      "text/plain": [
       "   0      1      2      3      4      5      6      7      8      9      ...  \\\n",
       "0    0.0    0.0    0.0    0.0    0.0    0.0    0.0    0.0    0.0    0.0  ...   \n",
       "\n",
       "   16121  16122  16123  16124  16125  16126  16127  16128  16129  16130  \n",
       "0    0.0    0.0    0.0    0.0    0.0    0.0    0.0    0.0    0.0    0.0  \n",
       "\n",
       "[1 rows x 16131 columns]"
      ]
     },
     "execution_count": 102,
     "metadata": {},
     "output_type": "execute_result"
    }
   ],
   "source": [
    "title_spacy_nltk.head(1)"
   ]
  },
  {
   "cell_type": "code",
   "execution_count": 103,
   "metadata": {},
   "outputs": [
    {
     "data": {
      "text/html": [
       "<div>\n",
       "<style scoped>\n",
       "    .dataframe tbody tr th:only-of-type {\n",
       "        vertical-align: middle;\n",
       "    }\n",
       "\n",
       "    .dataframe tbody tr th {\n",
       "        vertical-align: top;\n",
       "    }\n",
       "\n",
       "    .dataframe thead th {\n",
       "        text-align: right;\n",
       "    }\n",
       "</style>\n",
       "<table border=\"1\" class=\"dataframe\">\n",
       "  <thead>\n",
       "    <tr style=\"text-align: right;\">\n",
       "      <th></th>\n",
       "      <th>0</th>\n",
       "      <th>1</th>\n",
       "      <th>2</th>\n",
       "      <th>3</th>\n",
       "      <th>4</th>\n",
       "      <th>5</th>\n",
       "      <th>6</th>\n",
       "      <th>7</th>\n",
       "      <th>8</th>\n",
       "      <th>9</th>\n",
       "      <th>...</th>\n",
       "      <th>115899</th>\n",
       "      <th>115900</th>\n",
       "      <th>115901</th>\n",
       "      <th>115902</th>\n",
       "      <th>115903</th>\n",
       "      <th>115904</th>\n",
       "      <th>115905</th>\n",
       "      <th>115906</th>\n",
       "      <th>115907</th>\n",
       "      <th>115908</th>\n",
       "    </tr>\n",
       "  </thead>\n",
       "  <tbody>\n",
       "    <tr>\n",
       "      <th>0</th>\n",
       "      <td>0.0</td>\n",
       "      <td>0.0</td>\n",
       "      <td>0.0</td>\n",
       "      <td>0.0</td>\n",
       "      <td>0.0</td>\n",
       "      <td>0.0</td>\n",
       "      <td>0.0</td>\n",
       "      <td>0.0</td>\n",
       "      <td>0.0</td>\n",
       "      <td>0.0</td>\n",
       "      <td>...</td>\n",
       "      <td>0.0</td>\n",
       "      <td>0.0</td>\n",
       "      <td>0.0</td>\n",
       "      <td>0.0</td>\n",
       "      <td>0.0</td>\n",
       "      <td>0.0</td>\n",
       "      <td>0.0</td>\n",
       "      <td>0.0</td>\n",
       "      <td>0.0</td>\n",
       "      <td>0.0</td>\n",
       "    </tr>\n",
       "  </tbody>\n",
       "</table>\n",
       "<p>1 rows × 115909 columns</p>\n",
       "</div>"
      ],
      "text/plain": [
       "   0       1       2       3       4       5       6       7       8       \\\n",
       "0     0.0     0.0     0.0     0.0     0.0     0.0     0.0     0.0     0.0   \n",
       "\n",
       "   9       ...  115899  115900  115901  115902  115903  115904  115905  \\\n",
       "0     0.0  ...     0.0     0.0     0.0     0.0     0.0     0.0     0.0   \n",
       "\n",
       "   115906  115907  115908  \n",
       "0     0.0     0.0     0.0  \n",
       "\n",
       "[1 rows x 115909 columns]"
      ]
     },
     "execution_count": 103,
     "metadata": {},
     "output_type": "execute_result"
    }
   ],
   "source": [
    "text_spacy_nltk.head(1)"
   ]
  },
  {
   "cell_type": "code",
   "execution_count": null,
   "metadata": {},
   "outputs": [],
   "source": [
    "#making a first prediction with all of our models to see what text works best"
   ]
  },
  {
   "cell_type": "code",
   "execution_count": 114,
   "metadata": {},
   "outputs": [],
   "source": [
    "X_nltk = text_spacy_nltk\n",
    "y_nltk = df1['label']"
   ]
  },
  {
   "cell_type": "code",
   "execution_count": 115,
   "metadata": {},
   "outputs": [
    {
     "data": {
      "text/plain": [
       "((15478, 115909), (3870, 115909))"
      ]
     },
     "execution_count": 115,
     "metadata": {},
     "output_type": "execute_result"
    }
   ],
   "source": [
    "X_train, X_test, y_train, y_test = train_test_split(X_nltk, y_nltk, test_size = 0.2, shuffle = True)\n",
    "X_train.shape, X_test.shape"
   ]
  },
  {
   "cell_type": "markdown",
   "metadata": {},
   "source": [
    "### SVC "
   ]
  },
  {
   "cell_type": "code",
   "execution_count": 182,
   "metadata": {},
   "outputs": [
    {
     "data": {
      "text/plain": [
       "0.9994185295257785"
      ]
     },
     "execution_count": 182,
     "metadata": {},
     "output_type": "execute_result"
    }
   ],
   "source": [
    "svc.fit(X_train, np.ravel(y_train)).score(X_train, np.ravel(y_train))"
   ]
  },
  {
   "cell_type": "code",
   "execution_count": 183,
   "metadata": {},
   "outputs": [],
   "source": [
    "y_pred_svc = svc.predict(X_test)"
   ]
  },
  {
   "cell_type": "code",
   "execution_count": 184,
   "metadata": {},
   "outputs": [
    {
     "name": "stdout",
     "output_type": "stream",
     "text": [
      "Accuracy is: 0.9666666666666667\n",
      "Mean Squared Error is: 0.18257418583505536\n",
      "              precision    recall  f1-score   support\n",
      "\n",
      "           0       0.97      0.97      0.97      2074\n",
      "           1       0.97      0.96      0.96      1796\n",
      "\n",
      "    accuracy                           0.97      3870\n",
      "   macro avg       0.97      0.97      0.97      3870\n",
      "weighted avg       0.97      0.97      0.97      3870\n",
      "\n"
     ]
    }
   ],
   "source": [
    "print(\"Accuracy is:\", metrics.accuracy_score(y_test, y_pred_svc))\n",
    "print(\"Mean Squared Error is:\", np.sqrt(mean_squared_error(y_test, y_pred_svc)))\n",
    "print(metrics.classification_report(y_test, y_pred_svc))"
   ]
  },
  {
   "cell_type": "markdown",
   "metadata": {},
   "source": [
    "### Logistic Regression"
   ]
  },
  {
   "cell_type": "code",
   "execution_count": 191,
   "metadata": {},
   "outputs": [
    {
     "data": {
      "text/plain": [
       "0.9772580436748934"
      ]
     },
     "execution_count": 191,
     "metadata": {},
     "output_type": "execute_result"
    }
   ],
   "source": [
    "lr.fit(X_train, np.ravel(y_train)).score(X_train, np.ravel(y_train))"
   ]
  },
  {
   "cell_type": "code",
   "execution_count": 192,
   "metadata": {},
   "outputs": [],
   "source": [
    "y_pred_lr = lr.predict(X_test)"
   ]
  },
  {
   "cell_type": "code",
   "execution_count": 193,
   "metadata": {},
   "outputs": [
    {
     "name": "stdout",
     "output_type": "stream",
     "text": [
      "Accuracy is: 0.9555555555555556\n",
      "Mean Squared Error is: 0.21081851067789195\n",
      "              precision    recall  f1-score   support\n",
      "\n",
      "           0       0.95      0.96      0.96      2074\n",
      "           1       0.96      0.94      0.95      1796\n",
      "\n",
      "    accuracy                           0.96      3870\n",
      "   macro avg       0.96      0.95      0.96      3870\n",
      "weighted avg       0.96      0.96      0.96      3870\n",
      "\n"
     ]
    }
   ],
   "source": [
    "print(\"Accuracy is:\", metrics.accuracy_score(y_test, y_pred_lr))\n",
    "print(\"Mean Squared Error is:\", np.sqrt(mean_squared_error(y_test, y_pred_lr)))\n",
    "print(metrics.classification_report(y_test, y_pred_lr))"
   ]
  },
  {
   "cell_type": "markdown",
   "metadata": {},
   "source": [
    "### Naive Bayes"
   ]
  },
  {
   "cell_type": "code",
   "execution_count": 194,
   "metadata": {},
   "outputs": [
    {
     "data": {
      "text/plain": [
       "0.892492570099496"
      ]
     },
     "execution_count": 194,
     "metadata": {},
     "output_type": "execute_result"
    }
   ],
   "source": [
    "nb.fit(X_train, np.ravel(y_train)).score(X_train, np.ravel(y_train))"
   ]
  },
  {
   "cell_type": "code",
   "execution_count": 195,
   "metadata": {},
   "outputs": [],
   "source": [
    "y_pred_nb = nb.predict(X_test)"
   ]
  },
  {
   "cell_type": "code",
   "execution_count": 196,
   "metadata": {},
   "outputs": [
    {
     "name": "stdout",
     "output_type": "stream",
     "text": [
      "Accuracy is: 0.869250645994832\n",
      "Mean Squared Error is: 0.361592801373545\n",
      "              precision    recall  f1-score   support\n",
      "\n",
      "           0       0.81      0.99      0.89      2074\n",
      "           1       0.99      0.73      0.84      1796\n",
      "\n",
      "    accuracy                           0.87      3870\n",
      "   macro avg       0.90      0.86      0.86      3870\n",
      "weighted avg       0.89      0.87      0.87      3870\n",
      "\n"
     ]
    }
   ],
   "source": [
    "print(\"Accuracy is:\", metrics.accuracy_score(y_test, y_pred_nb))\n",
    "print(\"Mean Squared Error is:\", np.sqrt(mean_squared_error(y_test, y_pred_nb)))\n",
    "print(metrics.classification_report(y_test, y_pred_nb))"
   ]
  },
  {
   "cell_type": "markdown",
   "metadata": {},
   "source": [
    "### Random Forest "
   ]
  },
  {
   "cell_type": "code",
   "execution_count": 197,
   "metadata": {},
   "outputs": [
    {
     "data": {
      "text/plain": [
       "0.9430158935262953"
      ]
     },
     "execution_count": 197,
     "metadata": {},
     "output_type": "execute_result"
    }
   ],
   "source": [
    "rf.fit(X_train, np.ravel(y_train)).score(X_train, np.ravel(y_train))"
   ]
  },
  {
   "cell_type": "code",
   "execution_count": 198,
   "metadata": {},
   "outputs": [],
   "source": [
    "y_pred_rf = rf.predict(X_test)"
   ]
  },
  {
   "cell_type": "code",
   "execution_count": 199,
   "metadata": {},
   "outputs": [
    {
     "name": "stdout",
     "output_type": "stream",
     "text": [
      "Accuracy is: 0.8958656330749354\n",
      "Mean Squared Error is: 0.3226985697598683\n",
      "              precision    recall  f1-score   support\n",
      "\n",
      "           0       0.87      0.94      0.91      2074\n",
      "           1       0.93      0.84      0.88      1796\n",
      "\n",
      "    accuracy                           0.90      3870\n",
      "   macro avg       0.90      0.89      0.89      3870\n",
      "weighted avg       0.90      0.90      0.90      3870\n",
      "\n"
     ]
    }
   ],
   "source": [
    "print(\"Accuracy is:\", metrics.accuracy_score(y_test, y_pred_rf))\n",
    "print(\"Mean Squared Error is:\", np.sqrt(mean_squared_error(y_test, y_pred_rf)))\n",
    "print(metrics.classification_report(y_test, y_pred_rf))"
   ]
  },
  {
   "cell_type": "markdown",
   "metadata": {},
   "source": [
    "2. Processed with Spacy and tfidf"
   ]
  },
  {
   "cell_type": "code",
   "execution_count": 105,
   "metadata": {},
   "outputs": [
    {
     "data": {
      "text/html": [
       "<div>\n",
       "<style scoped>\n",
       "    .dataframe tbody tr th:only-of-type {\n",
       "        vertical-align: middle;\n",
       "    }\n",
       "\n",
       "    .dataframe tbody tr th {\n",
       "        vertical-align: top;\n",
       "    }\n",
       "\n",
       "    .dataframe thead th {\n",
       "        text-align: right;\n",
       "    }\n",
       "</style>\n",
       "<table border=\"1\" class=\"dataframe\">\n",
       "  <thead>\n",
       "    <tr style=\"text-align: right;\">\n",
       "      <th></th>\n",
       "      <th>0</th>\n",
       "      <th>1</th>\n",
       "      <th>2</th>\n",
       "      <th>3</th>\n",
       "      <th>4</th>\n",
       "      <th>5</th>\n",
       "      <th>6</th>\n",
       "      <th>7</th>\n",
       "      <th>8</th>\n",
       "      <th>9</th>\n",
       "      <th>...</th>\n",
       "      <th>138519</th>\n",
       "      <th>138520</th>\n",
       "      <th>138521</th>\n",
       "      <th>138522</th>\n",
       "      <th>138523</th>\n",
       "      <th>138524</th>\n",
       "      <th>138525</th>\n",
       "      <th>138526</th>\n",
       "      <th>138527</th>\n",
       "      <th>138528</th>\n",
       "    </tr>\n",
       "  </thead>\n",
       "  <tbody>\n",
       "    <tr>\n",
       "      <th>0</th>\n",
       "      <td>0.0</td>\n",
       "      <td>0.0</td>\n",
       "      <td>0.0</td>\n",
       "      <td>0.0</td>\n",
       "      <td>0.0</td>\n",
       "      <td>0.0</td>\n",
       "      <td>0.0</td>\n",
       "      <td>0.0</td>\n",
       "      <td>0.0</td>\n",
       "      <td>0.0</td>\n",
       "      <td>...</td>\n",
       "      <td>0.0</td>\n",
       "      <td>0.0</td>\n",
       "      <td>0.0</td>\n",
       "      <td>0.0</td>\n",
       "      <td>0.0</td>\n",
       "      <td>0.0</td>\n",
       "      <td>0.0</td>\n",
       "      <td>0.0</td>\n",
       "      <td>0.0</td>\n",
       "      <td>0.0</td>\n",
       "    </tr>\n",
       "  </tbody>\n",
       "</table>\n",
       "<p>1 rows × 138529 columns</p>\n",
       "</div>"
      ],
      "text/plain": [
       "   0       1       2       3       4       5       6       7       8       \\\n",
       "0     0.0     0.0     0.0     0.0     0.0     0.0     0.0     0.0     0.0   \n",
       "\n",
       "   9       ...  138519  138520  138521  138522  138523  138524  138525  \\\n",
       "0     0.0  ...     0.0     0.0     0.0     0.0     0.0     0.0     0.0   \n",
       "\n",
       "   138526  138527  138528  \n",
       "0     0.0     0.0     0.0  \n",
       "\n",
       "[1 rows x 138529 columns]"
      ]
     },
     "execution_count": 105,
     "metadata": {},
     "output_type": "execute_result"
    }
   ],
   "source": [
    "pd_text_spacy.head(1)"
   ]
  },
  {
   "cell_type": "code",
   "execution_count": 104,
   "metadata": {},
   "outputs": [
    {
     "data": {
      "text/html": [
       "<div>\n",
       "<style scoped>\n",
       "    .dataframe tbody tr th:only-of-type {\n",
       "        vertical-align: middle;\n",
       "    }\n",
       "\n",
       "    .dataframe tbody tr th {\n",
       "        vertical-align: top;\n",
       "    }\n",
       "\n",
       "    .dataframe thead th {\n",
       "        text-align: right;\n",
       "    }\n",
       "</style>\n",
       "<table border=\"1\" class=\"dataframe\">\n",
       "  <thead>\n",
       "    <tr style=\"text-align: right;\">\n",
       "      <th></th>\n",
       "      <th>0</th>\n",
       "      <th>1</th>\n",
       "      <th>2</th>\n",
       "      <th>3</th>\n",
       "      <th>4</th>\n",
       "      <th>5</th>\n",
       "      <th>6</th>\n",
       "      <th>7</th>\n",
       "      <th>8</th>\n",
       "      <th>9</th>\n",
       "      <th>...</th>\n",
       "      <th>16805</th>\n",
       "      <th>16806</th>\n",
       "      <th>16807</th>\n",
       "      <th>16808</th>\n",
       "      <th>16809</th>\n",
       "      <th>16810</th>\n",
       "      <th>16811</th>\n",
       "      <th>16812</th>\n",
       "      <th>16813</th>\n",
       "      <th>16814</th>\n",
       "    </tr>\n",
       "  </thead>\n",
       "  <tbody>\n",
       "    <tr>\n",
       "      <th>0</th>\n",
       "      <td>0.0</td>\n",
       "      <td>0.0</td>\n",
       "      <td>0.0</td>\n",
       "      <td>0.0</td>\n",
       "      <td>0.0</td>\n",
       "      <td>0.0</td>\n",
       "      <td>0.0</td>\n",
       "      <td>0.0</td>\n",
       "      <td>0.0</td>\n",
       "      <td>0.0</td>\n",
       "      <td>...</td>\n",
       "      <td>0.0</td>\n",
       "      <td>0.0</td>\n",
       "      <td>0.0</td>\n",
       "      <td>0.0</td>\n",
       "      <td>0.0</td>\n",
       "      <td>0.0</td>\n",
       "      <td>0.0</td>\n",
       "      <td>0.0</td>\n",
       "      <td>0.0</td>\n",
       "      <td>0.0</td>\n",
       "    </tr>\n",
       "  </tbody>\n",
       "</table>\n",
       "<p>1 rows × 16815 columns</p>\n",
       "</div>"
      ],
      "text/plain": [
       "   0      1      2      3      4      5      6      7      8      9      ...  \\\n",
       "0    0.0    0.0    0.0    0.0    0.0    0.0    0.0    0.0    0.0    0.0  ...   \n",
       "\n",
       "   16805  16806  16807  16808  16809  16810  16811  16812  16813  16814  \n",
       "0    0.0    0.0    0.0    0.0    0.0    0.0    0.0    0.0    0.0    0.0  \n",
       "\n",
       "[1 rows x 16815 columns]"
      ]
     },
     "execution_count": 104,
     "metadata": {},
     "output_type": "execute_result"
    }
   ],
   "source": [
    "pd_title_spacy.head(1)"
   ]
  },
  {
   "cell_type": "code",
   "execution_count": 110,
   "metadata": {},
   "outputs": [],
   "source": [
    "#making a first prediction with all of our models to see what text works best"
   ]
  },
  {
   "cell_type": "code",
   "execution_count": 118,
   "metadata": {},
   "outputs": [],
   "source": [
    "X_spacy = pd_text_spacy\n",
    "y_spacy = df1['label']"
   ]
  },
  {
   "cell_type": "code",
   "execution_count": 119,
   "metadata": {},
   "outputs": [
    {
     "data": {
      "text/plain": [
       "((15478, 138529), (3870, 138529))"
      ]
     },
     "execution_count": 119,
     "metadata": {},
     "output_type": "execute_result"
    }
   ],
   "source": [
    "X_train_s, X_test_s, y_train_s, y_test_s = train_test_split(X_spacy, y_spacy, test_size = 0.2, shuffle = True)\n",
    "X_train_s.shape, X_test_s.shape"
   ]
  },
  {
   "cell_type": "markdown",
   "metadata": {},
   "source": [
    "### SVC "
   ]
  },
  {
   "cell_type": "code",
   "execution_count": 200,
   "metadata": {},
   "outputs": [
    {
     "data": {
      "text/plain": [
       "0.9998061765085928"
      ]
     },
     "execution_count": 200,
     "metadata": {},
     "output_type": "execute_result"
    }
   ],
   "source": [
    "svc.fit(X_train_s, np.ravel(y_train_s)).score(X_train_s, np.ravel(y_train_s))"
   ]
  },
  {
   "cell_type": "code",
   "execution_count": 201,
   "metadata": {},
   "outputs": [],
   "source": [
    "y_pred_svc_s = svc.predict(X_test_s)"
   ]
  },
  {
   "cell_type": "code",
   "execution_count": 202,
   "metadata": {},
   "outputs": [
    {
     "name": "stdout",
     "output_type": "stream",
     "text": [
      "Accuracy is: 0.9710594315245478\n",
      "Mean Squared Error is: 0.1701192772011808\n",
      "              precision    recall  f1-score   support\n",
      "\n",
      "           0       0.98      0.97      0.97      2121\n",
      "           1       0.97      0.97      0.97      1749\n",
      "\n",
      "    accuracy                           0.97      3870\n",
      "   macro avg       0.97      0.97      0.97      3870\n",
      "weighted avg       0.97      0.97      0.97      3870\n",
      "\n"
     ]
    }
   ],
   "source": [
    "print(\"Accuracy is:\", metrics.accuracy_score(y_test_s, y_pred_svc_s))\n",
    "print(\"Mean Squared Error is:\", np.sqrt(mean_squared_error(y_test_s, y_pred_svc_s)))\n",
    "print(metrics.classification_report(y_test_s, y_pred_svc_s))"
   ]
  },
  {
   "cell_type": "markdown",
   "metadata": {},
   "source": [
    "### Logistic Regression"
   ]
  },
  {
   "cell_type": "code",
   "execution_count": 203,
   "metadata": {},
   "outputs": [
    {
     "data": {
      "text/plain": [
       "0.9835250032303915"
      ]
     },
     "execution_count": 203,
     "metadata": {},
     "output_type": "execute_result"
    }
   ],
   "source": [
    "lr.fit(X_train_s, np.ravel(y_train_s)).score(X_train_s, np.ravel(y_train_s))"
   ]
  },
  {
   "cell_type": "code",
   "execution_count": 204,
   "metadata": {},
   "outputs": [],
   "source": [
    "y_pred_lr_s = lr.predict(X_test_s)"
   ]
  },
  {
   "cell_type": "code",
   "execution_count": 205,
   "metadata": {},
   "outputs": [
    {
     "name": "stdout",
     "output_type": "stream",
     "text": [
      "Accuracy is: 0.9627906976744186\n",
      "Mean Squared Error is: 0.19289712886816485\n",
      "              precision    recall  f1-score   support\n",
      "\n",
      "           0       0.97      0.96      0.97      2121\n",
      "           1       0.95      0.96      0.96      1749\n",
      "\n",
      "    accuracy                           0.96      3870\n",
      "   macro avg       0.96      0.96      0.96      3870\n",
      "weighted avg       0.96      0.96      0.96      3870\n",
      "\n"
     ]
    }
   ],
   "source": [
    "print(\"Accuracy is:\", metrics.accuracy_score(y_test_s, y_pred_lr_s))\n",
    "print(\"Mean Squared Error is:\", np.sqrt(mean_squared_error(y_test_s, y_pred_lr_s)))\n",
    "print(metrics.classification_report(y_test_s, y_pred_lr_s))"
   ]
  },
  {
   "cell_type": "markdown",
   "metadata": {},
   "source": [
    "### Naive Bayes"
   ]
  },
  {
   "cell_type": "code",
   "execution_count": 206,
   "metadata": {},
   "outputs": [
    {
     "data": {
      "text/plain": [
       "0.9075461945987854"
      ]
     },
     "execution_count": 206,
     "metadata": {},
     "output_type": "execute_result"
    }
   ],
   "source": [
    "nb.fit(X_train_s, np.ravel(y_train_s)).score(X_train_s, np.ravel(y_train_s))"
   ]
  },
  {
   "cell_type": "code",
   "execution_count": 207,
   "metadata": {},
   "outputs": [],
   "source": [
    "y_pred_nb_s = nb.predict(X_test_s)"
   ]
  },
  {
   "cell_type": "code",
   "execution_count": 208,
   "metadata": {},
   "outputs": [
    {
     "name": "stdout",
     "output_type": "stream",
     "text": [
      "Accuracy is: 0.8770025839793282\n",
      "Mean Squared Error is: 0.3507098744270994\n",
      "              precision    recall  f1-score   support\n",
      "\n",
      "           0       0.82      1.00      0.90      2121\n",
      "           1       0.99      0.73      0.84      1749\n",
      "\n",
      "    accuracy                           0.88      3870\n",
      "   macro avg       0.91      0.86      0.87      3870\n",
      "weighted avg       0.90      0.88      0.87      3870\n",
      "\n"
     ]
    }
   ],
   "source": [
    "print(\"Accuracy is:\", metrics.accuracy_score(y_test_s, y_pred_nb_s))\n",
    "print(\"Mean Squared Error is:\", np.sqrt(mean_squared_error(y_test_s, y_pred_nb_s)))\n",
    "print(metrics.classification_report(y_test_s, y_pred_nb_s))"
   ]
  },
  {
   "cell_type": "markdown",
   "metadata": {},
   "source": [
    "### Random Forest "
   ]
  },
  {
   "cell_type": "code",
   "execution_count": 209,
   "metadata": {},
   "outputs": [
    {
     "data": {
      "text/plain": [
       "0.9583279493474609"
      ]
     },
     "execution_count": 209,
     "metadata": {},
     "output_type": "execute_result"
    }
   ],
   "source": [
    "rf.fit(X_train_s, np.ravel(y_train_s)).score(X_train_s, np.ravel(y_train_s))"
   ]
  },
  {
   "cell_type": "code",
   "execution_count": 210,
   "metadata": {},
   "outputs": [],
   "source": [
    "y_pred_rf_s = rf.predict(X_test_s)"
   ]
  },
  {
   "cell_type": "code",
   "execution_count": 211,
   "metadata": {},
   "outputs": [
    {
     "name": "stdout",
     "output_type": "stream",
     "text": [
      "Accuracy is: 0.9219638242894057\n",
      "Mean Squared Error is: 0.2793495582788602\n",
      "              precision    recall  f1-score   support\n",
      "\n",
      "           0       0.92      0.93      0.93      2121\n",
      "           1       0.92      0.91      0.91      1749\n",
      "\n",
      "    accuracy                           0.92      3870\n",
      "   macro avg       0.92      0.92      0.92      3870\n",
      "weighted avg       0.92      0.92      0.92      3870\n",
      "\n"
     ]
    }
   ],
   "source": [
    "print(\"Accuracy is:\", metrics.accuracy_score(y_test_s, y_pred_rf_s))\n",
    "print(\"Mean Squared Error is:\", np.sqrt(mean_squared_error(y_test_s, y_pred_rf_s)))\n",
    "print(metrics.classification_report(y_test_s, y_pred_rf_s))"
   ]
  },
  {
   "cell_type": "code",
   "execution_count": 212,
   "metadata": {},
   "outputs": [
    {
     "data": {
      "text/plain": [
       "{'bootstrap': True,\n",
       " 'ccp_alpha': 0.0,\n",
       " 'class_weight': None,\n",
       " 'criterion': 'gini',\n",
       " 'max_depth': 12,\n",
       " 'max_features': 'auto',\n",
       " 'max_leaf_nodes': None,\n",
       " 'max_samples': None,\n",
       " 'min_impurity_decrease': 0.0,\n",
       " 'min_impurity_split': None,\n",
       " 'min_samples_leaf': 1,\n",
       " 'min_samples_split': 2,\n",
       " 'min_weight_fraction_leaf': 0.0,\n",
       " 'n_estimators': 100,\n",
       " 'n_jobs': None,\n",
       " 'oob_score': False,\n",
       " 'random_state': None,\n",
       " 'verbose': 0,\n",
       " 'warm_start': False}"
      ]
     },
     "execution_count": 212,
     "metadata": {},
     "output_type": "execute_result"
    }
   ],
   "source": [
    "rf.get_params()"
   ]
  },
  {
   "cell_type": "code",
   "execution_count": null,
   "metadata": {},
   "outputs": [],
   "source": []
  },
  {
   "cell_type": "markdown",
   "metadata": {},
   "source": [
    "3. Word2Vec transformation"
   ]
  },
  {
   "cell_type": "code",
   "execution_count": null,
   "metadata": {},
   "outputs": [],
   "source": [
    "#PENDING"
   ]
  },
  {
   "cell_type": "markdown",
   "metadata": {},
   "source": [
    "4. Fasttext transformation"
   ]
  },
  {
   "cell_type": "code",
   "execution_count": 106,
   "metadata": {},
   "outputs": [
    {
     "data": {
      "text/html": [
       "<div>\n",
       "<style scoped>\n",
       "    .dataframe tbody tr th:only-of-type {\n",
       "        vertical-align: middle;\n",
       "    }\n",
       "\n",
       "    .dataframe tbody tr th {\n",
       "        vertical-align: top;\n",
       "    }\n",
       "\n",
       "    .dataframe thead th {\n",
       "        text-align: right;\n",
       "    }\n",
       "</style>\n",
       "<table border=\"1\" class=\"dataframe\">\n",
       "  <thead>\n",
       "    <tr style=\"text-align: right;\">\n",
       "      <th></th>\n",
       "      <th>0</th>\n",
       "      <th>1</th>\n",
       "      <th>2</th>\n",
       "      <th>3</th>\n",
       "      <th>4</th>\n",
       "      <th>5</th>\n",
       "      <th>6</th>\n",
       "      <th>7</th>\n",
       "      <th>8</th>\n",
       "      <th>9</th>\n",
       "      <th>...</th>\n",
       "      <th>290</th>\n",
       "      <th>291</th>\n",
       "      <th>292</th>\n",
       "      <th>293</th>\n",
       "      <th>294</th>\n",
       "      <th>295</th>\n",
       "      <th>296</th>\n",
       "      <th>297</th>\n",
       "      <th>298</th>\n",
       "      <th>299</th>\n",
       "    </tr>\n",
       "  </thead>\n",
       "  <tbody>\n",
       "    <tr>\n",
       "      <th>0</th>\n",
       "      <td>0.004179</td>\n",
       "      <td>0.027928</td>\n",
       "      <td>0.000111</td>\n",
       "      <td>0.019891</td>\n",
       "      <td>-0.044248</td>\n",
       "      <td>-0.004025</td>\n",
       "      <td>0.007626</td>\n",
       "      <td>-0.030489</td>\n",
       "      <td>-0.006896</td>\n",
       "      <td>0.030486</td>\n",
       "      <td>...</td>\n",
       "      <td>0.021898</td>\n",
       "      <td>-0.008868</td>\n",
       "      <td>-0.053589</td>\n",
       "      <td>-0.031112</td>\n",
       "      <td>0.009246</td>\n",
       "      <td>0.013437</td>\n",
       "      <td>0.015421</td>\n",
       "      <td>0.066602</td>\n",
       "      <td>0.003685</td>\n",
       "      <td>0.006341</td>\n",
       "    </tr>\n",
       "  </tbody>\n",
       "</table>\n",
       "<p>1 rows × 300 columns</p>\n",
       "</div>"
      ],
      "text/plain": [
       "        0         1         2         3         4         5         6    \\\n",
       "0  0.004179  0.027928  0.000111  0.019891 -0.044248 -0.004025  0.007626   \n",
       "\n",
       "        7         8         9    ...       290       291       292       293  \\\n",
       "0 -0.030489 -0.006896  0.030486  ...  0.021898 -0.008868 -0.053589 -0.031112   \n",
       "\n",
       "        294       295       296       297       298       299  \n",
       "0  0.009246  0.013437  0.015421  0.066602  0.003685  0.006341  \n",
       "\n",
       "[1 rows x 300 columns]"
      ]
     },
     "execution_count": 106,
     "metadata": {},
     "output_type": "execute_result"
    }
   ],
   "source": [
    "pd_title_ft.head(1)"
   ]
  },
  {
   "cell_type": "code",
   "execution_count": 107,
   "metadata": {},
   "outputs": [
    {
     "data": {
      "text/html": [
       "<div>\n",
       "<style scoped>\n",
       "    .dataframe tbody tr th:only-of-type {\n",
       "        vertical-align: middle;\n",
       "    }\n",
       "\n",
       "    .dataframe tbody tr th {\n",
       "        vertical-align: top;\n",
       "    }\n",
       "\n",
       "    .dataframe thead th {\n",
       "        text-align: right;\n",
       "    }\n",
       "</style>\n",
       "<table border=\"1\" class=\"dataframe\">\n",
       "  <thead>\n",
       "    <tr style=\"text-align: right;\">\n",
       "      <th></th>\n",
       "      <th>0</th>\n",
       "      <th>1</th>\n",
       "      <th>2</th>\n",
       "      <th>3</th>\n",
       "      <th>4</th>\n",
       "      <th>5</th>\n",
       "      <th>6</th>\n",
       "      <th>7</th>\n",
       "      <th>8</th>\n",
       "      <th>9</th>\n",
       "      <th>...</th>\n",
       "      <th>290</th>\n",
       "      <th>291</th>\n",
       "      <th>292</th>\n",
       "      <th>293</th>\n",
       "      <th>294</th>\n",
       "      <th>295</th>\n",
       "      <th>296</th>\n",
       "      <th>297</th>\n",
       "      <th>298</th>\n",
       "      <th>299</th>\n",
       "    </tr>\n",
       "  </thead>\n",
       "  <tbody>\n",
       "    <tr>\n",
       "      <th>0</th>\n",
       "      <td>-0.012867</td>\n",
       "      <td>0.01243</td>\n",
       "      <td>0.008407</td>\n",
       "      <td>0.040035</td>\n",
       "      <td>-0.037501</td>\n",
       "      <td>-0.00756</td>\n",
       "      <td>0.00555</td>\n",
       "      <td>-0.010244</td>\n",
       "      <td>-0.007751</td>\n",
       "      <td>0.002132</td>\n",
       "      <td>...</td>\n",
       "      <td>0.024282</td>\n",
       "      <td>-0.005968</td>\n",
       "      <td>-0.05476</td>\n",
       "      <td>0.000304</td>\n",
       "      <td>-0.008345</td>\n",
       "      <td>0.001611</td>\n",
       "      <td>0.000055</td>\n",
       "      <td>0.076241</td>\n",
       "      <td>-0.001044</td>\n",
       "      <td>0.008919</td>\n",
       "    </tr>\n",
       "  </tbody>\n",
       "</table>\n",
       "<p>1 rows × 300 columns</p>\n",
       "</div>"
      ],
      "text/plain": [
       "        0        1         2         3         4        5        6    \\\n",
       "0 -0.012867  0.01243  0.008407  0.040035 -0.037501 -0.00756  0.00555   \n",
       "\n",
       "        7         8         9    ...       290       291      292       293  \\\n",
       "0 -0.010244 -0.007751  0.002132  ...  0.024282 -0.005968 -0.05476  0.000304   \n",
       "\n",
       "        294       295       296       297       298       299  \n",
       "0 -0.008345  0.001611  0.000055  0.076241 -0.001044  0.008919  \n",
       "\n",
       "[1 rows x 300 columns]"
      ]
     },
     "execution_count": 107,
     "metadata": {},
     "output_type": "execute_result"
    }
   ],
   "source": [
    "pd_text_ft.head(1)"
   ]
  },
  {
   "cell_type": "code",
   "execution_count": null,
   "metadata": {},
   "outputs": [],
   "source": [
    "#making a first prediction with all of our models to see what text works best"
   ]
  },
  {
   "cell_type": "code",
   "execution_count": 116,
   "metadata": {},
   "outputs": [],
   "source": [
    "X_ft = pd_text_ft\n",
    "y_ft = df1['label']"
   ]
  },
  {
   "cell_type": "code",
   "execution_count": 117,
   "metadata": {},
   "outputs": [
    {
     "data": {
      "text/plain": [
       "((15478, 300), (3870, 300))"
      ]
     },
     "execution_count": 117,
     "metadata": {},
     "output_type": "execute_result"
    }
   ],
   "source": [
    "X_train_ft, X_test_ft, y_train_ft, y_test_ft = train_test_split(X_ft, y_ft, test_size = 0.2, shuffle = True)\n",
    "X_train_ft.shape, X_test_ft.shape"
   ]
  },
  {
   "cell_type": "markdown",
   "metadata": {},
   "source": [
    "### SVC "
   ]
  },
  {
   "cell_type": "code",
   "execution_count": 213,
   "metadata": {},
   "outputs": [
    {
     "data": {
      "text/plain": [
       "0.919240211913684"
      ]
     },
     "execution_count": 213,
     "metadata": {},
     "output_type": "execute_result"
    }
   ],
   "source": [
    "svc.fit(X_train_ft, np.ravel(y_train_ft)).score(X_train_ft, np.ravel(y_train_ft))"
   ]
  },
  {
   "cell_type": "code",
   "execution_count": 214,
   "metadata": {},
   "outputs": [],
   "source": [
    "y_pred_svc_ft = svc.predict(X_test_ft)"
   ]
  },
  {
   "cell_type": "code",
   "execution_count": 215,
   "metadata": {},
   "outputs": [
    {
     "name": "stdout",
     "output_type": "stream",
     "text": [
      "Accuracy is: 0.9183462532299742\n",
      "Mean Squared Error is: 0.2857511973203714\n",
      "              precision    recall  f1-score   support\n",
      "\n",
      "           0       0.91      0.93      0.92      2053\n",
      "           1       0.92      0.90      0.91      1817\n",
      "\n",
      "    accuracy                           0.92      3870\n",
      "   macro avg       0.92      0.92      0.92      3870\n",
      "weighted avg       0.92      0.92      0.92      3870\n",
      "\n"
     ]
    }
   ],
   "source": [
    "print(\"Accuracy is:\", metrics.accuracy_score(y_test_ft, y_pred_svc_ft))\n",
    "print(\"Mean Squared Error is:\", np.sqrt(mean_squared_error(y_test_ft, y_pred_svc_ft)))\n",
    "print(metrics.classification_report(y_test_ft, y_pred_svc_ft))"
   ]
  },
  {
   "cell_type": "markdown",
   "metadata": {},
   "source": [
    "### Logistic Regression"
   ]
  },
  {
   "cell_type": "code",
   "execution_count": 216,
   "metadata": {},
   "outputs": [
    {
     "data": {
      "text/plain": [
       "0.8605116940173149"
      ]
     },
     "execution_count": 216,
     "metadata": {},
     "output_type": "execute_result"
    }
   ],
   "source": [
    "lr.fit(X_train_ft, np.ravel(y_train_ft)).score(X_train_ft, np.ravel(y_train_ft))"
   ]
  },
  {
   "cell_type": "code",
   "execution_count": 217,
   "metadata": {},
   "outputs": [],
   "source": [
    "y_pred_lr_ft = lr.predict(X_test_ft)"
   ]
  },
  {
   "cell_type": "code",
   "execution_count": 218,
   "metadata": {},
   "outputs": [
    {
     "name": "stdout",
     "output_type": "stream",
     "text": [
      "Accuracy is: 0.8576227390180878\n",
      "Mean Squared Error is: 0.37732911494067367\n",
      "              precision    recall  f1-score   support\n",
      "\n",
      "           0       0.83      0.91      0.87      2053\n",
      "           1       0.89      0.79      0.84      1817\n",
      "\n",
      "    accuracy                           0.86      3870\n",
      "   macro avg       0.86      0.85      0.86      3870\n",
      "weighted avg       0.86      0.86      0.86      3870\n",
      "\n"
     ]
    }
   ],
   "source": [
    "print(\"Accuracy is:\", metrics.accuracy_score(y_test_ft, y_pred_lr_ft))\n",
    "print(\"Mean Squared Error is:\", np.sqrt(mean_squared_error(y_test_ft, y_pred_lr_ft)))\n",
    "print(metrics.classification_report(y_test_ft, y_pred_lr_ft))"
   ]
  },
  {
   "cell_type": "markdown",
   "metadata": {},
   "source": [
    "### Naive Bayes"
   ]
  },
  {
   "cell_type": "code",
   "execution_count": null,
   "metadata": {},
   "outputs": [],
   "source": [
    "nb.fit(X_train_ft, np.ravel(y_train_ft)).score(X_train_ft, np.ravel(y_train_ft))"
   ]
  },
  {
   "cell_type": "code",
   "execution_count": null,
   "metadata": {},
   "outputs": [],
   "source": [
    "y_pred_nb = nb.predict(X_test_ft)"
   ]
  },
  {
   "cell_type": "code",
   "execution_count": null,
   "metadata": {},
   "outputs": [],
   "source": [
    "print(\"Accuracy is:\", metrics.accuracy_score(y_test_ft, y_pred_nb))\n",
    "print(\"Mean Squared Error is:\", np.sqrt(mean_squared_error(y_test_ft, y_pred_nb)))\n",
    "print(metrics.classification_report(y_test_ft, y_pred_nb))"
   ]
  },
  {
   "cell_type": "markdown",
   "metadata": {},
   "source": [
    "### Random Forest "
   ]
  },
  {
   "cell_type": "code",
   "execution_count": 219,
   "metadata": {},
   "outputs": [
    {
     "data": {
      "text/plain": [
       "0.9910841193952707"
      ]
     },
     "execution_count": 219,
     "metadata": {},
     "output_type": "execute_result"
    }
   ],
   "source": [
    "rf.fit(X_train_ft, np.ravel(y_train_ft)).score(X_train_ft, np.ravel(y_train_ft))"
   ]
  },
  {
   "cell_type": "code",
   "execution_count": 220,
   "metadata": {},
   "outputs": [],
   "source": [
    "y_pred_rf_ft = rf.predict(X_test_ft)"
   ]
  },
  {
   "cell_type": "code",
   "execution_count": 221,
   "metadata": {},
   "outputs": [
    {
     "name": "stdout",
     "output_type": "stream",
     "text": [
      "Accuracy is: 0.8904392764857881\n",
      "Mean Squared Error is: 0.3309995823474886\n",
      "              precision    recall  f1-score   support\n",
      "\n",
      "           0       0.88      0.91      0.90      2053\n",
      "           1       0.90      0.86      0.88      1817\n",
      "\n",
      "    accuracy                           0.89      3870\n",
      "   macro avg       0.89      0.89      0.89      3870\n",
      "weighted avg       0.89      0.89      0.89      3870\n",
      "\n"
     ]
    }
   ],
   "source": [
    "print(\"Accuracy is:\", metrics.accuracy_score(y_test_ft, y_pred_rf_ft))\n",
    "print(\"Mean Squared Error is:\", np.sqrt(mean_squared_error(y_test_ft, y_pred_rf_ft)))\n",
    "print(metrics.classification_report(y_test_ft, y_pred_rf_ft))"
   ]
  },
  {
   "cell_type": "code",
   "execution_count": 222,
   "metadata": {},
   "outputs": [
    {
     "data": {
      "text/plain": [
       "{'bootstrap': True,\n",
       " 'ccp_alpha': 0.0,\n",
       " 'class_weight': None,\n",
       " 'criterion': 'gini',\n",
       " 'max_depth': 12,\n",
       " 'max_features': 'auto',\n",
       " 'max_leaf_nodes': None,\n",
       " 'max_samples': None,\n",
       " 'min_impurity_decrease': 0.0,\n",
       " 'min_impurity_split': None,\n",
       " 'min_samples_leaf': 1,\n",
       " 'min_samples_split': 2,\n",
       " 'min_weight_fraction_leaf': 0.0,\n",
       " 'n_estimators': 100,\n",
       " 'n_jobs': None,\n",
       " 'oob_score': False,\n",
       " 'random_state': None,\n",
       " 'verbose': 0,\n",
       " 'warm_start': False}"
      ]
     },
     "execution_count": 222,
     "metadata": {},
     "output_type": "execute_result"
    }
   ],
   "source": [
    "rf.get_params()"
   ]
  },
  {
   "cell_type": "markdown",
   "metadata": {},
   "source": [
    "## Comparing first results to select best preprocessing data and models"
   ]
  },
  {
   "cell_type": "markdown",
   "metadata": {},
   "source": [
    "The best results have been given by preprocessed data with spacy:"
   ]
  },
  {
   "cell_type": "code",
   "execution_count": 223,
   "metadata": {},
   "outputs": [
    {
     "name": "stdout",
     "output_type": "stream",
     "text": [
      "              precision    recall  f1-score   support\n",
      "\n",
      "           0       0.98      0.97      0.97      2121\n",
      "           1       0.97      0.97      0.97      1749\n",
      "\n",
      "    accuracy                           0.97      3870\n",
      "   macro avg       0.97      0.97      0.97      3870\n",
      "weighted avg       0.97      0.97      0.97      3870\n",
      "\n",
      "              precision    recall  f1-score   support\n",
      "\n",
      "           0       0.97      0.96      0.97      2121\n",
      "           1       0.95      0.96      0.96      1749\n",
      "\n",
      "    accuracy                           0.96      3870\n",
      "   macro avg       0.96      0.96      0.96      3870\n",
      "weighted avg       0.96      0.96      0.96      3870\n",
      "\n",
      "              precision    recall  f1-score   support\n",
      "\n",
      "           0       0.82      1.00      0.90      2121\n",
      "           1       0.99      0.73      0.84      1749\n",
      "\n",
      "    accuracy                           0.88      3870\n",
      "   macro avg       0.91      0.86      0.87      3870\n",
      "weighted avg       0.90      0.88      0.87      3870\n",
      "\n",
      "              precision    recall  f1-score   support\n",
      "\n",
      "           0       0.92      0.93      0.93      2121\n",
      "           1       0.92      0.91      0.91      1749\n",
      "\n",
      "    accuracy                           0.92      3870\n",
      "   macro avg       0.92      0.92      0.92      3870\n",
      "weighted avg       0.92      0.92      0.92      3870\n",
      "\n"
     ]
    }
   ],
   "source": [
    "print(metrics.classification_report(y_test_s, y_pred_svc_s))\n",
    "print(metrics.classification_report(y_test_s, y_pred_lr_s))\n",
    "print(metrics.classification_report(y_test_s, y_pred_nb_s))\n",
    "print(metrics.classification_report(y_test_s, y_pred_rf_s))"
   ]
  }
 ],
 "metadata": {
  "kernelspec": {
   "display_name": "Python 3",
   "language": "python",
   "name": "python3"
  },
  "language_info": {
   "codemirror_mode": {
    "name": "ipython",
    "version": 3
   },
   "file_extension": ".py",
   "mimetype": "text/x-python",
   "name": "python",
   "nbconvert_exporter": "python",
   "pygments_lexer": "ipython3",
   "version": "3.8.2"
  }
 },
 "nbformat": 4,
 "nbformat_minor": 4
}
