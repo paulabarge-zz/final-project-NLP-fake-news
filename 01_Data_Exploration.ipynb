{
 "cells": [
  {
   "cell_type": "markdown",
   "metadata": {},
   "source": [
    "### Importing Libraries:"
   ]
  },
  {
   "cell_type": "code",
   "execution_count": 46,
   "metadata": {},
   "outputs": [],
   "source": [
    "import pandas as pd \n",
    "import matplotlib.pyplot as plt\n",
    "import seaborn as sns\n",
    "import numpy as np\n",
    "import nltk\n",
    "import re\n",
    "from wordcloud import WordCloud\n",
    "from nltk.corpus import stopwords"
   ]
  },
  {
   "cell_type": "markdown",
   "metadata": {},
   "source": [
    "### Importing dataset :"
   ]
  },
  {
   "cell_type": "code",
   "execution_count": 47,
   "metadata": {},
   "outputs": [],
   "source": [
    "fake_news = pd.read_csv('data/Fake.csv.zip')\n",
    "true_news = pd.read_csv('data/True.csv.zip')"
   ]
  },
  {
   "cell_type": "code",
   "execution_count": 48,
   "metadata": {},
   "outputs": [
    {
     "data": {
      "text/html": [
       "<div>\n",
       "<style scoped>\n",
       "    .dataframe tbody tr th:only-of-type {\n",
       "        vertical-align: middle;\n",
       "    }\n",
       "\n",
       "    .dataframe tbody tr th {\n",
       "        vertical-align: top;\n",
       "    }\n",
       "\n",
       "    .dataframe thead th {\n",
       "        text-align: right;\n",
       "    }\n",
       "</style>\n",
       "<table border=\"1\" class=\"dataframe\">\n",
       "  <thead>\n",
       "    <tr style=\"text-align: right;\">\n",
       "      <th></th>\n",
       "      <th>title</th>\n",
       "      <th>text</th>\n",
       "      <th>subject</th>\n",
       "      <th>date</th>\n",
       "    </tr>\n",
       "  </thead>\n",
       "  <tbody>\n",
       "    <tr>\n",
       "      <th>0</th>\n",
       "      <td>Donald Trump Sends Out Embarrassing New Year’...</td>\n",
       "      <td>Donald Trump just couldn t wish all Americans ...</td>\n",
       "      <td>News</td>\n",
       "      <td>December 31, 2017</td>\n",
       "    </tr>\n",
       "    <tr>\n",
       "      <th>1</th>\n",
       "      <td>Drunk Bragging Trump Staffer Started Russian ...</td>\n",
       "      <td>House Intelligence Committee Chairman Devin Nu...</td>\n",
       "      <td>News</td>\n",
       "      <td>December 31, 2017</td>\n",
       "    </tr>\n",
       "    <tr>\n",
       "      <th>2</th>\n",
       "      <td>Sheriff David Clarke Becomes An Internet Joke...</td>\n",
       "      <td>On Friday, it was revealed that former Milwauk...</td>\n",
       "      <td>News</td>\n",
       "      <td>December 30, 2017</td>\n",
       "    </tr>\n",
       "    <tr>\n",
       "      <th>3</th>\n",
       "      <td>Trump Is So Obsessed He Even Has Obama’s Name...</td>\n",
       "      <td>On Christmas day, Donald Trump announced that ...</td>\n",
       "      <td>News</td>\n",
       "      <td>December 29, 2017</td>\n",
       "    </tr>\n",
       "    <tr>\n",
       "      <th>4</th>\n",
       "      <td>Pope Francis Just Called Out Donald Trump Dur...</td>\n",
       "      <td>Pope Francis used his annual Christmas Day mes...</td>\n",
       "      <td>News</td>\n",
       "      <td>December 25, 2017</td>\n",
       "    </tr>\n",
       "    <tr>\n",
       "      <th>5</th>\n",
       "      <td>Racist Alabama Cops Brutalize Black Boy While...</td>\n",
       "      <td>The number of cases of cops brutalizing and ki...</td>\n",
       "      <td>News</td>\n",
       "      <td>December 25, 2017</td>\n",
       "    </tr>\n",
       "    <tr>\n",
       "      <th>6</th>\n",
       "      <td>Fresh Off The Golf Course, Trump Lashes Out A...</td>\n",
       "      <td>Donald Trump spent a good portion of his day a...</td>\n",
       "      <td>News</td>\n",
       "      <td>December 23, 2017</td>\n",
       "    </tr>\n",
       "    <tr>\n",
       "      <th>7</th>\n",
       "      <td>Trump Said Some INSANELY Racist Stuff Inside ...</td>\n",
       "      <td>In the wake of yet another court decision that...</td>\n",
       "      <td>News</td>\n",
       "      <td>December 23, 2017</td>\n",
       "    </tr>\n",
       "    <tr>\n",
       "      <th>8</th>\n",
       "      <td>Former CIA Director Slams Trump Over UN Bully...</td>\n",
       "      <td>Many people have raised the alarm regarding th...</td>\n",
       "      <td>News</td>\n",
       "      <td>December 22, 2017</td>\n",
       "    </tr>\n",
       "    <tr>\n",
       "      <th>9</th>\n",
       "      <td>WATCH: Brand-New Pro-Trump Ad Features So Muc...</td>\n",
       "      <td>Just when you might have thought we d get a br...</td>\n",
       "      <td>News</td>\n",
       "      <td>December 21, 2017</td>\n",
       "    </tr>\n",
       "  </tbody>\n",
       "</table>\n",
       "</div>"
      ],
      "text/plain": [
       "                                               title  \\\n",
       "0   Donald Trump Sends Out Embarrassing New Year’...   \n",
       "1   Drunk Bragging Trump Staffer Started Russian ...   \n",
       "2   Sheriff David Clarke Becomes An Internet Joke...   \n",
       "3   Trump Is So Obsessed He Even Has Obama’s Name...   \n",
       "4   Pope Francis Just Called Out Donald Trump Dur...   \n",
       "5   Racist Alabama Cops Brutalize Black Boy While...   \n",
       "6   Fresh Off The Golf Course, Trump Lashes Out A...   \n",
       "7   Trump Said Some INSANELY Racist Stuff Inside ...   \n",
       "8   Former CIA Director Slams Trump Over UN Bully...   \n",
       "9   WATCH: Brand-New Pro-Trump Ad Features So Muc...   \n",
       "\n",
       "                                                text subject  \\\n",
       "0  Donald Trump just couldn t wish all Americans ...    News   \n",
       "1  House Intelligence Committee Chairman Devin Nu...    News   \n",
       "2  On Friday, it was revealed that former Milwauk...    News   \n",
       "3  On Christmas day, Donald Trump announced that ...    News   \n",
       "4  Pope Francis used his annual Christmas Day mes...    News   \n",
       "5  The number of cases of cops brutalizing and ki...    News   \n",
       "6  Donald Trump spent a good portion of his day a...    News   \n",
       "7  In the wake of yet another court decision that...    News   \n",
       "8  Many people have raised the alarm regarding th...    News   \n",
       "9  Just when you might have thought we d get a br...    News   \n",
       "\n",
       "                date  \n",
       "0  December 31, 2017  \n",
       "1  December 31, 2017  \n",
       "2  December 30, 2017  \n",
       "3  December 29, 2017  \n",
       "4  December 25, 2017  \n",
       "5  December 25, 2017  \n",
       "6  December 23, 2017  \n",
       "7  December 23, 2017  \n",
       "8  December 22, 2017  \n",
       "9  December 21, 2017  "
      ]
     },
     "execution_count": 48,
     "metadata": {},
     "output_type": "execute_result"
    }
   ],
   "source": [
    "fake_news.head(10)"
   ]
  },
  {
   "cell_type": "code",
   "execution_count": 49,
   "metadata": {
    "scrolled": true
   },
   "outputs": [
    {
     "data": {
      "text/html": [
       "<div>\n",
       "<style scoped>\n",
       "    .dataframe tbody tr th:only-of-type {\n",
       "        vertical-align: middle;\n",
       "    }\n",
       "\n",
       "    .dataframe tbody tr th {\n",
       "        vertical-align: top;\n",
       "    }\n",
       "\n",
       "    .dataframe thead th {\n",
       "        text-align: right;\n",
       "    }\n",
       "</style>\n",
       "<table border=\"1\" class=\"dataframe\">\n",
       "  <thead>\n",
       "    <tr style=\"text-align: right;\">\n",
       "      <th></th>\n",
       "      <th>title</th>\n",
       "      <th>text</th>\n",
       "      <th>subject</th>\n",
       "      <th>date</th>\n",
       "    </tr>\n",
       "  </thead>\n",
       "  <tbody>\n",
       "    <tr>\n",
       "      <th>0</th>\n",
       "      <td>As U.S. budget fight looms, Republicans flip t...</td>\n",
       "      <td>WASHINGTON (Reuters) - The head of a conservat...</td>\n",
       "      <td>politicsNews</td>\n",
       "      <td>December 31, 2017</td>\n",
       "    </tr>\n",
       "    <tr>\n",
       "      <th>1</th>\n",
       "      <td>U.S. military to accept transgender recruits o...</td>\n",
       "      <td>WASHINGTON (Reuters) - Transgender people will...</td>\n",
       "      <td>politicsNews</td>\n",
       "      <td>December 29, 2017</td>\n",
       "    </tr>\n",
       "    <tr>\n",
       "      <th>2</th>\n",
       "      <td>Senior U.S. Republican senator: 'Let Mr. Muell...</td>\n",
       "      <td>WASHINGTON (Reuters) - The special counsel inv...</td>\n",
       "      <td>politicsNews</td>\n",
       "      <td>December 31, 2017</td>\n",
       "    </tr>\n",
       "    <tr>\n",
       "      <th>3</th>\n",
       "      <td>FBI Russia probe helped by Australian diplomat...</td>\n",
       "      <td>WASHINGTON (Reuters) - Trump campaign adviser ...</td>\n",
       "      <td>politicsNews</td>\n",
       "      <td>December 30, 2017</td>\n",
       "    </tr>\n",
       "    <tr>\n",
       "      <th>4</th>\n",
       "      <td>Trump wants Postal Service to charge 'much mor...</td>\n",
       "      <td>SEATTLE/WASHINGTON (Reuters) - President Donal...</td>\n",
       "      <td>politicsNews</td>\n",
       "      <td>December 29, 2017</td>\n",
       "    </tr>\n",
       "    <tr>\n",
       "      <th>5</th>\n",
       "      <td>White House, Congress prepare for talks on spe...</td>\n",
       "      <td>WEST PALM BEACH, Fla./WASHINGTON (Reuters) - T...</td>\n",
       "      <td>politicsNews</td>\n",
       "      <td>December 29, 2017</td>\n",
       "    </tr>\n",
       "    <tr>\n",
       "      <th>6</th>\n",
       "      <td>Trump says Russia probe will be fair, but time...</td>\n",
       "      <td>WEST PALM BEACH, Fla (Reuters) - President Don...</td>\n",
       "      <td>politicsNews</td>\n",
       "      <td>December 29, 2017</td>\n",
       "    </tr>\n",
       "    <tr>\n",
       "      <th>7</th>\n",
       "      <td>Factbox: Trump on Twitter (Dec 29) - Approval ...</td>\n",
       "      <td>The following statements were posted to the ve...</td>\n",
       "      <td>politicsNews</td>\n",
       "      <td>December 29, 2017</td>\n",
       "    </tr>\n",
       "    <tr>\n",
       "      <th>8</th>\n",
       "      <td>Trump on Twitter (Dec 28) - Global Warming</td>\n",
       "      <td>The following statements were posted to the ve...</td>\n",
       "      <td>politicsNews</td>\n",
       "      <td>December 29, 2017</td>\n",
       "    </tr>\n",
       "    <tr>\n",
       "      <th>9</th>\n",
       "      <td>Alabama official to certify Senator-elect Jone...</td>\n",
       "      <td>WASHINGTON (Reuters) - Alabama Secretary of St...</td>\n",
       "      <td>politicsNews</td>\n",
       "      <td>December 28, 2017</td>\n",
       "    </tr>\n",
       "  </tbody>\n",
       "</table>\n",
       "</div>"
      ],
      "text/plain": [
       "                                               title  \\\n",
       "0  As U.S. budget fight looms, Republicans flip t...   \n",
       "1  U.S. military to accept transgender recruits o...   \n",
       "2  Senior U.S. Republican senator: 'Let Mr. Muell...   \n",
       "3  FBI Russia probe helped by Australian diplomat...   \n",
       "4  Trump wants Postal Service to charge 'much mor...   \n",
       "5  White House, Congress prepare for talks on spe...   \n",
       "6  Trump says Russia probe will be fair, but time...   \n",
       "7  Factbox: Trump on Twitter (Dec 29) - Approval ...   \n",
       "8         Trump on Twitter (Dec 28) - Global Warming   \n",
       "9  Alabama official to certify Senator-elect Jone...   \n",
       "\n",
       "                                                text       subject  \\\n",
       "0  WASHINGTON (Reuters) - The head of a conservat...  politicsNews   \n",
       "1  WASHINGTON (Reuters) - Transgender people will...  politicsNews   \n",
       "2  WASHINGTON (Reuters) - The special counsel inv...  politicsNews   \n",
       "3  WASHINGTON (Reuters) - Trump campaign adviser ...  politicsNews   \n",
       "4  SEATTLE/WASHINGTON (Reuters) - President Donal...  politicsNews   \n",
       "5  WEST PALM BEACH, Fla./WASHINGTON (Reuters) - T...  politicsNews   \n",
       "6  WEST PALM BEACH, Fla (Reuters) - President Don...  politicsNews   \n",
       "7  The following statements were posted to the ve...  politicsNews   \n",
       "8  The following statements were posted to the ve...  politicsNews   \n",
       "9  WASHINGTON (Reuters) - Alabama Secretary of St...  politicsNews   \n",
       "\n",
       "                 date  \n",
       "0  December 31, 2017   \n",
       "1  December 29, 2017   \n",
       "2  December 31, 2017   \n",
       "3  December 30, 2017   \n",
       "4  December 29, 2017   \n",
       "5  December 29, 2017   \n",
       "6  December 29, 2017   \n",
       "7  December 29, 2017   \n",
       "8  December 29, 2017   \n",
       "9  December 28, 2017   "
      ]
     },
     "execution_count": 49,
     "metadata": {},
     "output_type": "execute_result"
    }
   ],
   "source": [
    "true_news.head(10)"
   ]
  },
  {
   "cell_type": "markdown",
   "metadata": {},
   "source": [
    "We will add a column to label Fake news as 1 and True news with a 0 to after concat both dataframes"
   ]
  },
  {
   "cell_type": "code",
   "execution_count": 50,
   "metadata": {},
   "outputs": [],
   "source": [
    "fake_news['Type'] = 1 \n",
    "true_news['Type'] = 0\n",
    "\n",
    "news = pd.concat([fake_news,true_news], ignore_index= True)"
   ]
  },
  {
   "cell_type": "code",
   "execution_count": 51,
   "metadata": {},
   "outputs": [],
   "source": [
    "news.to_csv('data/News.csv')"
   ]
  },
  {
   "cell_type": "markdown",
   "metadata": {},
   "source": [
    "### Resulting dataframe"
   ]
  },
  {
   "cell_type": "code",
   "execution_count": 52,
   "metadata": {},
   "outputs": [
    {
     "name": "stdout",
     "output_type": "stream",
     "text": [
      "<class 'pandas.core.frame.DataFrame'>\n",
      "RangeIndex: 44898 entries, 0 to 44897\n",
      "Data columns (total 5 columns):\n",
      " #   Column   Non-Null Count  Dtype \n",
      "---  ------   --------------  ----- \n",
      " 0   title    44898 non-null  object\n",
      " 1   text     44898 non-null  object\n",
      " 2   subject  44898 non-null  object\n",
      " 3   date     44898 non-null  object\n",
      " 4   Type     44898 non-null  int64 \n",
      "dtypes: int64(1), object(4)\n",
      "memory usage: 1.7+ MB\n"
     ]
    }
   ],
   "source": [
    "news.info()"
   ]
  },
  {
   "cell_type": "code",
   "execution_count": 53,
   "metadata": {},
   "outputs": [
    {
     "data": {
      "text/html": [
       "<div>\n",
       "<style scoped>\n",
       "    .dataframe tbody tr th:only-of-type {\n",
       "        vertical-align: middle;\n",
       "    }\n",
       "\n",
       "    .dataframe tbody tr th {\n",
       "        vertical-align: top;\n",
       "    }\n",
       "\n",
       "    .dataframe thead th {\n",
       "        text-align: right;\n",
       "    }\n",
       "</style>\n",
       "<table border=\"1\" class=\"dataframe\">\n",
       "  <thead>\n",
       "    <tr style=\"text-align: right;\">\n",
       "      <th></th>\n",
       "      <th>title</th>\n",
       "      <th>text</th>\n",
       "      <th>subject</th>\n",
       "      <th>date</th>\n",
       "      <th>Type</th>\n",
       "    </tr>\n",
       "  </thead>\n",
       "  <tbody>\n",
       "    <tr>\n",
       "      <th>0</th>\n",
       "      <td>Donald Trump Sends Out Embarrassing New Year’...</td>\n",
       "      <td>Donald Trump just couldn t wish all Americans ...</td>\n",
       "      <td>News</td>\n",
       "      <td>December 31, 2017</td>\n",
       "      <td>1</td>\n",
       "    </tr>\n",
       "    <tr>\n",
       "      <th>1</th>\n",
       "      <td>Drunk Bragging Trump Staffer Started Russian ...</td>\n",
       "      <td>House Intelligence Committee Chairman Devin Nu...</td>\n",
       "      <td>News</td>\n",
       "      <td>December 31, 2017</td>\n",
       "      <td>1</td>\n",
       "    </tr>\n",
       "    <tr>\n",
       "      <th>2</th>\n",
       "      <td>Sheriff David Clarke Becomes An Internet Joke...</td>\n",
       "      <td>On Friday, it was revealed that former Milwauk...</td>\n",
       "      <td>News</td>\n",
       "      <td>December 30, 2017</td>\n",
       "      <td>1</td>\n",
       "    </tr>\n",
       "    <tr>\n",
       "      <th>3</th>\n",
       "      <td>Trump Is So Obsessed He Even Has Obama’s Name...</td>\n",
       "      <td>On Christmas day, Donald Trump announced that ...</td>\n",
       "      <td>News</td>\n",
       "      <td>December 29, 2017</td>\n",
       "      <td>1</td>\n",
       "    </tr>\n",
       "    <tr>\n",
       "      <th>4</th>\n",
       "      <td>Pope Francis Just Called Out Donald Trump Dur...</td>\n",
       "      <td>Pope Francis used his annual Christmas Day mes...</td>\n",
       "      <td>News</td>\n",
       "      <td>December 25, 2017</td>\n",
       "      <td>1</td>\n",
       "    </tr>\n",
       "  </tbody>\n",
       "</table>\n",
       "</div>"
      ],
      "text/plain": [
       "                                               title  \\\n",
       "0   Donald Trump Sends Out Embarrassing New Year’...   \n",
       "1   Drunk Bragging Trump Staffer Started Russian ...   \n",
       "2   Sheriff David Clarke Becomes An Internet Joke...   \n",
       "3   Trump Is So Obsessed He Even Has Obama’s Name...   \n",
       "4   Pope Francis Just Called Out Donald Trump Dur...   \n",
       "\n",
       "                                                text subject  \\\n",
       "0  Donald Trump just couldn t wish all Americans ...    News   \n",
       "1  House Intelligence Committee Chairman Devin Nu...    News   \n",
       "2  On Friday, it was revealed that former Milwauk...    News   \n",
       "3  On Christmas day, Donald Trump announced that ...    News   \n",
       "4  Pope Francis used his annual Christmas Day mes...    News   \n",
       "\n",
       "                date  Type  \n",
       "0  December 31, 2017     1  \n",
       "1  December 31, 2017     1  \n",
       "2  December 30, 2017     1  \n",
       "3  December 29, 2017     1  \n",
       "4  December 25, 2017     1  "
      ]
     },
     "execution_count": 53,
     "metadata": {},
     "output_type": "execute_result"
    }
   ],
   "source": [
    "news.head(5)"
   ]
  },
  {
   "cell_type": "markdown",
   "metadata": {},
   "source": [
    "Now that I have imported the datasets and put them together, let's start the exploration of the dataset to understand our information and how to proceed.\n",
    "\n",
    "First, we are going to see if all the data types are correct and if there are null values"
   ]
  },
  {
   "cell_type": "markdown",
   "metadata": {},
   "source": [
    "### Dataset Exploration"
   ]
  },
  {
   "cell_type": "code",
   "execution_count": 54,
   "metadata": {},
   "outputs": [
    {
     "data": {
      "text/plain": [
       "title      object\n",
       "text       object\n",
       "subject    object\n",
       "date       object\n",
       "Type        int64\n",
       "dtype: object"
      ]
     },
     "execution_count": 54,
     "metadata": {},
     "output_type": "execute_result"
    }
   ],
   "source": [
    "news.dtypes"
   ]
  },
  {
   "cell_type": "code",
   "execution_count": 55,
   "metadata": {},
   "outputs": [
    {
     "name": "stdout",
     "output_type": "stream",
     "text": [
      "0    December 31, 2017\n",
      "Name: date, dtype: object\n",
      "44897    August 22, 2017 \n",
      "Name: date, dtype: object\n"
     ]
    },
    {
     "data": {
      "text/plain": [
       "21869    https://fedup.wpengine.com/wp-content/uploads/...\n",
       "15839    https://fedup.wpengine.com/wp-content/uploads/...\n",
       "17432    https://fedup.wpengine.com/wp-content/uploads/...\n",
       "21870    https://fedup.wpengine.com/wp-content/uploads/...\n",
       "15840    https://fedup.wpengine.com/wp-content/uploads/...\n",
       "17433    https://fedup.wpengine.com/wp-content/uploads/...\n",
       "15507    https://100percentfedup.com/video-hillary-aske...\n",
       "9358     https://100percentfedup.com/served-roy-moore-v...\n",
       "15508    https://100percentfedup.com/12-yr-old-black-co...\n",
       "44000                                   September 9, 2017 \n",
       "44017                                   September 9, 2017 \n",
       "44020                                   September 9, 2017 \n",
       "44042                                   September 9, 2017 \n",
       "44043                                   September 9, 2017 \n",
       "44019                                   September 9, 2017 \n",
       "44013                                   September 9, 2017 \n",
       "44016                                   September 9, 2017 \n",
       "44015                                   September 9, 2017 \n",
       "44014                                   September 9, 2017 \n",
       "44039                                   September 9, 2017 \n",
       "Name: date, dtype: object"
      ]
     },
     "execution_count": 55,
     "metadata": {},
     "output_type": "execute_result"
    }
   ],
   "source": [
    "#converting the date into a datetime column\n",
    "\n",
    "print(news.date.head(1))\n",
    "print(news.date.tail(1))\n",
    "news.date.sort_values(ascending=False).head(20)"
   ]
  },
  {
   "cell_type": "code",
   "execution_count": 56,
   "metadata": {},
   "outputs": [
    {
     "data": {
      "text/html": [
       "<div>\n",
       "<style scoped>\n",
       "    .dataframe tbody tr th:only-of-type {\n",
       "        vertical-align: middle;\n",
       "    }\n",
       "\n",
       "    .dataframe tbody tr th {\n",
       "        vertical-align: top;\n",
       "    }\n",
       "\n",
       "    .dataframe thead th {\n",
       "        text-align: right;\n",
       "    }\n",
       "</style>\n",
       "<table border=\"1\" class=\"dataframe\">\n",
       "  <thead>\n",
       "    <tr style=\"text-align: right;\">\n",
       "      <th></th>\n",
       "      <th>title</th>\n",
       "      <th>text</th>\n",
       "      <th>subject</th>\n",
       "      <th>date</th>\n",
       "      <th>Type</th>\n",
       "    </tr>\n",
       "  </thead>\n",
       "  <tbody>\n",
       "    <tr>\n",
       "      <th>17432</th>\n",
       "      <td>https://fedup.wpengine.com/wp-content/uploads/...</td>\n",
       "      <td>https://fedup.wpengine.com/wp-content/uploads/...</td>\n",
       "      <td>Government News</td>\n",
       "      <td>https://fedup.wpengine.com/wp-content/uploads/...</td>\n",
       "      <td>1</td>\n",
       "    </tr>\n",
       "    <tr>\n",
       "      <th>15839</th>\n",
       "      <td>https://fedup.wpengine.com/wp-content/uploads/...</td>\n",
       "      <td>https://fedup.wpengine.com/wp-content/uploads/...</td>\n",
       "      <td>politics</td>\n",
       "      <td>https://fedup.wpengine.com/wp-content/uploads/...</td>\n",
       "      <td>1</td>\n",
       "    </tr>\n",
       "    <tr>\n",
       "      <th>21869</th>\n",
       "      <td>https://fedup.wpengine.com/wp-content/uploads/...</td>\n",
       "      <td>https://fedup.wpengine.com/wp-content/uploads/...</td>\n",
       "      <td>left-news</td>\n",
       "      <td>https://fedup.wpengine.com/wp-content/uploads/...</td>\n",
       "      <td>1</td>\n",
       "    </tr>\n",
       "    <tr>\n",
       "      <th>17433</th>\n",
       "      <td>https://fedup.wpengine.com/wp-content/uploads/...</td>\n",
       "      <td>https://fedup.wpengine.com/wp-content/uploads/...</td>\n",
       "      <td>Government News</td>\n",
       "      <td>https://fedup.wpengine.com/wp-content/uploads/...</td>\n",
       "      <td>1</td>\n",
       "    </tr>\n",
       "    <tr>\n",
       "      <th>21870</th>\n",
       "      <td>https://fedup.wpengine.com/wp-content/uploads/...</td>\n",
       "      <td>https://fedup.wpengine.com/wp-content/uploads/...</td>\n",
       "      <td>left-news</td>\n",
       "      <td>https://fedup.wpengine.com/wp-content/uploads/...</td>\n",
       "      <td>1</td>\n",
       "    </tr>\n",
       "    <tr>\n",
       "      <th>15840</th>\n",
       "      <td>https://fedup.wpengine.com/wp-content/uploads/...</td>\n",
       "      <td>https://fedup.wpengine.com/wp-content/uploads/...</td>\n",
       "      <td>politics</td>\n",
       "      <td>https://fedup.wpengine.com/wp-content/uploads/...</td>\n",
       "      <td>1</td>\n",
       "    </tr>\n",
       "    <tr>\n",
       "      <th>15507</th>\n",
       "      <td>https://100percentfedup.com/video-hillary-aske...</td>\n",
       "      <td>https://100percentfedup.com/video-hillary-aske...</td>\n",
       "      <td>politics</td>\n",
       "      <td>https://100percentfedup.com/video-hillary-aske...</td>\n",
       "      <td>1</td>\n",
       "    </tr>\n",
       "    <tr>\n",
       "      <th>9358</th>\n",
       "      <td>https://100percentfedup.com/served-roy-moore-v...</td>\n",
       "      <td>https://100percentfedup.com/served-roy-moore-v...</td>\n",
       "      <td>politics</td>\n",
       "      <td>https://100percentfedup.com/served-roy-moore-v...</td>\n",
       "      <td>1</td>\n",
       "    </tr>\n",
       "    <tr>\n",
       "      <th>15508</th>\n",
       "      <td>https://100percentfedup.com/12-yr-old-black-co...</td>\n",
       "      <td>https://100percentfedup.com/12-yr-old-black-co...</td>\n",
       "      <td>politics</td>\n",
       "      <td>https://100percentfedup.com/12-yr-old-black-co...</td>\n",
       "      <td>1</td>\n",
       "    </tr>\n",
       "    <tr>\n",
       "      <th>44035</th>\n",
       "      <td>Nigeria's Buhari urges calm after herdsmen kil...</td>\n",
       "      <td>ABUJA (Reuters) - Nigeria s President Muhammad...</td>\n",
       "      <td>worldnews</td>\n",
       "      <td>September 9, 2017</td>\n",
       "      <td>0</td>\n",
       "    </tr>\n",
       "    <tr>\n",
       "      <th>44028</th>\n",
       "      <td>Hamas leader in Cairo to discuss Gaza blockade</td>\n",
       "      <td>GAZA (Reuters) - The new chief of Palestinian ...</td>\n",
       "      <td>worldnews</td>\n",
       "      <td>September 9, 2017</td>\n",
       "      <td>0</td>\n",
       "    </tr>\n",
       "  </tbody>\n",
       "</table>\n",
       "</div>"
      ],
      "text/plain": [
       "                                                   title  \\\n",
       "17432  https://fedup.wpengine.com/wp-content/uploads/...   \n",
       "15839  https://fedup.wpengine.com/wp-content/uploads/...   \n",
       "21869  https://fedup.wpengine.com/wp-content/uploads/...   \n",
       "17433  https://fedup.wpengine.com/wp-content/uploads/...   \n",
       "21870  https://fedup.wpengine.com/wp-content/uploads/...   \n",
       "15840  https://fedup.wpengine.com/wp-content/uploads/...   \n",
       "15507  https://100percentfedup.com/video-hillary-aske...   \n",
       "9358   https://100percentfedup.com/served-roy-moore-v...   \n",
       "15508  https://100percentfedup.com/12-yr-old-black-co...   \n",
       "44035  Nigeria's Buhari urges calm after herdsmen kil...   \n",
       "44028     Hamas leader in Cairo to discuss Gaza blockade   \n",
       "\n",
       "                                                    text          subject  \\\n",
       "17432  https://fedup.wpengine.com/wp-content/uploads/...  Government News   \n",
       "15839  https://fedup.wpengine.com/wp-content/uploads/...         politics   \n",
       "21869  https://fedup.wpengine.com/wp-content/uploads/...        left-news   \n",
       "17433  https://fedup.wpengine.com/wp-content/uploads/...  Government News   \n",
       "21870  https://fedup.wpengine.com/wp-content/uploads/...        left-news   \n",
       "15840  https://fedup.wpengine.com/wp-content/uploads/...         politics   \n",
       "15507  https://100percentfedup.com/video-hillary-aske...         politics   \n",
       "9358   https://100percentfedup.com/served-roy-moore-v...         politics   \n",
       "15508  https://100percentfedup.com/12-yr-old-black-co...         politics   \n",
       "44035  ABUJA (Reuters) - Nigeria s President Muhammad...        worldnews   \n",
       "44028  GAZA (Reuters) - The new chief of Palestinian ...        worldnews   \n",
       "\n",
       "                                                    date  Type  \n",
       "17432  https://fedup.wpengine.com/wp-content/uploads/...     1  \n",
       "15839  https://fedup.wpengine.com/wp-content/uploads/...     1  \n",
       "21869  https://fedup.wpengine.com/wp-content/uploads/...     1  \n",
       "17433  https://fedup.wpengine.com/wp-content/uploads/...     1  \n",
       "21870  https://fedup.wpengine.com/wp-content/uploads/...     1  \n",
       "15840  https://fedup.wpengine.com/wp-content/uploads/...     1  \n",
       "15507  https://100percentfedup.com/video-hillary-aske...     1  \n",
       "9358   https://100percentfedup.com/served-roy-moore-v...     1  \n",
       "15508  https://100percentfedup.com/12-yr-old-black-co...     1  \n",
       "44035                                 September 9, 2017      0  \n",
       "44028                                 September 9, 2017      0  "
      ]
     },
     "execution_count": 56,
     "metadata": {},
     "output_type": "execute_result"
    }
   ],
   "source": [
    "news.sort_values(by = 'date', ascending = False).head(11)"
   ]
  },
  {
   "cell_type": "markdown",
   "metadata": {},
   "source": [
    "Trying to get information from the Data with URLs instead of text."
   ]
  },
  {
   "cell_type": "code",
   "execution_count": 57,
   "metadata": {},
   "outputs": [],
   "source": [
    "#importing libraries\n",
    "import requests\n",
    "from bs4 import BeautifulSoup"
   ]
  },
  {
   "cell_type": "code",
   "execution_count": 58,
   "metadata": {},
   "outputs": [],
   "source": [
    "urls = [row for row in news.date.sort_values(ascending = False).head(9)] "
   ]
  },
  {
   "cell_type": "code",
   "execution_count": 59,
   "metadata": {},
   "outputs": [],
   "source": [
    "#defining function to strip content from a list of elements\n",
    "\n",
    "def strip_html(text):\n",
    "    response = []\n",
    "    for url in text:\n",
    "        content = requests.get(url).text\n",
    "        soup = BeautifulSoup(content, \"html.parser\")\n",
    "        response.append(soup.get_text())\n",
    "    return response\n"
   ]
  },
  {
   "cell_type": "code",
   "execution_count": 60,
   "metadata": {},
   "outputs": [
    {
     "data": {
      "text/plain": [
       "['\\n\\n\\nSite is not available\\n\\n\\n\\nSite is not available\\n\\n\\n        The domain name in the URL is not associated with any active site on the WP Engine platform.\\n    \\n\\n        If this is your site, please visit your User Portal to ensure that your\\n        domain mapping and DNS records are\\n        configured correctly.\\n    \\n\\n        Still have questions? Contact Us.\\n    \\n\\n\\n        Hosted by \\n\\n\\n',\n",
       " '\\n\\n\\nSite is not available\\n\\n\\n\\nSite is not available\\n\\n\\n        The domain name in the URL is not associated with any active site on the WP Engine platform.\\n    \\n\\n        If this is your site, please visit your User Portal to ensure that your\\n        domain mapping and DNS records are\\n        configured correctly.\\n    \\n\\n        Still have questions? Contact Us.\\n    \\n\\n\\n        Hosted by \\n\\n\\n',\n",
       " '\\n\\n\\nSite is not available\\n\\n\\n\\nSite is not available\\n\\n\\n        The domain name in the URL is not associated with any active site on the WP Engine platform.\\n    \\n\\n        If this is your site, please visit your User Portal to ensure that your\\n        domain mapping and DNS records are\\n        configured correctly.\\n    \\n\\n        Still have questions? Contact Us.\\n    \\n\\n\\n        Hosted by \\n\\n\\n',\n",
       " '\\n\\n\\nSite is not available\\n\\n\\n\\nSite is not available\\n\\n\\n        The domain name in the URL is not associated with any active site on the WP Engine platform.\\n    \\n\\n        If this is your site, please visit your User Portal to ensure that your\\n        domain mapping and DNS records are\\n        configured correctly.\\n    \\n\\n        Still have questions? Contact Us.\\n    \\n\\n\\n        Hosted by \\n\\n\\n',\n",
       " '\\n\\n\\nSite is not available\\n\\n\\n\\nSite is not available\\n\\n\\n        The domain name in the URL is not associated with any active site on the WP Engine platform.\\n    \\n\\n        If this is your site, please visit your User Portal to ensure that your\\n        domain mapping and DNS records are\\n        configured correctly.\\n    \\n\\n        Still have questions? Contact Us.\\n    \\n\\n\\n        Hosted by \\n\\n\\n',\n",
       " '\\n\\n\\nSite is not available\\n\\n\\n\\nSite is not available\\n\\n\\n        The domain name in the URL is not associated with any active site on the WP Engine platform.\\n    \\n\\n        If this is your site, please visit your User Portal to ensure that your\\n        domain mapping and DNS records are\\n        configured correctly.\\n    \\n\\n        Still have questions? Contact Us.\\n    \\n\\n\\n        Hosted by \\n\\n\\n',\n",
       " '\\n403 Forbidden\\n\\n403 Forbidden\\nnginx\\n\\n\\n',\n",
       " '\\n403 Forbidden\\n\\n403 Forbidden\\nnginx\\n\\n\\n',\n",
       " '\\n403 Forbidden\\n\\n403 Forbidden\\nnginx\\n\\n\\n']"
      ]
     },
     "execution_count": 60,
     "metadata": {},
     "output_type": "execute_result"
    }
   ],
   "source": [
    "strip_html(urls)"
   ]
  },
  {
   "cell_type": "markdown",
   "metadata": {},
   "source": [
    "As it appears, we don't have access any longer to those news and urls, therefore, we will proceed to drop them from our dataset. "
   ]
  },
  {
   "cell_type": "code",
   "execution_count": 61,
   "metadata": {},
   "outputs": [],
   "source": [
    "news = news.drop((news['date'].sort_values(ascending = False).head(9)).index).copy()"
   ]
  },
  {
   "cell_type": "code",
   "execution_count": 62,
   "metadata": {},
   "outputs": [
    {
     "data": {
      "text/plain": [
       "array(['September 9, 2017 ', 'September 9, 2017', 'September 9, 2016 ',\n",
       "       'September 9, 2016', 'September 8, 2017 ', 'September 8, 2017',\n",
       "       'September 8, 2016 ', 'September 8, 2016', 'September 7, 2017 ',\n",
       "       'September 7, 2017', 'September 7, 2016 ', 'September 7, 2016',\n",
       "       'September 6, 2017 ', 'September 6, 2017', 'September 6, 2016 ',\n",
       "       'September 6, 2016', 'September 5, 2017 ', 'September 5, 2017',\n",
       "       'September 5, 2016 ', 'September 5, 2016', 'September 4, 2017 ',\n",
       "       'September 4, 2017', 'September 4, 2016 ', 'September 4, 2016',\n",
       "       'September 30, 2017 ', 'September 30, 2017', 'September 30, 2016 ',\n",
       "       'September 30, 2016', 'September 3, 2017 ', 'September 3, 2017',\n",
       "       'September 3, 2016 ', 'September 3, 2016', 'September 29, 2017 ',\n",
       "       'September 29, 2017', 'September 29, 2016 ', 'September 29, 2016',\n",
       "       'September 28, 2017 ', 'September 28, 2017', 'September 28, 2016 ',\n",
       "       'September 28, 2016', 'September 27, 2017 ', 'September 27, 2017',\n",
       "       'September 27, 2016 ', 'September 27, 2016', 'September 26, 2017 ',\n",
       "       'September 26, 2017', 'September 26, 2016 ', 'September 26, 2016',\n",
       "       'September 25, 2017 ', 'September 25, 2017', 'September 25, 2016 ',\n",
       "       'September 25, 2016', 'September 24, 2017 ', 'September 24, 2017',\n",
       "       'September 24, 2016 ', 'September 24, 2016', 'September 23, 2017 ',\n",
       "       'September 23, 2017', 'September 23, 2016 ', 'September 23, 2016',\n",
       "       'September 22, 2017 ', 'September 22, 2017', 'September 22, 2016 ',\n",
       "       'September 22, 2016', 'September 21, 2017 ', 'September 21, 2017',\n",
       "       'September 21, 2016 ', 'September 21, 2016', 'September 20, 2017 ',\n",
       "       'September 20, 2017', 'September 20, 2016 ', 'September 20, 2016',\n",
       "       'September 2, 2017 ', 'September 2, 2017', 'September 2, 2016 ',\n",
       "       'September 2, 2016', 'September 19, 2017 ', 'September 19, 2017',\n",
       "       'September 19, 2016 ', 'September 19, 2016', 'September 18, 2017 ',\n",
       "       'September 18, 2017', 'September 18, 2016 ', 'September 18, 2016',\n",
       "       'September 17, 2017 ', 'September 17, 2017', 'September 17, 2016 ',\n",
       "       'September 17, 2016', 'September 16, 2017 ', 'September 16, 2017',\n",
       "       'September 16, 2016 ', 'September 16, 2016', 'September 15, 2017 ',\n",
       "       'September 15, 2017', 'September 15, 2016 ', 'September 15, 2016',\n",
       "       'September 14, 2017 ', 'September 14, 2017', 'September 14, 2016 ',\n",
       "       'September 14, 2016', 'September 13, 2017 ', 'September 13, 2017',\n",
       "       'September 13, 2016 ', 'September 13, 2016', 'September 12, 2017 ',\n",
       "       'September 12, 2017', 'September 12, 2016 ', 'September 12, 2016',\n",
       "       'September 11, 2017 ', 'September 11, 2017', 'September 11, 2016 ',\n",
       "       'September 11, 2016', 'September 10, 2017 ', 'September 10, 2017',\n",
       "       'September 10, 2016 ', 'September 10, 2016', 'September 1, 2017 ',\n",
       "       'September 1, 2017', 'September 1, 2016 ', 'September 1, 2016',\n",
       "       'Sep 9, 2017', 'Sep 9, 2016', 'Sep 9, 2015', 'Sep 8, 2017',\n",
       "       'Sep 8, 2016', 'Sep 8, 2015', 'Sep 7, 2017', 'Sep 7, 2016',\n",
       "       'Sep 7, 2015', 'Sep 6, 2017', 'Sep 6, 2016', 'Sep 6, 2015',\n",
       "       'Sep 5, 2017', 'Sep 5, 2016', 'Sep 5, 2015', 'Sep 4, 2017',\n",
       "       'Sep 4, 2016', 'Sep 4, 2015', 'Sep 30, 2017', 'Sep 30, 2016',\n",
       "       'Sep 30, 2015', 'Sep 3, 2017', 'Sep 3, 2016', 'Sep 3, 2015',\n",
       "       'Sep 29, 2017', 'Sep 29, 2016', 'Sep 29, 2015', 'Sep 28, 2017',\n",
       "       'Sep 28, 2016', 'Sep 28, 2015', 'Sep 27, 2017', 'Sep 27, 2016',\n",
       "       'Sep 27, 2015', 'Sep 26, 2017', 'Sep 26, 2016', 'Sep 26, 2015',\n",
       "       'Sep 25, 2017', 'Sep 25, 2016', 'Sep 25, 2015', 'Sep 24, 2017',\n",
       "       'Sep 24, 2016', 'Sep 24, 2015', 'Sep 23, 2017', 'Sep 23, 2016',\n",
       "       'Sep 23, 2015', 'Sep 22, 2017', 'Sep 22, 2016', 'Sep 22, 2015',\n",
       "       'Sep 21, 2017', 'Sep 21, 2016', 'Sep 21, 2015', 'Sep 20, 2017',\n",
       "       'Sep 20, 2016', 'Sep 20, 2015', 'Sep 2, 2017', 'Sep 2, 2016',\n",
       "       'Sep 2, 2015', 'Sep 19, 2017', 'Sep 19, 2016', 'Sep 19, 2015',\n",
       "       'Sep 18, 2017', 'Sep 18, 2016', 'Sep 18, 2015', 'Sep 17, 2017',\n",
       "       'Sep 17, 2016', 'Sep 17, 2015', 'Sep 16, 2017', 'Sep 16, 2016',\n",
       "       'Sep 16, 2015', 'Sep 15, 2017', 'Sep 15, 2016', 'Sep 15, 2015',\n",
       "       'Sep 14, 2017', 'Sep 14, 2016', 'Sep 14, 2015', 'Sep 13, 2017',\n",
       "       'Sep 13, 2016', 'Sep 13, 2015', 'Sep 12, 2017', 'Sep 12, 2016',\n",
       "       'Sep 12, 2015', 'Sep 11, 2017', 'Sep 11, 2016', 'Sep 11, 2015',\n",
       "       'Sep 10, 2017', 'Sep 10, 2016', 'Sep 10, 2015', 'Sep 1, 2017',\n",
       "       'Sep 1, 2016', 'Sep 1, 2015', 'October 9, 2017 ',\n",
       "       'October 9, 2017', 'October 9, 2016 ', 'October 9, 2016',\n",
       "       'October 8, 2017 ', 'October 8, 2017', 'October 8, 2016 ',\n",
       "       'October 8, 2016', 'October 7, 2017 ', 'October 7, 2017',\n",
       "       'October 7, 2016 ', 'October 7, 2016', 'October 6, 2017 ',\n",
       "       'October 6, 2017', 'October 6, 2016 ', 'October 6, 2016',\n",
       "       'October 5, 2017 ', 'October 5, 2017', 'October 5, 2016 ',\n",
       "       'October 5, 2016', 'October 4, 2017 ', 'October 4, 2017',\n",
       "       'October 4, 2016 ', 'October 4, 2016', 'October 31, 2017 ',\n",
       "       'October 31, 2017', 'October 31, 2016 ', 'October 31, 2016',\n",
       "       'October 30, 2017 ', 'October 30, 2017', 'October 30, 2016 ',\n",
       "       'October 30, 2016', 'October 3, 2017 ', 'October 3, 2017',\n",
       "       'October 3, 2016 ', 'October 3, 2016', 'October 29, 2017 ',\n",
       "       'October 29, 2017', 'October 29, 2016 ', 'October 29, 2016',\n",
       "       'October 28, 2017 ', 'October 28, 2017', 'October 28, 2016 ',\n",
       "       'October 28, 2016', 'October 27, 2017 ', 'October 27, 2017',\n",
       "       'October 27, 2016 ', 'October 27, 2016', 'October 26, 2017 ',\n",
       "       'October 26, 2017', 'October 26, 2016 ', 'October 26, 2016',\n",
       "       'October 25, 2017 ', 'October 25, 2017', 'October 25, 2016 ',\n",
       "       'October 25, 2016', 'October 24, 2017 ', 'October 24, 2017',\n",
       "       'October 24, 2016 ', 'October 24, 2016', 'October 23, 2017 ',\n",
       "       'October 23, 2017', 'October 23, 2016 ', 'October 23, 2016',\n",
       "       'October 22, 2017 ', 'October 22, 2017', 'October 22, 2016 ',\n",
       "       'October 22, 2016', 'October 21, 2017 ', 'October 21, 2017',\n",
       "       'October 21, 2016 ', 'October 21, 2016', 'October 20, 2017 ',\n",
       "       'October 20, 2017', 'October 20, 2016 ', 'October 20, 2016',\n",
       "       'October 2, 2017 ', 'October 2, 2017', 'October 2, 2016 ',\n",
       "       'October 2, 2016', 'October 19, 2017 ', 'October 19, 2017',\n",
       "       'October 19, 2016 ', 'October 19, 2016', 'October 18, 2017 ',\n",
       "       'October 18, 2017', 'October 18, 2016 ', 'October 18, 2016',\n",
       "       'October 17, 2017 ', 'October 17, 2017', 'October 17, 2016 ',\n",
       "       'October 17, 2016', 'October 16, 2017 ', 'October 16, 2017',\n",
       "       'October 16, 2016 ', 'October 16, 2016', 'October 15, 2017 ',\n",
       "       'October 15, 2017', 'October 15, 2016 ', 'October 15, 2016',\n",
       "       'October 14, 2017 ', 'October 14, 2017', 'October 14, 2016 ',\n",
       "       'October 14, 2016', 'October 13, 2017 ', 'October 13, 2017',\n",
       "       'October 13, 2016 ', 'October 13, 2016', 'October 12, 2017 ',\n",
       "       'October 12, 2017', 'October 12, 2016 ', 'October 12, 2016',\n",
       "       'October 11, 2017 ', 'October 11, 2017', 'October 11, 2016 ',\n",
       "       'October 11, 2016', 'October 10, 2017 ', 'October 10, 2017',\n",
       "       'October 10, 2016 ', 'October 10, 2016', 'October 1, 2017 ',\n",
       "       'October 1, 2017', 'October 1, 2016 ', 'October 1, 2016',\n",
       "       'Oct 9, 2017', 'Oct 9, 2016', 'Oct 9, 2015', 'Oct 8, 2017',\n",
       "       'Oct 8, 2016', 'Oct 8, 2015', 'Oct 7, 2017', 'Oct 7, 2016',\n",
       "       'Oct 7, 2015', 'Oct 6, 2017', 'Oct 6, 2016', 'Oct 6, 2015',\n",
       "       'Oct 5, 2017', 'Oct 5, 2016', 'Oct 5, 2015', 'Oct 4, 2017',\n",
       "       'Oct 4, 2016', 'Oct 4, 2015', 'Oct 31, 2017', 'Oct 31, 2016',\n",
       "       'Oct 31, 2015', 'Oct 30, 2017', 'Oct 30, 2016', 'Oct 30, 2015',\n",
       "       'Oct 3, 2017', 'Oct 3, 2016', 'Oct 3, 2015', 'Oct 29, 2017',\n",
       "       'Oct 29, 2016', 'Oct 29, 2015', 'Oct 28, 2017', 'Oct 28, 2016',\n",
       "       'Oct 28, 2015', 'Oct 27, 2017', 'Oct 27, 2016', 'Oct 27, 2015',\n",
       "       'Oct 26, 2017', 'Oct 26, 2016', 'Oct 26, 2015', 'Oct 25, 2017',\n",
       "       'Oct 25, 2016', 'Oct 25, 2015', 'Oct 24, 2017', 'Oct 24, 2016',\n",
       "       'Oct 24, 2015', 'Oct 23, 2017', 'Oct 23, 2016', 'Oct 23, 2015',\n",
       "       'Oct 22, 2017', 'Oct 22, 2016', 'Oct 22, 2015', 'Oct 21, 2017',\n",
       "       'Oct 21, 2016', 'Oct 21, 2015', 'Oct 20, 2017', 'Oct 20, 2016',\n",
       "       'Oct 20, 2015', 'Oct 2, 2017', 'Oct 2, 2016', 'Oct 2, 2015',\n",
       "       'Oct 19, 2017', 'Oct 19, 2016', 'Oct 19, 2015', 'Oct 18, 2017',\n",
       "       'Oct 18, 2016', 'Oct 18, 2015', 'Oct 17, 2017', 'Oct 17, 2016',\n",
       "       'Oct 17, 2015', 'Oct 16, 2017', 'Oct 16, 2016', 'Oct 16, 2015',\n",
       "       'Oct 15, 2017', 'Oct 15, 2016', 'Oct 15, 2015', 'Oct 14, 2017',\n",
       "       'Oct 14, 2016', 'Oct 14, 2015', 'Oct 13, 2017', 'Oct 13, 2016',\n",
       "       'Oct 13, 2015', 'Oct 12, 2017', 'Oct 12, 2016', 'Oct 12, 2015',\n",
       "       'Oct 11, 2017', 'Oct 11, 2016', 'Oct 11, 2015', 'Oct 10, 2017',\n",
       "       'Oct 10, 2016', 'Oct 10, 2015', 'Oct 1, 2017', 'Oct 1, 2016',\n",
       "       'Oct 1, 2015', 'November 9, 2017 ', 'November 9, 2017',\n",
       "       'November 9, 2016 ', 'November 9, 2016', 'November 8, 2017 ',\n",
       "       'November 8, 2017', 'November 8, 2016 ', 'November 8, 2016',\n",
       "       'November 7, 2017 ', 'November 7, 2017', 'November 7, 2016 ',\n",
       "       'November 7, 2016', 'November 6, 2017 ', 'November 6, 2017',\n",
       "       'November 6, 2016 ', 'November 6, 2016', 'November 5, 2017 ',\n",
       "       'November 5, 2017', 'November 5, 2016 ', 'November 5, 2016',\n",
       "       'November 4, 2017 ', 'November 4, 2017', 'November 4, 2016 ',\n",
       "       'November 4, 2016', 'November 30, 2017 ', 'November 30, 2017',\n",
       "       'November 30, 2016 ', 'November 30, 2016', 'November 3, 2017 ',\n",
       "       'November 3, 2017', 'November 3, 2016 ', 'November 3, 2016',\n",
       "       'November 29, 2017 ', 'November 29, 2017', 'November 29, 2016 ',\n",
       "       'November 29, 2016', 'November 28, 2017 ', 'November 28, 2017',\n",
       "       'November 28, 2016 ', 'November 28, 2016', 'November 27, 2017 ',\n",
       "       'November 27, 2017', 'November 27, 2016 ', 'November 27, 2016',\n",
       "       'November 26, 2017 ', 'November 26, 2017', 'November 26, 2016 ',\n",
       "       'November 26, 2016', 'November 25, 2017 ', 'November 25, 2017',\n",
       "       'November 25, 2016 ', 'November 25, 2016', 'November 24, 2017 ',\n",
       "       'November 24, 2017', 'November 24, 2016 ', 'November 24, 2016',\n",
       "       'November 23, 2017 ', 'November 23, 2017', 'November 23, 2016 ',\n",
       "       'November 23, 2016', 'November 22, 2017 ', 'November 22, 2017',\n",
       "       'November 22, 2016 ', 'November 22, 2016', 'November 21, 2017 ',\n",
       "       'November 21, 2017', 'November 21, 2016 ', 'November 21, 2016',\n",
       "       'November 20, 2017 ', 'November 20, 2017', 'November 20, 2016 ',\n",
       "       'November 20, 2016', 'November 2, 2017 ', 'November 2, 2017',\n",
       "       'November 2, 2016 ', 'November 2, 2016', 'November 19, 2017 ',\n",
       "       'November 19, 2017', 'November 19, 2016 ', 'November 19, 2016',\n",
       "       'November 18, 2017 ', 'November 18, 2017', 'November 18, 2016 ',\n",
       "       'November 18, 2016', 'November 17, 2017 ', 'November 17, 2017',\n",
       "       'November 17, 2016 ', 'November 17, 2016', 'November 16, 2017 ',\n",
       "       'November 16, 2017', 'November 16, 2016 ', 'November 16, 2016',\n",
       "       'November 15, 2017 ', 'November 15, 2017', 'November 15, 2016 ',\n",
       "       'November 15, 2016', 'November 14, 2017 ', 'November 14, 2017',\n",
       "       'November 14, 2016 ', 'November 14, 2016', 'November 13, 2017 ',\n",
       "       'November 13, 2017', 'November 13, 2016 ', 'November 13, 2016',\n",
       "       'November 12, 2017 ', 'November 12, 2017', 'November 12, 2016 ',\n",
       "       'November 12, 2016', 'November 11, 2017 ', 'November 11, 2017',\n",
       "       'November 11, 2016 ', 'November 11, 2016', 'November 10, 2017 ',\n",
       "       'November 10, 2017', 'November 10, 2016 ', 'November 10, 2016',\n",
       "       'November 1, 2017 ', 'November 1, 2017', 'November 1, 2016 ',\n",
       "       'November 1, 2016', 'Nov 9, 2017', 'Nov 9, 2016', 'Nov 9, 2015',\n",
       "       'Nov 8, 2017', 'Nov 8, 2016', 'Nov 8, 2015', 'Nov 7, 2017',\n",
       "       'Nov 7, 2016', 'Nov 7, 2015', 'Nov 6, 2017', 'Nov 6, 2016',\n",
       "       'Nov 6, 2015', 'Nov 5, 2017', 'Nov 5, 2016', 'Nov 5, 2015',\n",
       "       'Nov 4, 2017', 'Nov 4, 2016', 'Nov 4, 2015', 'Nov 30, 2017',\n",
       "       'Nov 30, 2016', 'Nov 30, 2015', 'Nov 3, 2017', 'Nov 3, 2016',\n",
       "       'Nov 3, 2015', 'Nov 29, 2017', 'Nov 29, 2016', 'Nov 29, 2015',\n",
       "       'Nov 28, 2017', 'Nov 28, 2016', 'Nov 28, 2015', 'Nov 27, 2017',\n",
       "       'Nov 27, 2016', 'Nov 27, 2015', 'Nov 26, 2017', 'Nov 26, 2016',\n",
       "       'Nov 26, 2015', 'Nov 25, 2017', 'Nov 25, 2016', 'Nov 25, 2015',\n",
       "       'Nov 24, 2017', 'Nov 24, 2016', 'Nov 24, 2015', 'Nov 23, 2017',\n",
       "       'Nov 23, 2016', 'Nov 23, 2015', 'Nov 22, 2017', 'Nov 22, 2016',\n",
       "       'Nov 22, 2015', 'Nov 21, 2017', 'Nov 21, 2016', 'Nov 21, 2015',\n",
       "       'Nov 20, 2017', 'Nov 20, 2016', 'Nov 20, 2015', 'Nov 2, 2017',\n",
       "       'Nov 2, 2016', 'Nov 2, 2015', 'Nov 19, 2017', 'Nov 19, 2016',\n",
       "       'Nov 19, 2015', 'Nov 18, 2017', 'Nov 18, 2016', 'Nov 18, 2015',\n",
       "       'Nov 17, 2017', 'Nov 17, 2016', 'Nov 17, 2015', 'Nov 16, 2017',\n",
       "       'Nov 16, 2016', 'Nov 16, 2015', 'Nov 15, 2017', 'Nov 15, 2016',\n",
       "       'Nov 15, 2015', 'Nov 14, 2017', 'Nov 14, 2016', 'Nov 14, 2015',\n",
       "       'Nov 13, 2017', 'Nov 13, 2016', 'Nov 13, 2015', 'Nov 12, 2017',\n",
       "       'Nov 12, 2016', 'Nov 12, 2015', 'Nov 11, 2017', 'Nov 11, 2016',\n",
       "       'Nov 11, 2015', 'Nov 10, 2017', 'Nov 10, 2016', 'Nov 10, 2015',\n",
       "       'Nov 1, 2017', 'Nov 1, 2016', 'Nov 1, 2015', 'May 9, 2017 ',\n",
       "       'May 9, 2017', 'May 9, 2016 ', 'May 9, 2016', 'May 9, 2015',\n",
       "       'May 8, 2017 ', 'May 8, 2017', 'May 8, 2016 ', 'May 8, 2016',\n",
       "       'May 8, 2015', 'May 7, 2017 ', 'May 7, 2017', 'May 7, 2016 ',\n",
       "       'May 7, 2016', 'May 7, 2015', 'May 6, 2017 ', 'May 6, 2017',\n",
       "       'May 6, 2016 ', 'May 6, 2016', 'May 6, 2015', 'May 5, 2017 ',\n",
       "       'May 5, 2017', 'May 5, 2016 ', 'May 5, 2016', 'May 5, 2015',\n",
       "       'May 4, 2017 ', 'May 4, 2017', 'May 4, 2016 ', 'May 4, 2016',\n",
       "       'May 4, 2015', 'May 31, 2017 ', 'May 31, 2017', 'May 31, 2016 ',\n",
       "       'May 31, 2016', 'May 31, 2015', 'May 30, 2017 ', 'May 30, 2017',\n",
       "       'May 30, 2016 ', 'May 30, 2016', 'May 30, 2015', 'May 3, 2017 ',\n",
       "       'May 3, 2017', 'May 3, 2016 ', 'May 3, 2016', 'May 29, 2017 ',\n",
       "       'May 29, 2017', 'May 29, 2016 ', 'May 29, 2016', 'May 29, 2015',\n",
       "       'May 28, 2017 ', 'May 28, 2017', 'May 28, 2016 ', 'May 28, 2016',\n",
       "       'May 28, 2015', 'May 27, 2017 ', 'May 27, 2017', 'May 27, 2016 ',\n",
       "       'May 27, 2016', 'May 27, 2015', 'May 26, 2017 ', 'May 26, 2017',\n",
       "       'May 26, 2016 ', 'May 26, 2016', 'May 26, 2015', 'May 25, 2017 ',\n",
       "       'May 25, 2017', 'May 25, 2016 ', 'May 25, 2016', 'May 25, 2015',\n",
       "       'May 24, 2017 ', 'May 24, 2017', 'May 24, 2016 ', 'May 24, 2016',\n",
       "       'May 24, 2015', 'May 23, 2017 ', 'May 23, 2017', 'May 23, 2016 ',\n",
       "       'May 23, 2016', 'May 23, 2015', 'May 22, 2017 ', 'May 22, 2017',\n",
       "       'May 22, 2016 ', 'May 22, 2016', 'May 22, 2015', 'May 21, 2017 ',\n",
       "       'May 21, 2017', 'May 21, 2016 ', 'May 21, 2016', 'May 21, 2015',\n",
       "       'May 20, 2017 ', 'May 20, 2017', 'May 20, 2016 ', 'May 20, 2016',\n",
       "       'May 20, 2015', 'May 2, 2017 ', 'May 2, 2017', 'May 2, 2016 ',\n",
       "       'May 2, 2016', 'May 2, 2015', 'May 19, 2017 ', 'May 19, 2017',\n",
       "       'May 19, 2016 ', 'May 19, 2016', 'May 19, 2015', 'May 18, 2017 ',\n",
       "       'May 18, 2017', 'May 18, 2016 ', 'May 18, 2016', 'May 18, 2015',\n",
       "       'May 17, 2017 ', 'May 17, 2017', 'May 17, 2016 ', 'May 17, 2016',\n",
       "       'May 17, 2015', 'May 16, 2017 ', 'May 16, 2017', 'May 16, 2016 ',\n",
       "       'May 16, 2016', 'May 16, 2015', 'May 15, 2017 ', 'May 15, 2017',\n",
       "       'May 15, 2016 ', 'May 15, 2016', 'May 15, 2015', 'May 14, 2017 ',\n",
       "       'May 14, 2017', 'May 14, 2016 ', 'May 14, 2016', 'May 14, 2015',\n",
       "       'May 13, 2017', 'May 13, 2016 ', 'May 13, 2016', 'May 13, 2015',\n",
       "       'May 12, 2017 ', 'May 12, 2017', 'May 12, 2016 ', 'May 12, 2016',\n",
       "       'May 12, 2015', 'May 11, 2017 ', 'May 11, 2017', 'May 11, 2016 ',\n",
       "       'May 11, 2016', 'May 11, 2015', 'May 10, 2017 ', 'May 10, 2017',\n",
       "       'May 10, 2016 ', 'May 10, 2016', 'May 10, 2015', 'May 1, 2017 ',\n",
       "       'May 1, 2017', 'May 1, 2016 ', 'May 1, 2016', 'May 1, 2015',\n",
       "       'March 9, 2017 ', 'March 9, 2017', 'March 9, 2016 ',\n",
       "       'March 9, 2016', 'March 8, 2017 ', 'March 8, 2017',\n",
       "       'March 8, 2016 ', 'March 8, 2016', 'March 7, 2017 ',\n",
       "       'March 7, 2017', 'March 7, 2016 ', 'March 7, 2016',\n",
       "       'March 6, 2017 ', 'March 6, 2017', 'March 6, 2016 ',\n",
       "       'March 6, 2016', 'March 5, 2017 ', 'March 5, 2017',\n",
       "       'March 5, 2016 ', 'March 5, 2016', 'March 4, 2017 ',\n",
       "       'March 4, 2017', 'March 4, 2016 ', 'March 4, 2016',\n",
       "       'March 31, 2017 ', 'March 31, 2017', 'March 31, 2016 ',\n",
       "       'March 31, 2016', 'March 30, 2017 ', 'March 30, 2017',\n",
       "       'March 30, 2016 ', 'March 30, 2016', 'March 3, 2017 ',\n",
       "       'March 3, 2017', 'March 3, 2016 ', 'March 3, 2016',\n",
       "       'March 29, 2017 ', 'March 29, 2017', 'March 29, 2016 ',\n",
       "       'March 29, 2016', 'March 28, 2017 ', 'March 28, 2017',\n",
       "       'March 28, 2016 ', 'March 28, 2016', 'March 27, 2017 ',\n",
       "       'March 27, 2017', 'March 27, 2016 ', 'March 27, 2016',\n",
       "       'March 26, 2017 ', 'March 26, 2017', 'March 26, 2016 ',\n",
       "       'March 26, 2016', 'March 25, 2017 ', 'March 25, 2017',\n",
       "       'March 25, 2016 ', 'March 25, 2016', 'March 24, 2017 ',\n",
       "       'March 24, 2017', 'March 24, 2016 ', 'March 24, 2016',\n",
       "       'March 23, 2017 ', 'March 23, 2017', 'March 23, 2016 ',\n",
       "       'March 23, 2016', 'March 22, 2017 ', 'March 22, 2017',\n",
       "       'March 22, 2016 ', 'March 22, 2016', 'March 21, 2017 ',\n",
       "       'March 21, 2017', 'March 21, 2016 ', 'March 21, 2016',\n",
       "       'March 20, 2017 ', 'March 20, 2017', 'March 20, 2016 ',\n",
       "       'March 20, 2016', 'March 2, 2017 ', 'March 2, 2017',\n",
       "       'March 2, 2016 ', 'March 2, 2016', 'March 19, 2017 ',\n",
       "       'March 19, 2017', 'March 19, 2016 ', 'March 19, 2016',\n",
       "       'March 18, 2017 ', 'March 18, 2017', 'March 18, 2016 ',\n",
       "       'March 18, 2016', 'March 17, 2017 ', 'March 17, 2017',\n",
       "       'March 17, 2016 ', 'March 17, 2016', 'March 16, 2017 ',\n",
       "       'March 16, 2017', 'March 16, 2016 ', 'March 16, 2016',\n",
       "       'March 15, 2017 ', 'March 15, 2017', 'March 15, 2016 ',\n",
       "       'March 15, 2016', 'March 14, 2017 ', 'March 14, 2017',\n",
       "       'March 14, 2016 ', 'March 14, 2016', 'March 13, 2017 ',\n",
       "       'March 13, 2017', 'March 13, 2016 ', 'March 13, 2016',\n",
       "       'March 12, 2017 ', 'March 12, 2017', 'March 12, 2016 ',\n",
       "       'March 12, 2016', 'March 11, 2017 ', 'March 11, 2017',\n",
       "       'March 11, 2016 ', 'March 11, 2016', 'March 10, 2017 ',\n",
       "       'March 10, 2017', 'March 10, 2016 ', 'March 10, 2016',\n",
       "       'March 1, 2017 ', 'March 1, 2017', 'March 1, 2016 ',\n",
       "       'March 1, 2016', 'Mar 9, 2017', 'Mar 9, 2016', 'Mar 8, 2017',\n",
       "       'Mar 8, 2016', 'Mar 7, 2017', 'Mar 7, 2016', 'Mar 6, 2017',\n",
       "       'Mar 6, 2016', 'Mar 5, 2017', 'Mar 5, 2016', 'Mar 4, 2017',\n",
       "       'Mar 4, 2016', 'Mar 31, 2017', 'Mar 31, 2016', 'Mar 31, 2015',\n",
       "       'Mar 30, 2017', 'Mar 30, 2016', 'Mar 3, 2017', 'Mar 3, 2016',\n",
       "       'Mar 29, 2017', 'Mar 29, 2016', 'Mar 28, 2017', 'Mar 28, 2016',\n",
       "       'Mar 27, 2017', 'Mar 27, 2016', 'Mar 26, 2017', 'Mar 26, 2016',\n",
       "       'Mar 25, 2017', 'Mar 25, 2016', 'Mar 24, 2017', 'Mar 24, 2016',\n",
       "       'Mar 23, 2017', 'Mar 23, 2016', 'Mar 22, 2017', 'Mar 22, 2016',\n",
       "       'Mar 21, 2017', 'Mar 21, 2016', 'Mar 20, 2017', 'Mar 20, 2016',\n",
       "       'Mar 2, 2017', 'Mar 2, 2016', 'Mar 19, 2017', 'Mar 19, 2016',\n",
       "       'Mar 18, 2017', 'Mar 18, 2016', 'Mar 17, 2017', 'Mar 17, 2016',\n",
       "       'Mar 16, 2017', 'Mar 16, 2016', 'Mar 15, 2017', 'Mar 15, 2016',\n",
       "       'Mar 14, 2017', 'Mar 14, 2016', 'Mar 13, 2017', 'Mar 13, 2016',\n",
       "       'Mar 12, 2017', 'Mar 12, 2016', 'Mar 11, 2017', 'Mar 11, 2016',\n",
       "       'Mar 10, 2017', 'Mar 10, 2016', 'Mar 1, 2017', 'Mar 1, 2016',\n",
       "       'MSNBC HOST Rudely Assumes Steel Worker Would Never Let His Son Follow in His Footsteps…He Couldn’t Be More Wrong [Video]',\n",
       "       'June 9, 2017 ', 'June 9, 2017', 'June 9, 2016 ', 'June 9, 2016',\n",
       "       'June 8, 2017 ', 'June 8, 2017', 'June 8, 2016 ', 'June 8, 2016',\n",
       "       'June 7, 2017 ', 'June 7, 2017', 'June 7, 2016 ', 'June 7, 2016',\n",
       "       'June 6, 2017 ', 'June 6, 2017', 'June 6, 2016 ', 'June 6, 2016',\n",
       "       'June 5, 2017 ', 'June 5, 2017', 'June 5, 2016 ', 'June 5, 2016',\n",
       "       'June 4, 2017 ', 'June 4, 2017'], dtype=object)"
      ]
     },
     "execution_count": 62,
     "metadata": {},
     "output_type": "execute_result"
    }
   ],
   "source": [
    "news.date.sort_values(ascending = False).unique()[:1000]\n",
    "\n",
    "#There are different formats in the column, so we must turn it into a cohesive format before trying to convert it."
   ]
  },
  {
   "cell_type": "code",
   "execution_count": 63,
   "metadata": {},
   "outputs": [
    {
     "data": {
      "text/plain": [
       "'2017-10-09'"
      ]
     },
     "execution_count": 63,
     "metadata": {},
     "output_type": "execute_result"
    }
   ],
   "source": [
    "#ideally, this is what we want to do. \n",
    "import datetime\n",
    "datetime.datetime.strptime('Oct 9, 2017', '%b %d, %Y').strftime('%Y-%m-%d')\n",
    "\n",
    "#since the format of the date is different, we need to format it correctly."
   ]
  },
  {
   "cell_type": "code",
   "execution_count": 64,
   "metadata": {},
   "outputs": [],
   "source": [
    "news.date = news.date.str.replace('January','Jan').str.replace('February','Feb').str.replace('March','Mar').str.replace('April','Apr').str.replace('May','May').str.replace('June','Jun').str.replace('July','Jul').str.replace('August','Aug').str.replace('September','Sep').str.replace('October','Oct').str.replace('November','Nov').str.replace('December','Dec') "
   ]
  },
  {
   "cell_type": "code",
   "execution_count": 65,
   "metadata": {},
   "outputs": [
    {
     "data": {
      "text/plain": [
       "array(['Dec 31, 2017', 'Dec 30, 2017', 'Dec 29, 2017', ...,\n",
       "       'Jan 15, 2016 ', 'Jan 14, 2016 ', 'Jan 13, 2016 '], dtype=object)"
      ]
     },
     "execution_count": 65,
     "metadata": {},
     "output_type": "execute_result"
    }
   ],
   "source": [
    "news.date.unique()"
   ]
  },
  {
   "cell_type": "code",
   "execution_count": 66,
   "metadata": {},
   "outputs": [],
   "source": [
    "news = news[~news.date.str.contains('MSNBC HOST')].copy()"
   ]
  },
  {
   "cell_type": "code",
   "execution_count": 67,
   "metadata": {},
   "outputs": [],
   "source": [
    "from datetime import datetime\n",
    "\n",
    "ALLOWED_FORMATS = ['%Y-%m-%d', '%Y/%m/%d', '%d.%m.%Y', '%d-%m-%Y']\n",
    "\n",
    "def convert_date(dataframe):\n",
    "\n",
    "    for format in ALLOWED_FORMATS:\n",
    "        try:\n",
    "            return dataframe.apply(lambda x : datetime.strptime(x, '%b %d, %Y').strftime('%Y-%m-%d'))\n",
    "        except ValueError:\n",
    "            pass"
   ]
  },
  {
   "cell_type": "code",
   "execution_count": 68,
   "metadata": {},
   "outputs": [],
   "source": [
    "convert_date(news.date)"
   ]
  },
  {
   "cell_type": "code",
   "execution_count": 69,
   "metadata": {},
   "outputs": [],
   "source": [
    "news.date = pd.to_datetime(news.date, infer_datetime_format=True)"
   ]
  },
  {
   "cell_type": "code",
   "execution_count": 70,
   "metadata": {},
   "outputs": [
    {
     "data": {
      "text/plain": [
       "title              object\n",
       "text               object\n",
       "subject            object\n",
       "date       datetime64[ns]\n",
       "Type                int64\n",
       "dtype: object"
      ]
     },
     "execution_count": 70,
     "metadata": {},
     "output_type": "execute_result"
    }
   ],
   "source": [
    "news.dtypes"
   ]
  },
  {
   "cell_type": "markdown",
   "metadata": {},
   "source": [
    "### Checking null values"
   ]
  },
  {
   "cell_type": "code",
   "execution_count": 72,
   "metadata": {
    "scrolled": true
   },
   "outputs": [
    {
     "data": {
      "text/plain": [
       "title      0\n",
       "text       0\n",
       "subject    0\n",
       "date       0\n",
       "Type       0\n",
       "dtype: int64"
      ]
     },
     "execution_count": 72,
     "metadata": {},
     "output_type": "execute_result"
    }
   ],
   "source": [
    "news.isnull().sum()"
   ]
  },
  {
   "cell_type": "code",
   "execution_count": 80,
   "metadata": {},
   "outputs": [],
   "source": [
    "news.to_csv('data/News.csv')"
   ]
  },
  {
   "cell_type": "markdown",
   "metadata": {},
   "source": [
    "### Visualizing our dataset"
   ]
  },
  {
   "cell_type": "markdown",
   "metadata": {},
   "source": [
    "Since the dataset is clean and has no null values, let's focus on understanding what types of news we have and the dates we are talking about."
   ]
  },
  {
   "cell_type": "code",
   "execution_count": 73,
   "metadata": {},
   "outputs": [
    {
     "data": {
      "text/plain": [
       "array(['News', 'politics', 'Government News', 'left-news', 'US_News',\n",
       "       'Middle-east', 'politicsNews', 'worldnews'], dtype=object)"
      ]
     },
     "execution_count": 73,
     "metadata": {},
     "output_type": "execute_result"
    }
   ],
   "source": [
    "news.subject.unique()"
   ]
  },
  {
   "cell_type": "code",
   "execution_count": 74,
   "metadata": {},
   "outputs": [],
   "source": [
    "news_visualize = news.copy()\n",
    "news_visualize['year'] = news_visualize['date'].dt.year\n",
    "news_visualize['month'] = news_visualize['date'].dt.month\n",
    "news_visualize['day'] = news_visualize['date'].dt.dayofyear"
   ]
  },
  {
   "cell_type": "code",
   "execution_count": 75,
   "metadata": {
    "scrolled": true
   },
   "outputs": [
    {
     "data": {
      "text/plain": [
       "<matplotlib.axes._subplots.AxesSubplot at 0x12d1a8fa0>"
      ]
     },
     "execution_count": 75,
     "metadata": {},
     "output_type": "execute_result"
    },
    {
     "data": {
      "image/png": "[encoded data removed]",
      "text/plain": [
       "<Figure size 2160x720 with 1 Axes>"
      ]
     },
     "metadata": {
      "needs_background": "light"
     },
     "output_type": "display_data"
    }
   ],
   "source": [
    "plt.figure(figsize=(30, 10))\n",
    "sns.countplot(news_visualize['subject'].sort_values(ascending=True), hue = 'Type', data = news_visualize)"
   ]
  },
  {
   "cell_type": "markdown",
   "metadata": {},
   "source": [
    "Apparently, our TrueNews are only politic news or world news, while our Truthful stories ahave 6 different categories, where we find, news, politics, government news, left-news, US-news and Middle East"
   ]
  },
  {
   "cell_type": "code",
   "execution_count": 76,
   "metadata": {},
   "outputs": [
    {
     "data": {
      "text/plain": [
       "<matplotlib.axes._subplots.AxesSubplot at 0x12f6b67c0>"
      ]
     },
     "execution_count": 76,
     "metadata": {},
     "output_type": "execute_result"
    },
    {
     "data": {
      "image/png": "[encoded data removed]",
      "text/plain": [
       "<Figure size 2160x720 with 1 Axes>"
      ]
     },
     "metadata": {
      "needs_background": "light"
     },
     "output_type": "display_data"
    }
   ],
   "source": [
    "plt.figure(figsize=(30, 10))\n",
    "sns.countplot(news_visualize['subject'].sort_values(ascending=True), data = news_visualize)"
   ]
  },
  {
   "cell_type": "code",
   "execution_count": 77,
   "metadata": {},
   "outputs": [
    {
     "data": {
      "text/plain": [
       "Type  subject        \n",
       "0     politicsNews       11272\n",
       "      worldnews          10145\n",
       "1     Government News     1568\n",
       "      Middle-east          778\n",
       "      News                9050\n",
       "      US_News              783\n",
       "      left-news           4456\n",
       "      politics            6836\n",
       "Name: title, dtype: int64"
      ]
     },
     "execution_count": 77,
     "metadata": {},
     "output_type": "execute_result"
    }
   ],
   "source": [
    "#calculating how many fake and true news has each category\n",
    "news.groupby(['Type', 'subject']).title.count()"
   ]
  },
  {
   "cell_type": "markdown",
   "metadata": {},
   "source": [
    "We assume that politics News and politics are the same kind of news. Also, news and world news could be similar. Let's take a look. "
   ]
  },
  {
   "cell_type": "code",
   "execution_count": 78,
   "metadata": {},
   "outputs": [
    {
     "data": {
      "text/plain": [
       "array(['News', 'politics', 'Government News', 'left-news', 'US_News',\n",
       "       'Middle-east', 'politicsNews', 'worldnews'], dtype=object)"
      ]
     },
     "execution_count": 78,
     "metadata": {},
     "output_type": "execute_result"
    }
   ],
   "source": [
    "news.subject.unique()"
   ]
  },
  {
   "cell_type": "code",
   "execution_count": 79,
   "metadata": {},
   "outputs": [
    {
     "data": {
      "text/plain": [
       "politicsNews       11272\n",
       "worldnews          10145\n",
       "News                9050\n",
       "politics            6836\n",
       "left-news           4456\n",
       "Government News     1568\n",
       "US_News              783\n",
       "Middle-east          778\n",
       "Name: subject, dtype: int64"
      ]
     },
     "execution_count": 79,
     "metadata": {},
     "output_type": "execute_result"
    }
   ],
   "source": [
    "news.subject.value_counts()"
   ]
  },
  {
   "cell_type": "markdown",
   "metadata": {},
   "source": [
    "### What does title and text look like, can we get a source, author or similar from each of them?"
   ]
  },
  {
   "cell_type": "code",
   "execution_count": 36,
   "metadata": {},
   "outputs": [
    {
     "data": {
      "text/plain": [
       "'As we can see, for real news, the source is at the beginning before a dash'"
      ]
     },
     "execution_count": 36,
     "metadata": {},
     "output_type": "execute_result"
    }
   ],
   "source": [
    "news.text.loc[news['subject']== 'worldnews'] \n",
    "\n",
    "'As we can see, for real news, the source is at the beginning before a dash'"
   ]
  },
  {
   "cell_type": "code",
   "execution_count": 37,
   "metadata": {},
   "outputs": [
    {
     "data": {
      "text/plain": [
       "'JAKARTA (Reuters) - Indonesia will buy 11 Sukhoi fighter jets worth $1.14 billion from Russia in exchange for cash and Indonesian commodities, two cabinet ministers said on Tuesday. The Southeast Asian country has pledged to ship up to $570 million worth of commodities in addition to cash to pay for the Suhkoi SU-35 fighter jets, which are expected to be delivered in stages starting in two years. Indonesian Trade Minister Enggartiasto Lukita said in a joint statement with Defence Minister Ryamizard Ryacudu that details of the type and volume of commodities were  still being negotiated . Previously he had said the exports could include palm oil, tea, and coffee. The deal is expected to be finalised soon between Indonesian state trading company PT Perusahaan Perdangangan Indonesia and Russian state conglomerate Rostec. Russia is currently facing a new round of U.S.-imposed trade sanctions. Meanwhile, Southeast Asia s largest economy is trying to promote its palm oil products amid threats of a cut in consumption by European Union countries. Indonesia is also trying to modernize its ageing air force after a string of military aviation accidents. Indonesia, which had a $411 million trade surplus with Russia in 2016, wants to expand bilateral cooperation in tourism, education, energy, technology and aviation among others. '"
      ]
     },
     "execution_count": 37,
     "metadata": {},
     "output_type": "execute_result"
    }
   ],
   "source": [
    "news.text[44897]"
   ]
  },
  {
   "cell_type": "code",
   "execution_count": 38,
   "metadata": {},
   "outputs": [
    {
     "data": {
      "text/plain": [
       "17461    Barbra Streisand was an Obama sycophant and on...\n",
       "17462    Everyone suspected the sketchy Steele Dossier ...\n",
       "17463    It s been said that good fences make good neig...\n",
       "17464    The latest video from Campus Reform shows just...\n",
       "17465    Friday on MSNBC, climate activist Bill Nye war...\n",
       "                               ...                        \n",
       "21915    Don t you just love an entitled IRS lawyer who...\n",
       "21916    This is a sad commentary on a generation who h...\n",
       "21917    Yeah that whole  taking up arms  thing seems t...\n",
       "21918    In case you missed it Sen. Harry Reid (R-NV), ...\n",
       "21919    The irony here isn t lost on us. Hillary is be...\n",
       "Name: text, Length: 4456, dtype: object"
      ]
     },
     "execution_count": 38,
     "metadata": {},
     "output_type": "execute_result"
    }
   ],
   "source": [
    "news.text.loc[news['subject']== 'left-news'] "
   ]
  },
  {
   "cell_type": "code",
   "execution_count": 39,
   "metadata": {},
   "outputs": [
    {
     "data": {
      "text/plain": [
       "'Don t you just love an entitled IRS lawyer who claims she can t be fired? What s even better is she was an ethics lawyer who really had no ethics at all. She was fired from the IRS but just yesterday was disbarred.A lawyer who worked in the IRS ethics office was disbarred Thursday by the District of Columbia Court of Appeals, which concluded she misappropriated a client s funds from a case she handled in private practice, broke a number of ethics rules and showed  reckless disregard for the truth  in misleading a disbarment panel looking into the matter.The lawyer, Takisha Brown, reportedly had bragged that she would never be punished because her boss would protect her, but an IRS spokesman said Wednesday that she was no longer an employee at the agency. Our records indicate that this employee no longer works for the IRS,  spokesman Matthew Leas said, though he wouldn t comment further on the case, which became another black eye for the embattled tax agency when The Washington Times first reported on it last year.Ms. Brown had her licenses suspended and then was disbarred after misusing money she won for a client in an automobile accident case. Under terms of the deal, Ms. Brown was to use part of the settlement to pay the victim s medical bills, but the lawyer withdrew the money herself and ignored repeated requests from the client s physicians to make good on the bills, the appeals court said.Ms. Brown also misled a disbarment hearing panel when it began looking into the matter, the court said. The record amply supports the conclusions that Ms. Brown intentionally misappropriated funds and made false statements with reckless disregard for the truth,  the appeals court concluded in a 14-page order finalizing her disbarment.Read more: WASHINGTON TIMES'"
      ]
     },
     "execution_count": 39,
     "metadata": {},
     "output_type": "execute_result"
    }
   ],
   "source": [
    "news.text[21915]"
   ]
  },
  {
   "cell_type": "code",
   "execution_count": 40,
   "metadata": {},
   "outputs": [
    {
     "data": {
      "text/plain": [
       "'It seems we can obtain the source of the news either from the first sentence or the last'"
      ]
     },
     "execution_count": 40,
     "metadata": {},
     "output_type": "execute_result"
    }
   ],
   "source": [
    "'It seems we can obtain the source of the news either from the first sentence or the last'"
   ]
  },
  {
   "cell_type": "code",
   "execution_count": 45,
   "metadata": {},
   "outputs": [
    {
     "data": {
      "text/html": [
       "<div>\n",
       "<style scoped>\n",
       "    .dataframe tbody tr th:only-of-type {\n",
       "        vertical-align: middle;\n",
       "    }\n",
       "\n",
       "    .dataframe tbody tr th {\n",
       "        vertical-align: top;\n",
       "    }\n",
       "\n",
       "    .dataframe thead th {\n",
       "        text-align: right;\n",
       "    }\n",
       "</style>\n",
       "<table border=\"1\" class=\"dataframe\">\n",
       "  <thead>\n",
       "    <tr style=\"text-align: right;\">\n",
       "      <th></th>\n",
       "      <th>title</th>\n",
       "      <th>text</th>\n",
       "      <th>subject</th>\n",
       "      <th>date</th>\n",
       "      <th>Type</th>\n",
       "    </tr>\n",
       "  </thead>\n",
       "  <tbody>\n",
       "    <tr>\n",
       "      <th>0</th>\n",
       "      <td>Donald Trump Sends Out Embarrassing New Year’...</td>\n",
       "      <td>Donald Trump just couldn t wish all Americans ...</td>\n",
       "      <td>News</td>\n",
       "      <td>2017-12-31</td>\n",
       "      <td>1</td>\n",
       "    </tr>\n",
       "    <tr>\n",
       "      <th>2</th>\n",
       "      <td>Sheriff David Clarke Becomes An Internet Joke...</td>\n",
       "      <td>On Friday, it was revealed that former Milwauk...</td>\n",
       "      <td>News</td>\n",
       "      <td>2017-12-30</td>\n",
       "      <td>1</td>\n",
       "    </tr>\n",
       "    <tr>\n",
       "      <th>3</th>\n",
       "      <td>Trump Is So Obsessed He Even Has Obama’s Name...</td>\n",
       "      <td>On Christmas day, Donald Trump announced that ...</td>\n",
       "      <td>News</td>\n",
       "      <td>2017-12-29</td>\n",
       "      <td>1</td>\n",
       "    </tr>\n",
       "    <tr>\n",
       "      <th>11</th>\n",
       "      <td>WATCH: Paul Ryan Just Told Us He Doesn’t Care...</td>\n",
       "      <td>Republicans are working overtime trying to sel...</td>\n",
       "      <td>News</td>\n",
       "      <td>2017-12-21</td>\n",
       "      <td>1</td>\n",
       "    </tr>\n",
       "    <tr>\n",
       "      <th>13</th>\n",
       "      <td>WATCH: Lindsey Graham Trashes Media For Portr...</td>\n",
       "      <td>The media has been talking all day about Trump...</td>\n",
       "      <td>News</td>\n",
       "      <td>2017-12-20</td>\n",
       "      <td>1</td>\n",
       "    </tr>\n",
       "    <tr>\n",
       "      <th>...</th>\n",
       "      <td>...</td>\n",
       "      <td>...</td>\n",
       "      <td>...</td>\n",
       "      <td>...</td>\n",
       "      <td>...</td>\n",
       "    </tr>\n",
       "    <tr>\n",
       "      <th>44151</th>\n",
       "      <td>U.S. airlines scramble to evacuate residents a...</td>\n",
       "      <td>(Reuters) - Airlines were racing against the c...</td>\n",
       "      <td>worldnews</td>\n",
       "      <td>2017-09-07</td>\n",
       "      <td>0</td>\n",
       "    </tr>\n",
       "    <tr>\n",
       "      <th>44167</th>\n",
       "      <td>Florida cites complaints over Chevron gas pric...</td>\n",
       "      <td>NEW YORK (Reuters) - Florida Attorney General ...</td>\n",
       "      <td>worldnews</td>\n",
       "      <td>2017-09-07</td>\n",
       "      <td>0</td>\n",
       "    </tr>\n",
       "    <tr>\n",
       "      <th>44532</th>\n",
       "      <td>South Korea's Moon faces calls to alter policy...</td>\n",
       "      <td>SEOUL (Reuters) - North Korea has been condemn...</td>\n",
       "      <td>worldnews</td>\n",
       "      <td>2017-09-04</td>\n",
       "      <td>0</td>\n",
       "    </tr>\n",
       "    <tr>\n",
       "      <th>44825</th>\n",
       "      <td>Samsung leader Jay Y. Lee given five-year jail...</td>\n",
       "      <td>SEOUL (Reuters) - The billionaire head of Sout...</td>\n",
       "      <td>worldnews</td>\n",
       "      <td>2017-08-24</td>\n",
       "      <td>0</td>\n",
       "    </tr>\n",
       "    <tr>\n",
       "      <th>44828</th>\n",
       "      <td>Downfall of ex-Samsung strategy chief leaves '...</td>\n",
       "      <td>SEOUL (Reuters) - Over four decades, Choi Gee-...</td>\n",
       "      <td>worldnews</td>\n",
       "      <td>2017-08-25</td>\n",
       "      <td>0</td>\n",
       "    </tr>\n",
       "  </tbody>\n",
       "</table>\n",
       "<p>5170 rows × 5 columns</p>\n",
       "</div>"
      ],
      "text/plain": [
       "                                                   title  \\\n",
       "0       Donald Trump Sends Out Embarrassing New Year’...   \n",
       "2       Sheriff David Clarke Becomes An Internet Joke...   \n",
       "3       Trump Is So Obsessed He Even Has Obama’s Name...   \n",
       "11      WATCH: Paul Ryan Just Told Us He Doesn’t Care...   \n",
       "13      WATCH: Lindsey Graham Trashes Media For Portr...   \n",
       "...                                                  ...   \n",
       "44151  U.S. airlines scramble to evacuate residents a...   \n",
       "44167  Florida cites complaints over Chevron gas pric...   \n",
       "44532  South Korea's Moon faces calls to alter policy...   \n",
       "44825  Samsung leader Jay Y. Lee given five-year jail...   \n",
       "44828  Downfall of ex-Samsung strategy chief leaves '...   \n",
       "\n",
       "                                                    text    subject  \\\n",
       "0      Donald Trump just couldn t wish all Americans ...       News   \n",
       "2      On Friday, it was revealed that former Milwauk...       News   \n",
       "3      On Christmas day, Donald Trump announced that ...       News   \n",
       "11     Republicans are working overtime trying to sel...       News   \n",
       "13     The media has been talking all day about Trump...       News   \n",
       "...                                                  ...        ...   \n",
       "44151  (Reuters) - Airlines were racing against the c...  worldnews   \n",
       "44167  NEW YORK (Reuters) - Florida Attorney General ...  worldnews   \n",
       "44532  SEOUL (Reuters) - North Korea has been condemn...  worldnews   \n",
       "44825  SEOUL (Reuters) - The billionaire head of Sout...  worldnews   \n",
       "44828  SEOUL (Reuters) - Over four decades, Choi Gee-...  worldnews   \n",
       "\n",
       "            date  Type  \n",
       "0     2017-12-31     1  \n",
       "2     2017-12-30     1  \n",
       "3     2017-12-29     1  \n",
       "11    2017-12-21     1  \n",
       "13    2017-12-20     1  \n",
       "...          ...   ...  \n",
       "44151 2017-09-07     0  \n",
       "44167 2017-09-07     0  \n",
       "44532 2017-09-04     0  \n",
       "44825 2017-08-24     0  \n",
       "44828 2017-08-25     0  \n",
       "\n",
       "[5170 rows x 5 columns]"
      ]
     },
     "execution_count": 45,
     "metadata": {},
     "output_type": "execute_result"
    }
   ],
   "source": [
    "news.loc[news['text'].str.contains('\\.com')]"
   ]
  },
  {
   "cell_type": "markdown",
   "metadata": {},
   "source": [
    "### Is there any difference between the lenght of fake and real news?"
   ]
  },
  {
   "cell_type": "code",
   "execution_count": 163,
   "metadata": {},
   "outputs": [],
   "source": [
    "news['lenght'] = [len(news) for news in news.text]   "
   ]
  },
  {
   "cell_type": "code",
   "execution_count": 165,
   "metadata": {
    "scrolled": true
   },
   "outputs": [
    {
     "data": {
      "text/plain": [
       "<matplotlib.axes._subplots.AxesSubplot at 0x13cb01dc0>"
      ]
     },
     "execution_count": 165,
     "metadata": {},
     "output_type": "execute_result"
    },
    {
     "data": {
      "image/png": "[encoded data removed]",
      "text/plain": [
       "<Figure size 432x288 with 1 Axes>"
      ]
     },
     "metadata": {
      "needs_background": "light"
     },
     "output_type": "display_data"
    }
   ],
   "source": [
    "sns.boxplot(x=\"Type\", \n",
    "            y=\"lenght\",\n",
    "            hue=\"Type\",\n",
    "            data=news)"
   ]
  },
  {
   "cell_type": "markdown",
   "metadata": {},
   "source": [
    "It seems that fake news have more words on them. True news tend to be shorter."
   ]
  },
  {
   "cell_type": "code",
   "execution_count": 172,
   "metadata": {},
   "outputs": [
    {
     "data": {
      "text/plain": [
       "Type\n",
       "0    2383.278517\n",
       "1    2548.422777\n",
       "Name: lenght, dtype: float64"
      ]
     },
     "execution_count": 172,
     "metadata": {},
     "output_type": "execute_result"
    }
   ],
   "source": [
    "news.groupby(['Type'])['lenght'].mean()"
   ]
  },
  {
   "cell_type": "code",
   "execution_count": 173,
   "metadata": {},
   "outputs": [
    {
     "data": {
      "text/plain": [
       "Type\n",
       "0    2222\n",
       "1    2166\n",
       "Name: lenght, dtype: int64"
      ]
     },
     "execution_count": 173,
     "metadata": {},
     "output_type": "execute_result"
    }
   ],
   "source": [
    "news.groupby(['Type'])['lenght'].median()"
   ]
  },
  {
   "cell_type": "code",
   "execution_count": 174,
   "metadata": {},
   "outputs": [
    {
     "data": {
      "text/plain": [
       "Type\n",
       "0    1\n",
       "1    1\n",
       "Name: lenght, dtype: int64"
      ]
     },
     "execution_count": 174,
     "metadata": {},
     "output_type": "execute_result"
    }
   ],
   "source": [
    "news.groupby(['Type'])['lenght'].min()"
   ]
  },
  {
   "cell_type": "code",
   "execution_count": 175,
   "metadata": {},
   "outputs": [
    {
     "data": {
      "text/plain": [
       "Type\n",
       "0    29781\n",
       "1    51794\n",
       "Name: lenght, dtype: int64"
      ]
     },
     "execution_count": 175,
     "metadata": {},
     "output_type": "execute_result"
    }
   ],
   "source": [
    "news.groupby(['Type'])['lenght'].max()"
   ]
  },
  {
   "cell_type": "markdown",
   "metadata": {},
   "source": [
    "### What is the topic or most common non stop word in the news? And per subject? Does it change depending on the realness of the news?"
   ]
  },
  {
   "cell_type": "code",
   "execution_count": null,
   "metadata": {},
   "outputs": [],
   "source": []
  },
  {
   "cell_type": "code",
   "execution_count": null,
   "metadata": {},
   "outputs": [],
   "source": []
  },
  {
   "cell_type": "markdown",
   "metadata": {},
   "source": [
    "### Are there any duplicated news in the set?"
   ]
  },
  {
   "cell_type": "code",
   "execution_count": 187,
   "metadata": {
    "scrolled": true
   },
   "outputs": [],
   "source": [
    "news['duplicate'] = news.duplicated(subset=['text'])"
   ]
  },
  {
   "cell_type": "code",
   "execution_count": 188,
   "metadata": {},
   "outputs": [
    {
     "data": {
      "text/plain": [
       "duplicate  Type\n",
       "False      0       21191\n",
       "           1       17449\n",
       "True       0         226\n",
       "           1        6022\n",
       "Name: Type, dtype: int64"
      ]
     },
     "execution_count": 188,
     "metadata": {},
     "output_type": "execute_result"
    }
   ],
   "source": [
    "news.groupby(['duplicate', 'Type']).Type.count()"
   ]
  },
  {
   "cell_type": "markdown",
   "metadata": {},
   "source": [
    "There are 226 real news that are duplicated and 6022 fake news that are duplicates."
   ]
  },
  {
   "cell_type": "code",
   "execution_count": 189,
   "metadata": {},
   "outputs": [],
   "source": [
    "news['duplicate'] = news.duplicated(subset=['title'])"
   ]
  },
  {
   "cell_type": "code",
   "execution_count": 190,
   "metadata": {},
   "outputs": [
    {
     "data": {
      "text/plain": [
       "duplicate  Type\n",
       "False      0       20826\n",
       "           1       17897\n",
       "True       0         591\n",
       "           1        5574\n",
       "Name: Type, dtype: int64"
      ]
     },
     "execution_count": 190,
     "metadata": {},
     "output_type": "execute_result"
    }
   ],
   "source": [
    "news.groupby(['duplicate', 'Type']).Type.count()"
   ]
  },
  {
   "cell_type": "markdown",
   "metadata": {},
   "source": [
    "### Is politics news and politics the same type of new? And news vs government news?"
   ]
  },
  {
   "cell_type": "markdown",
   "metadata": {},
   "source": [
    "We create a word map for politics News and politics to understand if the main keywords are similar"
   ]
  },
  {
   "cell_type": "code",
   "execution_count": 128,
   "metadata": {},
   "outputs": [
    {
     "ename": "LookupError",
     "evalue": "\n**********************************************************************\n  Resource \u001b[93mstopwords\u001b[0m not found.\n  Please use the NLTK Downloader to obtain the resource:\n\n  \u001b[31m>>> import nltk\n  >>> nltk.download('stopwords')\n  \u001b[0m\n  For more information see: https://www.nltk.org/data.html\n\n  Attempted to load \u001b[93mcorpora/stopwords\u001b[0m\n\n  Searched in:\n    - '/Users/paulabarge/nltk_data'\n    - '/usr/local/Cellar/jupyterlab/2.1.2/libexec/bin/../nltk_data'\n    - '/usr/local/Cellar/jupyterlab/2.1.2/libexec/bin/../share/nltk_data'\n    - '/usr/local/Cellar/jupyterlab/2.1.2/libexec/bin/../lib/nltk_data'\n    - '/usr/share/nltk_data'\n    - '/usr/local/share/nltk_data'\n    - '/usr/lib/nltk_data'\n    - '/usr/local/lib/nltk_data'\n**********************************************************************\n",
     "output_type": "error",
     "traceback": [
      "\u001b[0;31m---------------------------------------------------------------------------\u001b[0m",
      "\u001b[0;31mLookupError\u001b[0m                               Traceback (most recent call last)",
      "\u001b[0;32m/usr/local/Cellar/jupyterlab/2.1.2/libexec/lib/python3.8/site-packages/nltk/corpus/util.py\u001b[0m in \u001b[0;36m__load\u001b[0;34m(self)\u001b[0m\n\u001b[1;32m     82\u001b[0m                 \u001b[0;32mtry\u001b[0m\u001b[0;34m:\u001b[0m\u001b[0;34m\u001b[0m\u001b[0;34m\u001b[0m\u001b[0m\n\u001b[0;32m---> 83\u001b[0;31m                     \u001b[0mroot\u001b[0m \u001b[0;34m=\u001b[0m \u001b[0mnltk\u001b[0m\u001b[0;34m.\u001b[0m\u001b[0mdata\u001b[0m\u001b[0;34m.\u001b[0m\u001b[0mfind\u001b[0m\u001b[0;34m(\u001b[0m\u001b[0;34m\"{}/{}\"\u001b[0m\u001b[0;34m.\u001b[0m\u001b[0mformat\u001b[0m\u001b[0;34m(\u001b[0m\u001b[0mself\u001b[0m\u001b[0;34m.\u001b[0m\u001b[0msubdir\u001b[0m\u001b[0;34m,\u001b[0m \u001b[0mzip_name\u001b[0m\u001b[0;34m)\u001b[0m\u001b[0;34m)\u001b[0m\u001b[0;34m\u001b[0m\u001b[0;34m\u001b[0m\u001b[0m\n\u001b[0m\u001b[1;32m     84\u001b[0m                 \u001b[0;32mexcept\u001b[0m \u001b[0mLookupError\u001b[0m\u001b[0;34m:\u001b[0m\u001b[0;34m\u001b[0m\u001b[0;34m\u001b[0m\u001b[0m\n",
      "\u001b[0;32m/usr/local/Cellar/jupyterlab/2.1.2/libexec/lib/python3.8/site-packages/nltk/data.py\u001b[0m in \u001b[0;36mfind\u001b[0;34m(resource_name, paths)\u001b[0m\n\u001b[1;32m    584\u001b[0m     \u001b[0mresource_not_found\u001b[0m \u001b[0;34m=\u001b[0m \u001b[0;34m\"\\n%s\\n%s\\n%s\\n\"\u001b[0m \u001b[0;34m%\u001b[0m \u001b[0;34m(\u001b[0m\u001b[0msep\u001b[0m\u001b[0;34m,\u001b[0m \u001b[0mmsg\u001b[0m\u001b[0;34m,\u001b[0m \u001b[0msep\u001b[0m\u001b[0;34m)\u001b[0m\u001b[0;34m\u001b[0m\u001b[0;34m\u001b[0m\u001b[0m\n\u001b[0;32m--> 585\u001b[0;31m     \u001b[0;32mraise\u001b[0m \u001b[0mLookupError\u001b[0m\u001b[0;34m(\u001b[0m\u001b[0mresource_not_found\u001b[0m\u001b[0;34m)\u001b[0m\u001b[0;34m\u001b[0m\u001b[0;34m\u001b[0m\u001b[0m\n\u001b[0m\u001b[1;32m    586\u001b[0m \u001b[0;34m\u001b[0m\u001b[0m\n",
      "\u001b[0;31mLookupError\u001b[0m: \n**********************************************************************\n  Resource \u001b[93mstopwords\u001b[0m not found.\n  Please use the NLTK Downloader to obtain the resource:\n\n  \u001b[31m>>> import nltk\n  >>> nltk.download('stopwords')\n  \u001b[0m\n  For more information see: https://www.nltk.org/data.html\n\n  Attempted to load \u001b[93mcorpora/stopwords.zip/stopwords/\u001b[0m\n\n  Searched in:\n    - '/Users/paulabarge/nltk_data'\n    - '/usr/local/Cellar/jupyterlab/2.1.2/libexec/bin/../nltk_data'\n    - '/usr/local/Cellar/jupyterlab/2.1.2/libexec/bin/../share/nltk_data'\n    - '/usr/local/Cellar/jupyterlab/2.1.2/libexec/bin/../lib/nltk_data'\n    - '/usr/share/nltk_data'\n    - '/usr/local/share/nltk_data'\n    - '/usr/lib/nltk_data'\n    - '/usr/local/lib/nltk_data'\n**********************************************************************\n",
      "\nDuring handling of the above exception, another exception occurred:\n",
      "\u001b[0;31mLookupError\u001b[0m                               Traceback (most recent call last)",
      "\u001b[0;32m<ipython-input-128-8808bd50583c>\u001b[0m in \u001b[0;36m<module>\u001b[0;34m\u001b[0m\n\u001b[1;32m      9\u001b[0m     \u001b[0mheight\u001b[0m \u001b[0;34m=\u001b[0m \u001b[0;36m2000\u001b[0m\u001b[0;34m,\u001b[0m\u001b[0;34m\u001b[0m\u001b[0;34m\u001b[0m\u001b[0m\n\u001b[1;32m     10\u001b[0m     \u001b[0mbackground_color\u001b[0m \u001b[0;34m=\u001b[0m \u001b[0;34m'white'\u001b[0m\u001b[0;34m,\u001b[0m\u001b[0;34m\u001b[0m\u001b[0;34m\u001b[0m\u001b[0m\n\u001b[0;32m---> 11\u001b[0;31m     stopwords = set(nltk.corpus.stopwords.words(\"english\"))).generate(text)\n\u001b[0m\u001b[1;32m     12\u001b[0m \u001b[0;34m\u001b[0m\u001b[0m\n\u001b[1;32m     13\u001b[0m fig = plt.figure(\n",
      "\u001b[0;32m/usr/local/Cellar/jupyterlab/2.1.2/libexec/lib/python3.8/site-packages/nltk/corpus/util.py\u001b[0m in \u001b[0;36m__getattr__\u001b[0;34m(self, attr)\u001b[0m\n\u001b[1;32m    118\u001b[0m             \u001b[0;32mraise\u001b[0m \u001b[0mAttributeError\u001b[0m\u001b[0;34m(\u001b[0m\u001b[0;34m\"LazyCorpusLoader object has no attribute '__bases__'\"\u001b[0m\u001b[0;34m)\u001b[0m\u001b[0;34m\u001b[0m\u001b[0;34m\u001b[0m\u001b[0m\n\u001b[1;32m    119\u001b[0m \u001b[0;34m\u001b[0m\u001b[0m\n\u001b[0;32m--> 120\u001b[0;31m         \u001b[0mself\u001b[0m\u001b[0;34m.\u001b[0m\u001b[0m__load\u001b[0m\u001b[0;34m(\u001b[0m\u001b[0;34m)\u001b[0m\u001b[0;34m\u001b[0m\u001b[0;34m\u001b[0m\u001b[0m\n\u001b[0m\u001b[1;32m    121\u001b[0m         \u001b[0;31m# This looks circular, but its not, since __load() changes our\u001b[0m\u001b[0;34m\u001b[0m\u001b[0;34m\u001b[0m\u001b[0;34m\u001b[0m\u001b[0m\n\u001b[1;32m    122\u001b[0m         \u001b[0;31m# __class__ to something new:\u001b[0m\u001b[0;34m\u001b[0m\u001b[0;34m\u001b[0m\u001b[0;34m\u001b[0m\u001b[0m\n",
      "\u001b[0;32m/usr/local/Cellar/jupyterlab/2.1.2/libexec/lib/python3.8/site-packages/nltk/corpus/util.py\u001b[0m in \u001b[0;36m__load\u001b[0;34m(self)\u001b[0m\n\u001b[1;32m     83\u001b[0m                     \u001b[0mroot\u001b[0m \u001b[0;34m=\u001b[0m \u001b[0mnltk\u001b[0m\u001b[0;34m.\u001b[0m\u001b[0mdata\u001b[0m\u001b[0;34m.\u001b[0m\u001b[0mfind\u001b[0m\u001b[0;34m(\u001b[0m\u001b[0;34m\"{}/{}\"\u001b[0m\u001b[0;34m.\u001b[0m\u001b[0mformat\u001b[0m\u001b[0;34m(\u001b[0m\u001b[0mself\u001b[0m\u001b[0;34m.\u001b[0m\u001b[0msubdir\u001b[0m\u001b[0;34m,\u001b[0m \u001b[0mzip_name\u001b[0m\u001b[0;34m)\u001b[0m\u001b[0;34m)\u001b[0m\u001b[0;34m\u001b[0m\u001b[0;34m\u001b[0m\u001b[0m\n\u001b[1;32m     84\u001b[0m                 \u001b[0;32mexcept\u001b[0m \u001b[0mLookupError\u001b[0m\u001b[0;34m:\u001b[0m\u001b[0;34m\u001b[0m\u001b[0;34m\u001b[0m\u001b[0m\n\u001b[0;32m---> 85\u001b[0;31m                     \u001b[0;32mraise\u001b[0m \u001b[0me\u001b[0m\u001b[0;34m\u001b[0m\u001b[0;34m\u001b[0m\u001b[0m\n\u001b[0m\u001b[1;32m     86\u001b[0m \u001b[0;34m\u001b[0m\u001b[0m\n\u001b[1;32m     87\u001b[0m         \u001b[0;31m# Load the corpus.\u001b[0m\u001b[0;34m\u001b[0m\u001b[0;34m\u001b[0m\u001b[0;34m\u001b[0m\u001b[0m\n",
      "\u001b[0;32m/usr/local/Cellar/jupyterlab/2.1.2/libexec/lib/python3.8/site-packages/nltk/corpus/util.py\u001b[0m in \u001b[0;36m__load\u001b[0;34m(self)\u001b[0m\n\u001b[1;32m     78\u001b[0m         \u001b[0;32melse\u001b[0m\u001b[0;34m:\u001b[0m\u001b[0;34m\u001b[0m\u001b[0;34m\u001b[0m\u001b[0m\n\u001b[1;32m     79\u001b[0m             \u001b[0;32mtry\u001b[0m\u001b[0;34m:\u001b[0m\u001b[0;34m\u001b[0m\u001b[0;34m\u001b[0m\u001b[0m\n\u001b[0;32m---> 80\u001b[0;31m                 \u001b[0mroot\u001b[0m \u001b[0;34m=\u001b[0m \u001b[0mnltk\u001b[0m\u001b[0;34m.\u001b[0m\u001b[0mdata\u001b[0m\u001b[0;34m.\u001b[0m\u001b[0mfind\u001b[0m\u001b[0;34m(\u001b[0m\u001b[0;34m\"{}/{}\"\u001b[0m\u001b[0;34m.\u001b[0m\u001b[0mformat\u001b[0m\u001b[0;34m(\u001b[0m\u001b[0mself\u001b[0m\u001b[0;34m.\u001b[0m\u001b[0msubdir\u001b[0m\u001b[0;34m,\u001b[0m \u001b[0mself\u001b[0m\u001b[0;34m.\u001b[0m\u001b[0m__name\u001b[0m\u001b[0;34m)\u001b[0m\u001b[0;34m)\u001b[0m\u001b[0;34m\u001b[0m\u001b[0;34m\u001b[0m\u001b[0m\n\u001b[0m\u001b[1;32m     81\u001b[0m             \u001b[0;32mexcept\u001b[0m \u001b[0mLookupError\u001b[0m \u001b[0;32mas\u001b[0m \u001b[0me\u001b[0m\u001b[0;34m:\u001b[0m\u001b[0;34m\u001b[0m\u001b[0;34m\u001b[0m\u001b[0m\n\u001b[1;32m     82\u001b[0m                 \u001b[0;32mtry\u001b[0m\u001b[0;34m:\u001b[0m\u001b[0;34m\u001b[0m\u001b[0;34m\u001b[0m\u001b[0m\n",
      "\u001b[0;32m/usr/local/Cellar/jupyterlab/2.1.2/libexec/lib/python3.8/site-packages/nltk/data.py\u001b[0m in \u001b[0;36mfind\u001b[0;34m(resource_name, paths)\u001b[0m\n\u001b[1;32m    583\u001b[0m     \u001b[0msep\u001b[0m \u001b[0;34m=\u001b[0m \u001b[0;34m\"*\"\u001b[0m \u001b[0;34m*\u001b[0m \u001b[0;36m70\u001b[0m\u001b[0;34m\u001b[0m\u001b[0;34m\u001b[0m\u001b[0m\n\u001b[1;32m    584\u001b[0m     \u001b[0mresource_not_found\u001b[0m \u001b[0;34m=\u001b[0m \u001b[0;34m\"\\n%s\\n%s\\n%s\\n\"\u001b[0m \u001b[0;34m%\u001b[0m \u001b[0;34m(\u001b[0m\u001b[0msep\u001b[0m\u001b[0;34m,\u001b[0m \u001b[0mmsg\u001b[0m\u001b[0;34m,\u001b[0m \u001b[0msep\u001b[0m\u001b[0;34m)\u001b[0m\u001b[0;34m\u001b[0m\u001b[0;34m\u001b[0m\u001b[0m\n\u001b[0;32m--> 585\u001b[0;31m     \u001b[0;32mraise\u001b[0m \u001b[0mLookupError\u001b[0m\u001b[0;34m(\u001b[0m\u001b[0mresource_not_found\u001b[0m\u001b[0;34m)\u001b[0m\u001b[0;34m\u001b[0m\u001b[0;34m\u001b[0m\u001b[0m\n\u001b[0m\u001b[1;32m    586\u001b[0m \u001b[0;34m\u001b[0m\u001b[0m\n\u001b[1;32m    587\u001b[0m \u001b[0;34m\u001b[0m\u001b[0m\n",
      "\u001b[0;31mLookupError\u001b[0m: \n**********************************************************************\n  Resource \u001b[93mstopwords\u001b[0m not found.\n  Please use the NLTK Downloader to obtain the resource:\n\n  \u001b[31m>>> import nltk\n  >>> nltk.download('stopwords')\n  \u001b[0m\n  For more information see: https://www.nltk.org/data.html\n\n  Attempted to load \u001b[93mcorpora/stopwords\u001b[0m\n\n  Searched in:\n    - '/Users/paulabarge/nltk_data'\n    - '/usr/local/Cellar/jupyterlab/2.1.2/libexec/bin/../nltk_data'\n    - '/usr/local/Cellar/jupyterlab/2.1.2/libexec/bin/../share/nltk_data'\n    - '/usr/local/Cellar/jupyterlab/2.1.2/libexec/bin/../lib/nltk_data'\n    - '/usr/share/nltk_data'\n    - '/usr/local/share/nltk_data'\n    - '/usr/lib/nltk_data'\n    - '/usr/local/lib/nltk_data'\n**********************************************************************\n"
     ]
    }
   ],
   "source": [
    "#Word Cloud\n",
    "\n",
    "text = ''\n",
    "for article in news.text.values:\n",
    "    text += f\" {article}\"\n",
    "    \n",
    "wordcloud = WordCloud(\n",
    "    width = 3000,\n",
    "    height = 2000,\n",
    "    background_color = 'white',\n",
    "    stopwords = set(nltk.corpus.stopwords.words(\"english\"))).generate(text)\n",
    "\n",
    "fig = plt.figure(\n",
    "    figsize = (40, 30),\n",
    "    facecolor = 'k',\n",
    "    edgecolor = 'k')\n",
    "plt.imshow(wordcloud, interpolation = 'bilinear')\n",
    "plt.axis('off')\n",
    "plt.tight_layout(pad=0)\n",
    "plt.show()\n",
    "del text"
   ]
  },
  {
   "cell_type": "code",
   "execution_count": null,
   "metadata": {},
   "outputs": [],
   "source": []
  }
 ],
 "metadata": {
  "kernelspec": {
   "display_name": "Python 3",
   "language": "python",
   "name": "python3"
  },
  "language_info": {
   "codemirror_mode": {
    "name": "ipython",
    "version": 3
   },
   "file_extension": ".py",
   "mimetype": "text/x-python",
   "name": "python",
   "nbconvert_exporter": "python",
   "pygments_lexer": "ipython3",
   "version": "3.8.2"
  }
 },
 "nbformat": 4,
 "nbformat_minor": 4
}
